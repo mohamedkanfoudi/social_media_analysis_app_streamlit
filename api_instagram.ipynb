{
 "cells": [
  {
   "cell_type": "code",
   "execution_count": 44,
   "metadata": {},
   "outputs": [
    {
     "name": "stdout",
     "output_type": "stream",
     "text": [
      "post date: 2022-07-06 08:42:47\n",
      "post profile: hadithapp2022\n",
      "post caption: لحمدلله \n",
      "أقدم لكم النسخة الأولى من تطبيق حفظ الحديث النبوي\n",
      "التطبيق الأول من نوعه عربيا \n",
      "يسمح لكم بالحفظ ثم المراجعة مع عدة اختبارات لولوج مستوى أعلى \n",
      "لتحميل التطبيق :\n",
      "https://play.google.com/store/apps/details?id=com.tanxe.hadith2022\n",
      "في انتظار إصدار التحديث الثاني\n",
      "قم بعمل إعجاب لصفحة تطبيق حفظ الحديث النبوي ليصلك كل جديد:\n",
      "https://www.facebook.com/HadithsApp\n",
      "فيديو ترويجي للتطبيق مع تقديم مميزاته :\n",
      "https://youtu.be/TG5Qst3vnUk\n",
      "شارك التطبيق مع العالم ليستفيد الجميع🥰\n",
      "post location: None\n",
      "post url: https://www.instagram.com/p/Cfqh371qT5L\n",
      "\n",
      "\n",
      "\n"
     ]
    }
   ],
   "source": [
    "\n",
    "import instaloader\n",
    "from datetime import datetime\n",
    "from itertools import dropwhile, takewhile\n",
    "import csv\n",
    "import pandas as pd\n",
    "\n",
    "class GetInstagramProfile():\n",
    "    def __init__(self) -> None:\n",
    "        self.L = instaloader.Instaloader()\n",
    "\n",
    "    def download_users_profile_picture(self,username):\n",
    "        self.L.download_profile(username, profile_pic_only=True)\n",
    "\n",
    "    def download_users_posts_with_periods(self,username):\n",
    "        posts = instaloader.Profile.from_username(self.L.context, username).get_posts()\n",
    "        SINCE = datetime(2021, 8, 28)\n",
    "        UNTIL = datetime(2021, 9, 30)\n",
    "\n",
    "        for post in takewhile(lambda p: p.date > SINCE, dropwhile(lambda p: p.date > UNTIL, posts)):\n",
    "            self.L.download_post(post, username)\n",
    "\n",
    "    def download_hastag_posts(self, hashtag):\n",
    "        for post in instaloader.Hashtag.from_name(self.L.context, hashtag).get_posts():\n",
    "            self.L.download_post(post, target='#'+hashtag)\n",
    "\n",
    "    def get_users_followers(self,user_name):\n",
    "        '''Note: login required to get a profile's followers.'''\n",
    "        self.L.login(input(\"input your username: \"), input(\"input your password: \") ) \n",
    "        profile = instaloader.Profile.from_username(self.L.context, user_name)\n",
    "        file = open(\"follower_names.txt\",\"a+\")\n",
    "        for followee in profile.get_followers():\n",
    "            username = followee.username\n",
    "            file.write(username + \"\\n\")\n",
    "            print(username)\n",
    "\n",
    "    def get_users_followings(self,user_name):\n",
    "        '''Note: login required to get a profile's followings.'''\n",
    "        self.L.login(input(\"input your username: \"), input(\"input your password: \") ) \n",
    "        profile = instaloader.Profile.from_username(self.L.context, user_name)\n",
    "        file = open(\"following_names.txt\",\"a+\")\n",
    "        for followee in profile.get_followees():\n",
    "            username = followee.username\n",
    "            file.write(username + \"\\n\")\n",
    "            print(username)\n",
    "\n",
    "    def get_post_comments(self,username):\n",
    "        #self.L.login(input(\"hadithapp2022\"), input(\"\") ) \n",
    "\n",
    "        posts = instaloader.Profile.from_username(self.L.context, username).get_posts()\n",
    "        for post in posts:\n",
    "            for comment in post.get_comments():\n",
    "                print(\"comment.id  : \"+str(comment.id))\n",
    "                print(\"comment.owner.username  : \"+comment.owner.username)\n",
    "                print(\"comment.text  : \"+comment.text)\n",
    "                print(\"comment.created_at_utc  : \"+str(comment.created_at_utc))\n",
    "                print(\"************************************************\")\n",
    "\n",
    "    def get_post_info_csv(self,username):\n",
    "        with open(username+'.csv', 'w', newline='', encoding='utf-8') as file:\n",
    "            writer = csv.writer(file)\n",
    "            #self.L.login(\"hadithapp2022\", \"\" ) \n",
    "            self.L.interactive_login(\"hadithapp2022\")      # (ask password on terminal)\n",
    "            df = pd.DataFrame([[\"2022-08-17 19:53:45\",\"good\",\"me\"]] , columns=['created_time', 'message_text' , 'id']) \n",
    "            posts = instaloader.Profile.from_username(self.L.context, username).get_posts()\n",
    "            for post in posts:\n",
    "                print(\"post date: \"+str(post.date))\n",
    "                print(\"post profile: \"+post.profile)\n",
    "                print(\"post caption: \"+post.caption)\n",
    "                print(\"post location: \"+str(post.location))\n",
    "                \n",
    "                posturl = \"https://www.instagram.com/p/\"+post.shortcode\n",
    "                print(\"post url: \"+posturl)\n",
    "                writer.writerow([\"post\",post.mediaid, post.profile, post.caption, post.date, post.location, posturl,  post.typename, post.mediacount, post.caption_hashtags, post.caption_mentions, post.tagged_users, post.likes, post.comments,  post.title,  post.url ])\n",
    "                \n",
    "\n",
    "                for comment in post.get_comments():\n",
    "                    writer.writerow([\"comment\",comment.id, comment.owner.username,comment.text,comment.created_at_utc])\n",
    "                    #print(\"comment username: \"+comment.owner.username)\n",
    "                    #print(\"comment text: \"+comment.text)\n",
    "                    #print(\"comment date : \"+str(comment.created_at_utc))\n",
    "\n",
    "\n",
    "                    df1 = pd.DataFrame([[str(comment.created_at_utc),comment.text,comment.owner.username]] , columns=['created_time', 'message_text' , 'id']) \n",
    "                    df = df.append(df1)\n",
    "                print(\"\\n\\n\")\n",
    "            df.to_csv('instagram_comments.csv')\n",
    "\n",
    "\n",
    "if __name__==\"__main__\":\n",
    "    cls = GetInstagramProfile()\n",
    "    #cls.download_users_profile_picture(\"best_gadgets_2030\")\n",
    "    #cls.download_users_posts_with_periods(\"best_gadgets_2030\")\n",
    "    #cls.download_hastag_posts(\"gadgets\")\n",
    "    #cls.get_users_followers(\"best_gadgets_2030\")\n",
    "    #cls.get_users_followings(\"best_gadgets_2030\")\n",
    "    #cls.get_post_comments(\"hadithapp2022\")\n",
    "    cls.get_post_info_csv(\"hadithapp2022\")\n"
   ]
  },
  {
   "cell_type": "code",
   "execution_count": 41,
   "metadata": {},
   "outputs": [
    {
     "data": {
      "text/html": [
       "<div>\n",
       "<style scoped>\n",
       "    .dataframe tbody tr th:only-of-type {\n",
       "        vertical-align: middle;\n",
       "    }\n",
       "\n",
       "    .dataframe tbody tr th {\n",
       "        vertical-align: top;\n",
       "    }\n",
       "\n",
       "    .dataframe thead th {\n",
       "        text-align: right;\n",
       "    }\n",
       "</style>\n",
       "<table border=\"1\" class=\"dataframe\">\n",
       "  <thead>\n",
       "    <tr style=\"text-align: right;\">\n",
       "      <th></th>\n",
       "      <th>text</th>\n",
       "      <th>username</th>\n",
       "    </tr>\n",
       "    <tr>\n",
       "      <th>date</th>\n",
       "      <th></th>\n",
       "      <th></th>\n",
       "    </tr>\n",
       "  </thead>\n",
       "  <tbody>\n",
       "    <tr>\n",
       "      <th>2022-08-17 19:53:45</th>\n",
       "      <td>good</td>\n",
       "      <td>me</td>\n",
       "    </tr>\n",
       "  </tbody>\n",
       "</table>\n",
       "</div>"
      ],
      "text/plain": [
       "                     text username\n",
       "date                              \n",
       "2022-08-17 19:53:45  good       me"
      ]
     },
     "execution_count": 41,
     "metadata": {},
     "output_type": "execute_result"
    }
   ],
   "source": [
    "df = pd.DataFrame([[\"2022-08-17 19:53:45\",\"good\",\"me\"]] , columns=['date', 'text' , 'username']) \n",
    "df.set_index('date')\n"
   ]
  },
  {
   "cell_type": "code",
   "execution_count": 47,
   "metadata": {},
   "outputs": [
    {
     "data": {
      "text/html": [
       "<div>\n",
       "<style scoped>\n",
       "    .dataframe tbody tr th:only-of-type {\n",
       "        vertical-align: middle;\n",
       "    }\n",
       "\n",
       "    .dataframe tbody tr th {\n",
       "        vertical-align: top;\n",
       "    }\n",
       "\n",
       "    .dataframe thead th {\n",
       "        text-align: right;\n",
       "    }\n",
       "</style>\n",
       "<table border=\"1\" class=\"dataframe\">\n",
       "  <thead>\n",
       "    <tr style=\"text-align: right;\">\n",
       "      <th></th>\n",
       "      <th>Unnamed: 0</th>\n",
       "      <th>created_time</th>\n",
       "      <th>message_text</th>\n",
       "      <th>id</th>\n",
       "    </tr>\n",
       "  </thead>\n",
       "  <tbody>\n",
       "    <tr>\n",
       "      <th>0</th>\n",
       "      <td>0</td>\n",
       "      <td>2022-08-17 19:53:45</td>\n",
       "      <td>good</td>\n",
       "      <td>me</td>\n",
       "    </tr>\n",
       "    <tr>\n",
       "      <th>1</th>\n",
       "      <td>0</td>\n",
       "      <td>2022-08-17 15:32:18</td>\n",
       "      <td>good</td>\n",
       "      <td>hadithapp2022</td>\n",
       "    </tr>\n",
       "    <tr>\n",
       "      <th>2</th>\n",
       "      <td>0</td>\n",
       "      <td>2022-08-17 19:53:45</td>\n",
       "      <td>Nice</td>\n",
       "      <td>mohamed_kanfoudi</td>\n",
       "    </tr>\n",
       "  </tbody>\n",
       "</table>\n",
       "</div>"
      ],
      "text/plain": [
       "   Unnamed: 0         created_time message_text                id\n",
       "0           0  2022-08-17 19:53:45         good                me\n",
       "1           0  2022-08-17 15:32:18         good     hadithapp2022\n",
       "2           0  2022-08-17 19:53:45         Nice  mohamed_kanfoudi"
      ]
     },
     "execution_count": 47,
     "metadata": {},
     "output_type": "execute_result"
    }
   ],
   "source": [
    "df= pd.read_csv('instagram_comments.csv')\n",
    "df"
   ]
  },
  {
   "cell_type": "code",
   "execution_count": null,
   "metadata": {},
   "outputs": [],
   "source": [
    "get_post_info_csv(“coolest.gadget”)"
   ]
  },
  {
   "cell_type": "code",
   "execution_count": null,
   "metadata": {},
   "outputs": [],
   "source": [
    "download_hastag_posts(“gadgets”)"
   ]
  },
  {
   "cell_type": "code",
   "execution_count": null,
   "metadata": {},
   "outputs": [],
   "source": [
    "https://python.plainenglish.io/scrape-everythings-from-instagram-using-python-39b5a8baf2e5"
   ]
  },
  {
   "cell_type": "code",
   "execution_count": 17,
   "metadata": {},
   "outputs": [],
   "source": [
    "import instaloader\n",
    "\n",
    "# Get instance\n",
    "L = instaloader.Instaloader()\n",
    "USER = \"hadithapp2022\"\n",
    "PASSWORD = \"Salam_2000_2020\"\n",
    "# Optionally, login or load session\n",
    "L.login(USER, PASSWORD)        # (login)\n",
    "#L.interactive_login(USER)      # (ask password on terminal)\n",
    "#L.load_session_from_file(USER) # (load session created w/\n",
    "                               #  `instaloader -l USERNAME`)"
   ]
  }
 ],
 "metadata": {
  "kernelspec": {
   "display_name": "Python 3.10.5 64-bit",
   "language": "python",
   "name": "python3"
  },
  "language_info": {
   "codemirror_mode": {
    "name": "ipython",
    "version": 3
   },
   "file_extension": ".py",
   "mimetype": "text/x-python",
   "name": "python",
   "nbconvert_exporter": "python",
   "pygments_lexer": "ipython3",
   "version": "3.10.5"
  },
  "orig_nbformat": 4,
  "vscode": {
   "interpreter": {
    "hash": "a0575170082666e25dbef32c40d9f5bdd3e0f02f403dbb3328273a8be364e87c"
   }
  }
 },
 "nbformat": 4,
 "nbformat_minor": 2
}
