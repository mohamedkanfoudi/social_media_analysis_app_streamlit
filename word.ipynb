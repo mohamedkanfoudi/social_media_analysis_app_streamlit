{
 "cells": [
  {
   "cell_type": "code",
   "execution_count": null,
   "metadata": {},
   "outputs": [],
   "source": [
    "import pandas as pd\n"
   ]
  },
  {
   "cell_type": "code",
   "execution_count": 23,
   "metadata": {},
   "outputs": [
    {
     "name": "stderr",
     "output_type": "stream",
     "text": [
      "c:\\Users\\M Ksar\\AppData\\Local\\Programs\\Python\\Python310\\lib\\site-packages\\sklearn\\base.py:329: UserWarning: Trying to unpickle estimator LogisticRegression from version 0.24.0 when using version 1.1.2. This might lead to breaking code or invalid results. Use at your own risk. For more info please refer to:\n",
      "https://scikit-learn.org/stable/model_persistence.html#security-maintainability-limitations\n",
      "  warnings.warn(\n",
      "C:\\Users\\M Ksar\\AppData\\Local\\Temp\\ipykernel_9628\\2023225803.py:54: DeprecationWarning: Please use `csr_matrix` from the `scipy.sparse` namespace, the `scipy.sparse.csr` namespace is deprecated.\n",
      "  data = pickle.load(file)\n",
      "c:\\Users\\M Ksar\\AppData\\Local\\Programs\\Python\\Python310\\lib\\site-packages\\sklearn\\base.py:329: UserWarning: Trying to unpickle estimator TfidfTransformer from version 0.24.0 when using version 1.1.2. This might lead to breaking code or invalid results. Use at your own risk. For more info please refer to:\n",
      "https://scikit-learn.org/stable/model_persistence.html#security-maintainability-limitations\n",
      "  warnings.warn(\n",
      "c:\\Users\\M Ksar\\AppData\\Local\\Programs\\Python\\Python310\\lib\\site-packages\\sklearn\\base.py:329: UserWarning: Trying to unpickle estimator TfidfVectorizer from version 0.24.0 when using version 1.1.2. This might lead to breaking code or invalid results. Use at your own risk. For more info please refer to:\n",
      "https://scikit-learn.org/stable/model_persistence.html#security-maintainability-limitations\n",
      "  warnings.warn(\n"
     ]
    },
    {
     "data": {
      "text/plain": [
       "array([4, 4], dtype=int64)"
      ]
     },
     "execution_count": 23,
     "metadata": {},
     "output_type": "execute_result"
    }
   ],
   "source": [
    "import streamlit as st\n",
    "import pickle\n",
    "import numpy as np\n",
    "import pandas as pd\n",
    "import re \n",
    "import string \n",
    "\n",
    "from nltk.corpus import stopwords\n",
    "from nltk.tokenize import word_tokenize\n",
    "from sklearn.feature_extraction.text import TfidfVectorizer\n",
    "\n",
    "stop_words = set(stopwords.words('english'))\n",
    "\n",
    "def explore(df):\n",
    "  # DATA\n",
    "  st.write('Data:')\n",
    "  st.write(df)\n",
    "  # SUMMARY\n",
    "  df_types = pd.DataFrame(df.dtypes, columns=['Data Type'])\n",
    "  numerical_cols = df_types[~df_types['Data Type'].isin(['object',\n",
    "                   'bool'])].index.values\n",
    "  df_types['Count'] = df.count()\n",
    "  df_types['Unique Values'] = df.nunique()\n",
    "  df_types['Min'] = df[numerical_cols].min()\n",
    "  df_types['Max'] = df[numerical_cols].max()\n",
    "  df_types['Average'] = df[numerical_cols].mean()\n",
    "  df_types['Median'] = df[numerical_cols].median()\n",
    "  df_types['St. Dev.'] = df[numerical_cols].std()\n",
    "  st.write('Summary:')\n",
    "  #st.write(df_types)\n",
    "\n",
    "def get_df(file):\n",
    "  # get extension and read file\n",
    "  extension = file.name.split('.')[1]\n",
    "  if extension.upper() == 'CSV':\n",
    "    df = pd.read_csv(file)\n",
    "  elif extension.upper() == 'XLSX':\n",
    "    df = pd.read_excel(file, engine='openpyxl')\n",
    "  elif extension.upper() == 'PICKLE':\n",
    "    df = pd.read_pickle(file)\n",
    "  return df\n",
    "\n",
    "\n",
    "def download_file(df, types, new_types, extension):\n",
    "  for i, col in enumerate(df.columns):\n",
    "    new_type = types[new_types[i]]\n",
    "    if new_type:\n",
    "      try:\n",
    "        df[col] = df[col].astype(new_type)\n",
    "      except:\n",
    "        st.write('Could not convert', col, 'to', new_types[i])\n",
    "def load_model():\n",
    "    with open('saved_steps1.pkl', 'rb') as file:\n",
    "        data = pickle.load(file)\n",
    "    return data\n",
    "\n",
    "data = load_model()\n",
    "\n",
    "regressor = data[\"model\"]\n",
    "\n",
    "vectorTF = data[\"tf_vector\"]\n",
    "\n",
    "\n",
    "\n",
    "def load_dataset(filename, cols):\n",
    "    dataset = pd.read_csv(filename, encoding='latin-1')\n",
    "    dataset.columns = cols\n",
    "    return dataset\n",
    "def remove_unwanted_cols(dataset, cols):\n",
    "    for col in cols:\n",
    "        del dataset[col]\n",
    "    return dataset\n",
    "def int_to_string(sentiment):\n",
    "    if sentiment == 0:\n",
    "        return \"Negative\"\n",
    "    elif sentiment == 2:\n",
    "        return \"Neutral\"\n",
    "    else:\n",
    "        return \"Positive\"\n",
    "\n",
    "def preprocess_tweet_text(tweet):\n",
    "    tweet.lower()\n",
    "    # Remove urls\n",
    "    tweet = re.sub(r\"http\\S+|www\\S+|https\\S+\", '', tweet, flags=re.MULTILINE)\n",
    "    # Remove user @ references and '#' from tweet\n",
    "    tweet = re.sub(r'\\@\\w+|\\#','', tweet)\n",
    "    # Remove punctuations\n",
    "    tweet = tweet.translate(str.maketrans('', '', string.punctuation))\n",
    "    # Remove stopwords\n",
    "    tweet_tokens = word_tokenize(tweet)\n",
    "    filtered_words = [w for w in tweet_tokens if not w in stop_words]\n",
    "    \n",
    "    #ps = PorterStemmer()\n",
    "    #stemmed_words = [ps.stem(w) for w in filtered_words]\n",
    "    #lemmatizer = WordNetLemmatizer()\n",
    "    #lemma_words = [lemmatizer.lemmatize(w, pos='a') for w in stemmed_words]\n",
    "    \n",
    "    return \" \".join(filtered_words)\n",
    "def get_feature_vector(train_fit):\n",
    "            vector = TfidfVectorizer(sublinear_tf=True)\n",
    "            vector.fit(train_fit)\n",
    "            return vector\n",
    "\n",
    "df = pd.read_csv('facebook_comments.csv')\n",
    "df = df.rename(columns={'message_text':'text'})    \n",
    "df = df[['id', 'text']]\n",
    "#df = pd.DataFrame(data=pd.read_csv('result.csv').values,columns =[\"tweet_id\", \"created_at\", \"text\"])   \n",
    "df.text = df[\"text\"].apply(preprocess_tweet_text)\n",
    "test_feature = vectorTF.transform(np.array(df.iloc[:, 1]).ravel())\n",
    "prediction = regressor.predict(test_feature)\n",
    "prediction"
   ]
  },
  {
   "cell_type": "code",
   "execution_count": null,
   "metadata": {},
   "outputs": [],
   "source": []
  },
  {
   "cell_type": "code",
   "execution_count": 8,
   "metadata": {},
   "outputs": [
    {
     "name": "stderr",
     "output_type": "stream",
     "text": [
      "C:\\Users\\M Ksar\\AppData\\Local\\Temp\\ipykernel_9628\\3625236838.py:10: SettingWithCopyWarning: \n",
      "A value is trying to be set on a copy of a slice from a DataFrame\n",
      "\n",
      "See the caveats in the documentation: https://pandas.pydata.org/pandas-docs/stable/user_guide/indexing.html#returning-a-view-versus-a-copy\n",
      "  df1['Alpha-2 code'][j]=df1['Alpha-2 code'][j].lower()\n"
     ]
    },
    {
     "data": {
      "text/html": [
       "<div>\n",
       "<style scoped>\n",
       "    .dataframe tbody tr th:only-of-type {\n",
       "        vertical-align: middle;\n",
       "    }\n",
       "\n",
       "    .dataframe tbody tr th {\n",
       "        vertical-align: top;\n",
       "    }\n",
       "\n",
       "    .dataframe thead th {\n",
       "        text-align: right;\n",
       "    }\n",
       "</style>\n",
       "<table border=\"1\" class=\"dataframe\">\n",
       "  <thead>\n",
       "    <tr style=\"text-align: right;\">\n",
       "      <th></th>\n",
       "      <th>Unnamed: 0</th>\n",
       "      <th>Country</th>\n",
       "      <th>Alpha-2 code</th>\n",
       "      <th>iso3</th>\n",
       "      <th>Numeric code</th>\n",
       "      <th>lat</th>\n",
       "      <th>lon</th>\n",
       "    </tr>\n",
       "  </thead>\n",
       "  <tbody>\n",
       "    <tr>\n",
       "      <th>0</th>\n",
       "      <td>0</td>\n",
       "      <td>Afghanistan</td>\n",
       "      <td>af</td>\n",
       "      <td>AFG</td>\n",
       "      <td>\"4\"</td>\n",
       "      <td>33.0000</td>\n",
       "      <td>65.0000</td>\n",
       "    </tr>\n",
       "    <tr>\n",
       "      <th>1</th>\n",
       "      <td>1</td>\n",
       "      <td>Albania</td>\n",
       "      <td>al</td>\n",
       "      <td>ALB</td>\n",
       "      <td>\"8\"</td>\n",
       "      <td>41.0000</td>\n",
       "      <td>20.0000</td>\n",
       "    </tr>\n",
       "    <tr>\n",
       "      <th>2</th>\n",
       "      <td>2</td>\n",
       "      <td>Algeria</td>\n",
       "      <td>dz</td>\n",
       "      <td>DZA</td>\n",
       "      <td>\"12\"</td>\n",
       "      <td>28.0000</td>\n",
       "      <td>3.0000</td>\n",
       "    </tr>\n",
       "    <tr>\n",
       "      <th>3</th>\n",
       "      <td>3</td>\n",
       "      <td>American Samoa</td>\n",
       "      <td>as</td>\n",
       "      <td>ASM</td>\n",
       "      <td>\"16\"</td>\n",
       "      <td>-14.3333</td>\n",
       "      <td>-170.0000</td>\n",
       "    </tr>\n",
       "    <tr>\n",
       "      <th>4</th>\n",
       "      <td>4</td>\n",
       "      <td>Andorra</td>\n",
       "      <td>ad</td>\n",
       "      <td>AND</td>\n",
       "      <td>\"20\"</td>\n",
       "      <td>42.5000</td>\n",
       "      <td>1.6000</td>\n",
       "    </tr>\n",
       "    <tr>\n",
       "      <th>...</th>\n",
       "      <td>...</td>\n",
       "      <td>...</td>\n",
       "      <td>...</td>\n",
       "      <td>...</td>\n",
       "      <td>...</td>\n",
       "      <td>...</td>\n",
       "      <td>...</td>\n",
       "    </tr>\n",
       "    <tr>\n",
       "      <th>249</th>\n",
       "      <td>250</td>\n",
       "      <td>Virgin Islands, U.S.</td>\n",
       "      <td>vi</td>\n",
       "      <td>VIR</td>\n",
       "      <td>\"850\"</td>\n",
       "      <td>18.3333</td>\n",
       "      <td>-64.8333</td>\n",
       "    </tr>\n",
       "    <tr>\n",
       "      <th>250</th>\n",
       "      <td>251</td>\n",
       "      <td>Wallis and Futuna</td>\n",
       "      <td>wf</td>\n",
       "      <td>WLF</td>\n",
       "      <td>\"876\"</td>\n",
       "      <td>-13.3000</td>\n",
       "      <td>-176.2000</td>\n",
       "    </tr>\n",
       "    <tr>\n",
       "      <th>251</th>\n",
       "      <td>253</td>\n",
       "      <td>Yemen</td>\n",
       "      <td>ye</td>\n",
       "      <td>YEM</td>\n",
       "      <td>\"887\"</td>\n",
       "      <td>15.0000</td>\n",
       "      <td>48.0000</td>\n",
       "    </tr>\n",
       "    <tr>\n",
       "      <th>252</th>\n",
       "      <td>254</td>\n",
       "      <td>Zambia</td>\n",
       "      <td>zm</td>\n",
       "      <td>ZMB</td>\n",
       "      <td>\"894\"</td>\n",
       "      <td>-15.0000</td>\n",
       "      <td>30.0000</td>\n",
       "    </tr>\n",
       "    <tr>\n",
       "      <th>253</th>\n",
       "      <td>255</td>\n",
       "      <td>Zimbabwe</td>\n",
       "      <td>zw</td>\n",
       "      <td>ZWE</td>\n",
       "      <td>\"716\"</td>\n",
       "      <td>-20.0000</td>\n",
       "      <td>30.0000</td>\n",
       "    </tr>\n",
       "  </tbody>\n",
       "</table>\n",
       "<p>254 rows × 7 columns</p>\n",
       "</div>"
      ],
      "text/plain": [
       "     Unnamed: 0               Country Alpha-2 code iso3 Numeric code      lat  \\\n",
       "0             0           Afghanistan           af  AFG          \"4\"  33.0000   \n",
       "1             1               Albania           al  ALB          \"8\"  41.0000   \n",
       "2             2               Algeria           dz  DZA         \"12\"  28.0000   \n",
       "3             3        American Samoa           as  ASM         \"16\" -14.3333   \n",
       "4             4               Andorra           ad  AND         \"20\"  42.5000   \n",
       "..          ...                   ...          ...  ...          ...      ...   \n",
       "249         250  Virgin Islands, U.S.           vi  VIR        \"850\"  18.3333   \n",
       "250         251     Wallis and Futuna           wf  WLF        \"876\" -13.3000   \n",
       "251         253                 Yemen           ye  YEM        \"887\"  15.0000   \n",
       "252         254                Zambia           zm  ZMB        \"894\" -15.0000   \n",
       "253         255              Zimbabwe           zw  ZWE        \"716\" -20.0000   \n",
       "\n",
       "          lon  \n",
       "0     65.0000  \n",
       "1     20.0000  \n",
       "2      3.0000  \n",
       "3   -170.0000  \n",
       "4      1.6000  \n",
       "..        ...  \n",
       "249  -64.8333  \n",
       "250 -176.2000  \n",
       "251   48.0000  \n",
       "252   30.0000  \n",
       "253   30.0000  \n",
       "\n",
       "[254 rows x 7 columns]"
      ]
     },
     "execution_count": 8,
     "metadata": {},
     "output_type": "execute_result"
    }
   ],
   "source": [
    "import pandas as pd\n",
    "df = pd.read_csv('./linkedin_company_pages/FOLLOWERS_BY_COUNTRY.csv')\n",
    "df1 = pd.read_csv('countries.csv')\n",
    "df['lat'] = 0\n",
    "df['lon'] = 0\n",
    "df = df.dropna(subset=['country_id']).reset_index(drop=True)\n",
    "\n",
    "for j in range(len(df1)):\n",
    "    \n",
    "    df1['Alpha-2 code'][j]=df1['Alpha-2 code'][j].lower()\n",
    "df1"
   ]
  },
  {
   "cell_type": "code",
   "execution_count": 101,
   "metadata": {},
   "outputs": [
    {
     "data": {
      "text/plain": [
       "0      True\n",
       "1      True\n",
       "2      True\n",
       "3      True\n",
       "4      True\n",
       "       ... \n",
       "104    True\n",
       "105    True\n",
       "106    True\n",
       "107    True\n",
       "108    True\n",
       "Name: lon, Length: 109, dtype: bool"
      ]
     },
     "execution_count": 101,
     "metadata": {},
     "output_type": "execute_result"
    }
   ],
   "source": []
  },
  {
   "cell_type": "code",
   "execution_count": 119,
   "metadata": {},
   "outputs": [
    {
     "name": "stderr",
     "output_type": "stream",
     "text": [
      "C:\\Users\\M Ksar\\AppData\\Local\\Temp\\ipykernel_9760\\320331269.py:4: SettingWithCopyWarning: \n",
      "A value is trying to be set on a copy of a slice from a DataFrame\n",
      "\n",
      "See the caveats in the documentation: https://pandas.pydata.org/pandas-docs/stable/user_guide/indexing.html#returning-a-view-versus-a-copy\n",
      "  df['lat'][i] = df1['lat'][j]\n",
      "C:\\Users\\M Ksar\\AppData\\Local\\Temp\\ipykernel_9760\\320331269.py:5: SettingWithCopyWarning: \n",
      "A value is trying to be set on a copy of a slice from a DataFrame\n",
      "\n",
      "See the caveats in the documentation: https://pandas.pydata.org/pandas-docs/stable/user_guide/indexing.html#returning-a-view-versus-a-copy\n",
      "  df['lon'][i] = df1['lon'][j]\n"
     ]
    },
    {
     "data": {
      "text/html": [
       "<div>\n",
       "<style scoped>\n",
       "    .dataframe tbody tr th:only-of-type {\n",
       "        vertical-align: middle;\n",
       "    }\n",
       "\n",
       "    .dataframe tbody tr th {\n",
       "        vertical-align: top;\n",
       "    }\n",
       "\n",
       "    .dataframe thead th {\n",
       "        text-align: right;\n",
       "    }\n",
       "</style>\n",
       "<table border=\"1\" class=\"dataframe\">\n",
       "  <thead>\n",
       "    <tr style=\"text-align: right;\">\n",
       "      <th></th>\n",
       "      <th>Unnamed: 0</th>\n",
       "      <th>_fivetran_id</th>\n",
       "      <th>follower_counts_organic_follower_count</th>\n",
       "      <th>follower_counts_paid_follower_count</th>\n",
       "      <th>_organization_entity_urn</th>\n",
       "      <th>country_id</th>\n",
       "      <th>_fivetran_synced</th>\n",
       "      <th>lat</th>\n",
       "      <th>lon</th>\n",
       "    </tr>\n",
       "  </thead>\n",
       "  <tbody>\n",
       "    <tr>\n",
       "      <th>0</th>\n",
       "      <td>0</td>\n",
       "      <td>Ww+m+xboc5GreZkzVp9xoqu6drU=</td>\n",
       "      <td>1</td>\n",
       "      <td>0</td>\n",
       "      <td>urn:li:organization:69569872</td>\n",
       "      <td>ne</td>\n",
       "      <td>2022-08-08 10:42:06.097000+00:00</td>\n",
       "      <td>16.0</td>\n",
       "      <td>8.0000</td>\n",
       "    </tr>\n",
       "    <tr>\n",
       "      <th>1</th>\n",
       "      <td>1</td>\n",
       "      <td>hrfDyLFvjuWdry5z2XJtxNsB3bE=</td>\n",
       "      <td>12</td>\n",
       "      <td>0</td>\n",
       "      <td>urn:li:organization:11841037</td>\n",
       "      <td>gb</td>\n",
       "      <td>2022-08-08 10:42:19.051000+00:00</td>\n",
       "      <td>54.0</td>\n",
       "      <td>-2.0000</td>\n",
       "    </tr>\n",
       "    <tr>\n",
       "      <th>2</th>\n",
       "      <td>2</td>\n",
       "      <td>gbjMf4pqZv1+7N76/P5I8+AcF0Q=</td>\n",
       "      <td>5</td>\n",
       "      <td>0</td>\n",
       "      <td>urn:li:organizationBrand:69569872</td>\n",
       "      <td>tn</td>\n",
       "      <td>2022-08-08 10:42:37.938000+00:00</td>\n",
       "      <td>34.0</td>\n",
       "      <td>9.0000</td>\n",
       "    </tr>\n",
       "    <tr>\n",
       "      <th>3</th>\n",
       "      <td>3</td>\n",
       "      <td>JYH/d5WD4OXKCdxRseuuveeA+wc=</td>\n",
       "      <td>1</td>\n",
       "      <td>0</td>\n",
       "      <td>urn:li:organization:69569872</td>\n",
       "      <td>se</td>\n",
       "      <td>2022-08-08 10:42:06.095000+00:00</td>\n",
       "      <td>62.0</td>\n",
       "      <td>15.0000</td>\n",
       "    </tr>\n",
       "    <tr>\n",
       "      <th>4</th>\n",
       "      <td>4</td>\n",
       "      <td>nkR4ZpfOvrmEygvFzTypj/uAr3M=</td>\n",
       "      <td>1</td>\n",
       "      <td>0</td>\n",
       "      <td>urn:li:organization:11841037</td>\n",
       "      <td>ht</td>\n",
       "      <td>2022-08-08 10:42:19.074000+00:00</td>\n",
       "      <td>19.0</td>\n",
       "      <td>-72.4167</td>\n",
       "    </tr>\n",
       "    <tr>\n",
       "      <th>...</th>\n",
       "      <td>...</td>\n",
       "      <td>...</td>\n",
       "      <td>...</td>\n",
       "      <td>...</td>\n",
       "      <td>...</td>\n",
       "      <td>...</td>\n",
       "      <td>...</td>\n",
       "      <td>...</td>\n",
       "      <td>...</td>\n",
       "    </tr>\n",
       "    <tr>\n",
       "      <th>104</th>\n",
       "      <td>105</td>\n",
       "      <td>5ez8WGzr+vt/gTJYTGkBSsm8to0=</td>\n",
       "      <td>5</td>\n",
       "      <td>0</td>\n",
       "      <td>urn:li:organization:11841037</td>\n",
       "      <td>de</td>\n",
       "      <td>2022-08-08 10:42:19.058000+00:00</td>\n",
       "      <td>51.0</td>\n",
       "      <td>9.0000</td>\n",
       "    </tr>\n",
       "    <tr>\n",
       "      <th>105</th>\n",
       "      <td>106</td>\n",
       "      <td>LX7bwBpRxtfuklVIGlM3l8coJwA=</td>\n",
       "      <td>4</td>\n",
       "      <td>0</td>\n",
       "      <td>urn:li:organization:11841037</td>\n",
       "      <td>fi</td>\n",
       "      <td>2022-08-08 10:42:19.061000+00:00</td>\n",
       "      <td>64.0</td>\n",
       "      <td>26.0000</td>\n",
       "    </tr>\n",
       "    <tr>\n",
       "      <th>106</th>\n",
       "      <td>107</td>\n",
       "      <td>gi+QZQ/rteB7RS8rV7x6LLqzLqc=</td>\n",
       "      <td>1</td>\n",
       "      <td>0</td>\n",
       "      <td>urn:li:organization:78306774</td>\n",
       "      <td>ua</td>\n",
       "      <td>2022-08-08 10:42:26.196000+00:00</td>\n",
       "      <td>49.0</td>\n",
       "      <td>32.0000</td>\n",
       "    </tr>\n",
       "    <tr>\n",
       "      <th>107</th>\n",
       "      <td>108</td>\n",
       "      <td>yVF/lyHWcg4Vaqkq0leqbxSwMHg=</td>\n",
       "      <td>3</td>\n",
       "      <td>0</td>\n",
       "      <td>urn:li:organization:11841037</td>\n",
       "      <td>in</td>\n",
       "      <td>2022-08-08 10:42:19.063000+00:00</td>\n",
       "      <td>20.0</td>\n",
       "      <td>77.0000</td>\n",
       "    </tr>\n",
       "    <tr>\n",
       "      <th>108</th>\n",
       "      <td>109</td>\n",
       "      <td>IyYPqS5dPd+V3+C2YghwgNqySF4=</td>\n",
       "      <td>1</td>\n",
       "      <td>0</td>\n",
       "      <td>urn:li:organization:11841037</td>\n",
       "      <td>re</td>\n",
       "      <td>2022-08-08 10:42:19.077000+00:00</td>\n",
       "      <td>-21.1</td>\n",
       "      <td>55.6000</td>\n",
       "    </tr>\n",
       "  </tbody>\n",
       "</table>\n",
       "<p>109 rows × 9 columns</p>\n",
       "</div>"
      ],
      "text/plain": [
       "     Unnamed: 0                  _fivetran_id  \\\n",
       "0             0  Ww+m+xboc5GreZkzVp9xoqu6drU=   \n",
       "1             1  hrfDyLFvjuWdry5z2XJtxNsB3bE=   \n",
       "2             2  gbjMf4pqZv1+7N76/P5I8+AcF0Q=   \n",
       "3             3  JYH/d5WD4OXKCdxRseuuveeA+wc=   \n",
       "4             4  nkR4ZpfOvrmEygvFzTypj/uAr3M=   \n",
       "..          ...                           ...   \n",
       "104         105  5ez8WGzr+vt/gTJYTGkBSsm8to0=   \n",
       "105         106  LX7bwBpRxtfuklVIGlM3l8coJwA=   \n",
       "106         107  gi+QZQ/rteB7RS8rV7x6LLqzLqc=   \n",
       "107         108  yVF/lyHWcg4Vaqkq0leqbxSwMHg=   \n",
       "108         109  IyYPqS5dPd+V3+C2YghwgNqySF4=   \n",
       "\n",
       "     follower_counts_organic_follower_count  \\\n",
       "0                                         1   \n",
       "1                                        12   \n",
       "2                                         5   \n",
       "3                                         1   \n",
       "4                                         1   \n",
       "..                                      ...   \n",
       "104                                       5   \n",
       "105                                       4   \n",
       "106                                       1   \n",
       "107                                       3   \n",
       "108                                       1   \n",
       "\n",
       "     follower_counts_paid_follower_count           _organization_entity_urn  \\\n",
       "0                                      0       urn:li:organization:69569872   \n",
       "1                                      0       urn:li:organization:11841037   \n",
       "2                                      0  urn:li:organizationBrand:69569872   \n",
       "3                                      0       urn:li:organization:69569872   \n",
       "4                                      0       urn:li:organization:11841037   \n",
       "..                                   ...                                ...   \n",
       "104                                    0       urn:li:organization:11841037   \n",
       "105                                    0       urn:li:organization:11841037   \n",
       "106                                    0       urn:li:organization:78306774   \n",
       "107                                    0       urn:li:organization:11841037   \n",
       "108                                    0       urn:li:organization:11841037   \n",
       "\n",
       "    country_id                  _fivetran_synced   lat      lon  \n",
       "0           ne  2022-08-08 10:42:06.097000+00:00  16.0   8.0000  \n",
       "1           gb  2022-08-08 10:42:19.051000+00:00  54.0  -2.0000  \n",
       "2           tn  2022-08-08 10:42:37.938000+00:00  34.0   9.0000  \n",
       "3           se  2022-08-08 10:42:06.095000+00:00  62.0  15.0000  \n",
       "4           ht  2022-08-08 10:42:19.074000+00:00  19.0 -72.4167  \n",
       "..         ...                               ...   ...      ...  \n",
       "104         de  2022-08-08 10:42:19.058000+00:00  51.0   9.0000  \n",
       "105         fi  2022-08-08 10:42:19.061000+00:00  64.0  26.0000  \n",
       "106         ua  2022-08-08 10:42:26.196000+00:00  49.0  32.0000  \n",
       "107         in  2022-08-08 10:42:19.063000+00:00  20.0  77.0000  \n",
       "108         re  2022-08-08 10:42:19.077000+00:00 -21.1  55.6000  \n",
       "\n",
       "[109 rows x 9 columns]"
      ]
     },
     "execution_count": 119,
     "metadata": {},
     "output_type": "execute_result"
    }
   ],
   "source": [
    "\n",
    "\n",
    "for j in range(len(df1)):\n",
    "    for i in range(len(df)):\n",
    "       if (df['country_id'][i] == df1['Alpha-2 code'][j] and df['lat'][i]==0 and df['lon'][i]==0 ):\n",
    "            df['lat'][i] = df1['lat'][j]\n",
    "            df['lon'][i] = df1['lon'][j]\n",
    "\n",
    "df"
   ]
  },
  {
   "cell_type": "code",
   "execution_count": null,
   "metadata": {},
   "outputs": [],
   "source": [
    "import pandas as pd\n",
    "df = pd.read_csv('KEYWORD_PAGE_REPORT.csv')\n",
    "df = df.groupby(by='country', as_index=False).agg({'impressions': 'sum' , 'clicks':'sum' })\n",
    "df = df.sort_values(by = 'clicks' , ascending=False  )\n",
    "df = df.reset_index(drop=True)\n",
    "df['lat'] = 0\n",
    "df['lng'] = 0\n",
    "df1 = pd.read_csv('countries.csv')\n",
    "\n",
    "for j in range(len(df1)):\n",
    "    for i in range(len(df)):\n",
    "       if (df['country'][i].lower() == df1['iso3'][j].lower() and df['lat'][i]==0 and df['lng'][i]==0 ):\n",
    "            df['lat'][i] = df1['lat'][j]\n",
    "            df['lng'][i] = df1['lon'][j]\n",
    "df"
   ]
  },
  {
   "cell_type": "code",
   "execution_count": 139,
   "metadata": {},
   "outputs": [
    {
     "data": {
      "text/plain": [
       "[{'name': 'https://www.kertys.com/solutions/anaplan',\n",
       "  'value': 56368.0,\n",
       "  'value1': 85.0},\n",
       " {'name': 'https://www.kertys.com/clients/dematerialisation-des-processus-metiers-cmim',\n",
       "  'value': 38840.0,\n",
       "  'value1': 17.0},\n",
       " {'name': 'https://www.kertys.com/ressources/plateformes-lms-et-lcms-pouvez-vous-faire-la-difference',\n",
       "  'value': 29745.0,\n",
       "  'value1': 73.0},\n",
       " {'name': 'https://www.kertys.com/ressources/sirh-systeme-dinformation-des-ressources-humaines',\n",
       "  'value': 25728.0,\n",
       "  'value1': 206.0},\n",
       " {'name': 'https://www.kertys.com/ressources/dematerialisation-de-la-gestion-des-courriers-entrants-et-sortants-du-bureau-dordre-au-maroc',\n",
       "  'value': 13812.0,\n",
       "  'value1': 98.0},\n",
       " {'name': 'https://www.kertys.com/ressources/8-problemes-resolus-par-les-solutions-de-business-intelligence-bi',\n",
       "  'value': 10606.0,\n",
       "  'value1': 41.0},\n",
       " {'name': 'https://www.kertys.com/ressources/solutions-ged-au-maroc-dematerialisation-et-archivage-numerique',\n",
       "  'value': 10450.0,\n",
       "  'value1': 160.0},\n",
       " {'name': 'https://www.kertys.com/ressources/digitalisation-des-ressources-humaines-defis-et-opportunites',\n",
       "  'value': 10304.0,\n",
       "  'value1': 56.0},\n",
       " {'name': 'https://www.kertys.com/solutions/talentsoft',\n",
       "  'value': 9355.0,\n",
       "  'value1': 20.0},\n",
       " {'name': 'https://www.kertys.com/solutions/streamsets',\n",
       "  'value': 7910.0,\n",
       "  'value1': 77.0},\n",
       " {'name': 'https://www.kertys.com/solutions/m-files',\n",
       "  'value': 6687.0,\n",
       "  'value1': 18.0},\n",
       " {'name': 'https://www.kertys.com/services/digital-workplace',\n",
       "  'value': 6327.0,\n",
       "  'value1': 0.0},\n",
       " {'name': 'https://www.kertys.com/ressources/ocr-au-maroc-et-afrique',\n",
       "  'value': 5495.0,\n",
       "  'value1': 2.0},\n",
       " {'name': 'https://www.kertys.com/ressources/solution-ged-en-afrique-pour-optimiser-votre-gestion-documentaire',\n",
       "  'value': 5223.0,\n",
       "  'value1': 1.0},\n",
       " {'name': 'https://www.kertys.com/ressources/la-gestion-documentaire-ged-pour-le-secteur-de-lassurance-au-maroc-et-en-afrique',\n",
       "  'value': 5159.0,\n",
       "  'value1': 15.0},\n",
       " {'name': 'https://www.kertys.com/clients/la-digitalisation-du-bureau-ordre-matu-assurance',\n",
       "  'value': 4302.0,\n",
       "  'value1': 32.0},\n",
       " {'name': 'https://www.kertys.com/solutions/automation-anywhere',\n",
       "  'value': 3284.0,\n",
       "  'value1': 17.0},\n",
       " {'name': 'https://www.kertys.com/ressources/gestion-des-documents-et-la-dematerialisation-des-processus-avec-m-files-en-2021-2022',\n",
       "  'value': 3190.0,\n",
       "  'value1': 1.0},\n",
       " {'name': 'https://www.kertys.com/afrique', 'value': 3114.0, 'value1': 2.0},\n",
       " {'name': 'https://www.kertys.com/solutions/ignimission',\n",
       "  'value': 3091.0,\n",
       "  'value1': 8.0},\n",
       " {'name': 'https://www.kertys.com/categorie/gestion-electronique-des-documents',\n",
       "  'value': 3045.0,\n",
       "  'value1': 6.0},\n",
       " {'name': 'https://www.kertys.com/ressources/le-processus-du-bureau-dordre-digital-explique-cas-de-gestion-des-courriers-en-france',\n",
       "  'value': 3019.0,\n",
       "  'value1': 28.0},\n",
       " {'name': 'https://www.kertys.com/ressources/quelle-solution-bpm-est-collaborative-no-code-au-maroc-et-afrique',\n",
       "  'value': 2506.0,\n",
       "  'value1': 3.0},\n",
       " {'name': 'https://www.kertys.com/solutions/eflow-bpm',\n",
       "  'value': 2505.0,\n",
       "  'value1': 3.0},\n",
       " {'name': 'https://www.kertys.com/solutions/iris-powerscan',\n",
       "  'value': 2484.0,\n",
       "  'value1': 12.0},\n",
       " {'name': 'https://www.kertys.com/', 'value': 2407.0, 'value1': 577.0},\n",
       " {'name': 'https://www.kertys.com/ressources/solution-ignimission-pour-rationaliser-et-automatiser-les-processus-de-collecte-et-de-diffusion-de-donnees-au-maroc-et-afrique',\n",
       "  'value': 2238.0,\n",
       "  'value1': 0.0},\n",
       " {'name': 'https://www.kertys.com/services/digital-workplace/gestion-des-tournees',\n",
       "  'value': 2093.0,\n",
       "  'value1': 0.0},\n",
       " {'name': 'https://www.kertys.com/ressources/la-rpa-au-service-de-votre-transformation-digitale-au-maroc-et-afrique',\n",
       "  'value': 2078.0,\n",
       "  'value1': 48.0},\n",
       " {'name': 'https://www.kertys.com/categorie/gestion-des-processus-metiers',\n",
       "  'value': 1877.0,\n",
       "  'value1': 0.0},\n",
       " {'name': 'https://www.kertys.com/services/digital-workplace/gestion-des-appels-doffres',\n",
       "  'value': 1745.0,\n",
       "  'value1': 1.0},\n",
       " {'name': 'https://www.kertys.com/webinar-les-benefices-de-la-rpa-ia-pour-la-fonction-finance',\n",
       "  'value': 1491.0,\n",
       "  'value1': 0.0},\n",
       " {'name': 'https://www.kertys.com/ressources/la-dematerialisation-des-contrats-et-dossiers-juridiques-avec-ged-m-files',\n",
       "  'value': 1456.0,\n",
       "  'value1': 0.0},\n",
       " {'name': 'https://www.kertys.com/services/digital-workplace/note-de-frais',\n",
       "  'value': 1403.0,\n",
       "  'value1': 0.0},\n",
       " {'name': 'https://www.kertys.com/demo', 'value': 1396.0, 'value1': 7.0},\n",
       " {'name': 'https://www.kertys.com/ressources/pourquoi-lingenierie-des-donnees-dataops-est-lavenir-des-donnees',\n",
       "  'value': 1386.0,\n",
       "  'value1': 0.0},\n",
       " {'name': 'https://www.kertys.com/solutions/zenoptics',\n",
       "  'value': 1345.0,\n",
       "  'value1': 2.0},\n",
       " {'name': 'https://www.kertys.com/a-propos', 'value': 1293.0, 'value1': 21.0},\n",
       " {'name': 'https://www.kertys.com/services/digital-workplace/gestion-du-parc-automobile',\n",
       "  'value': 1277.0,\n",
       "  'value1': 0.0},\n",
       " {'name': 'https://www.kertys.com/ressources/gerer-vos-donnees-a-travers-m-files-et-son-integration-teams',\n",
       "  'value': 1223.0,\n",
       "  'value1': 3.0},\n",
       " {'name': 'https://www.kertys.com/ressources/cegid-va-acquerir-talentsoft-et-ainsi-donner-naissance-a-un-champion-europeen-des-solutions-rh-dans-le-cloud',\n",
       "  'value': 1178.0,\n",
       "  'value1': 2.0},\n",
       " {'name': 'https://www.kertys.com/ressources/plateforme-dataops-streamsets-solution-moderne-dintegration-de-donnees-dediee-a-la-construction-des-pipelines-de-donnees-au-maroc-et-afrique',\n",
       "  'value': 1146.0,\n",
       "  'value1': 1.0},\n",
       " {'name': 'https://www.kertys.com/solutions/hubshare',\n",
       "  'value': 1034.0,\n",
       "  'value1': 3.0},\n",
       " {'name': 'https://www.kertys.com/services/digital-workplace/gestion-des-factures',\n",
       "  'value': 1023.0,\n",
       "  'value1': 0.0},\n",
       " {'name': 'https://www.kertys.com/ressources/les-5-activites-les-plus-courantes-a-automatiser-dans-lassurance-avec-la-rpa-automation-anywhere',\n",
       "  'value': 975.0,\n",
       "  'value1': 1.0},\n",
       " {'name': 'https://www.kertys.com/faq', 'value': 745.0, 'value1': 0.0},\n",
       " {'name': 'https://www.kertys.com/ressources/talentsoft-affirme-sa-position-en-leader-europeen-des-solutions-de-cloud-hcm',\n",
       "  'value': 734.0,\n",
       "  'value1': 1.0},\n",
       " {'name': 'https://www.kertys.com/ressources/electronic-document-management-in-africa-the-key-to-a-successful-digital-transformation',\n",
       "  'value': 704.0,\n",
       "  'value1': 0.0},\n",
       " {'name': 'https://www.kertys.com/tendances-rh-2021',\n",
       "  'value': 694.0,\n",
       "  'value1': 0.0},\n",
       " {'name': 'https://www.kertys.com/ressources/automatisation-assistee-quest-ce-que-cest-et-pourquoi-en-ai-je-besoin',\n",
       "  'value': 666.0,\n",
       "  'value1': 1.0},\n",
       " {'name': 'https://www.kertys.com/le-socle-rh-pour-une-nouvelle-gestion-des-talents-au-maroc-et-afrique',\n",
       "  'value': 597.0,\n",
       "  'value1': 3.0},\n",
       " {'name': 'https://www.kertys.com/ressources/piql-solution-efficase-pour-se-proteger-son-entreprise-face-aux-cyberattaques-et-ransomware',\n",
       "  'value': 594.0,\n",
       "  'value1': 1.0},\n",
       " {'name': 'https://www.kertys.com/carrieres', 'value': 519.0, 'value1': 3.0},\n",
       " {'name': 'https://www.kertys.com/solutions/lucanet',\n",
       "  'value': 519.0,\n",
       "  'value1': 1.0},\n",
       " {'name': 'https://www.kertys.com/webinaire-le-rpa-au-service-de-votre-transformation-digitale',\n",
       "  'value': 512.0,\n",
       "  'value1': 0.0},\n",
       " {'name': 'https://www.kertys.com/services/digital-factory',\n",
       "  'value': 510.0,\n",
       "  'value1': 0.0},\n",
       " {'name': 'https://www.kertys.com/contact', 'value': 457.0, 'value1': 3.0},\n",
       " {'name': 'https://www.kertys.com/services/formations',\n",
       "  'value': 440.0,\n",
       "  'value1': 2.0},\n",
       " {'name': 'https://www.kertys.com/services/digital-workplace/gestion-des-courriers',\n",
       "  'value': 435.0,\n",
       "  'value1': 0.0},\n",
       " {'name': 'https://www.kertys.com/ressources/piql-signe-un-nouvel-accord-pour-stocker-les-donnees-de-plus-dun-million-de-semences-dans-la-chambre-forte-mondiale-de-svalbard',\n",
       "  'value': 435.0,\n",
       "  'value1': 1.0},\n",
       " {'name': 'https://www.kertys.com/ressources/m-files-leve-80-millions-de-dollars-pour-une-ia-qui-automatise-la-gestion-des-informations-de-lentreprise',\n",
       "  'value': 434.0,\n",
       "  'value1': 0.0},\n",
       " {'name': 'https://www.kertys.com/clients/mise-en-place-ged-pour-gestion-des-contrats-orange',\n",
       "  'value': 422.0,\n",
       "  'value1': 0.0},\n",
       " {'name': 'https://www.kertys.com/la-rpa-robotic-process-automation-pour-lindustrie-pharmaceutique',\n",
       "  'value': 418.0,\n",
       "  'value1': 0.0},\n",
       " {'name': 'https://www.kertys.com/solutions/piql',\n",
       "  'value': 408.0,\n",
       "  'value1': 0.0},\n",
       " {'name': 'https://www.kertys.com/ressources/m-files-nomme-laureat-des-2022-big-artificial-intelligence-excellence-awards',\n",
       "  'value': 377.0,\n",
       "  'value1': 2.0},\n",
       " {'name': 'https://www.kertys.com/ressources/ecm-and-edm-in-ghana-and-west-africa',\n",
       "  'value': 339.0,\n",
       "  'value1': 0.0},\n",
       " {'name': 'https://www.kertys.com/services/digital-workplace/visite-medicale',\n",
       "  'value': 331.0,\n",
       "  'value1': 0.0},\n",
       " {'name': 'https://www.kertys.com/la-digital-workplace-le-guide-des-porteurs-de-projet',\n",
       "  'value': 282.0,\n",
       "  'value1': 1.0},\n",
       " {'name': 'https://www.kertys.com/categorie/transformation-digitale',\n",
       "  'value': 208.0,\n",
       "  'value1': 0.0},\n",
       " {'name': 'https://www.kertys.com/services/digital-workplace/recrutement',\n",
       "  'value': 199.0,\n",
       "  'value1': 0.0},\n",
       " {'name': 'https://www.kertys.com/ressources/cegid-confirms-talentsoft-acquisition',\n",
       "  'value': 199.0,\n",
       "  'value1': 0.0},\n",
       " {'name': 'https://www.kertys.com/ressources/nos-modeles-dintegration-de-donnees-streamsets-pour-des-pipelines-de-donnees-intelligents',\n",
       "  'value': 194.0,\n",
       "  'value1': 1.0},\n",
       " {'name': 'https://www.kertys.com/webinaire-la-dematerialisation-du-bureau-dordre-et-gestion-des-courriers-un-pont-vers-la-digitalisation-des-autres-processus-metiers-de-lentreprise',\n",
       "  'value': 191.0,\n",
       "  'value1': 0.0},\n",
       " {'name': 'https://www.kertys.com/ressources', 'value': 190.0, 'value1': 0.0},\n",
       " {'name': 'https://www.kertys.com/kertys-sassocie-a-ignimission-pour-rationaliser-les-processus-metiers-de-collecte-de-saisie-dechange-de-donnees-des-entreprises-en-afrique',\n",
       "  'value': 188.0,\n",
       "  'value1': 0.0},\n",
       " {'name': 'https://www.kertys.com/categorie/planification-budgetaire',\n",
       "  'value': 162.0,\n",
       "  'value1': 0.0},\n",
       " {'name': 'https://www.kertys.com/ressources/m-files-reconnu-comme-visionnaire-dans-le-magic-quadrant-de-gartner-pour-les-plateformes-de-services-de-contenu-2021',\n",
       "  'value': 148.0,\n",
       "  'value1': 1.0},\n",
       " {'name': 'https://www.kertys.com/categorie/business-intelligence',\n",
       "  'value': 145.0,\n",
       "  'value1': 4.0},\n",
       " {'name': 'https://www.kertys.com/services/digital-workplace/knowledge-management',\n",
       "  'value': 139.0,\n",
       "  'value1': 0.0},\n",
       " {'name': 'https://www.kertys.com/ressources/strategies-des-rh-et-transformation-organisationnelle-en-2021',\n",
       "  'value': 129.0,\n",
       "  'value1': 0.0},\n",
       " {'name': 'https://www.kertys.com/digital-workplace-le-guide-des-porteurs-de-projet',\n",
       "  'value': 129.0,\n",
       "  'value1': 0.0},\n",
       " {'name': 'https://www.kertys.com/2021-gartner-r-magic-quadrant-tm-pour-les-plateformes-de-services-de-contenu',\n",
       "  'value': 127.0,\n",
       "  'value1': 0.0},\n",
       " {'name': 'https://www.kertys.com/categorie/actualites',\n",
       "  'value': 127.0,\n",
       "  'value1': 0.0},\n",
       " {'name': 'https://www.kertys.com/webinaire-rationnalisez-et-automatisez-la-collecte-des-donnees-avec-ignimission',\n",
       "  'value': 125.0,\n",
       "  'value1': 0.0},\n",
       " {'name': 'https://www.kertys.com/categorie/risk-management',\n",
       "  'value': 117.0,\n",
       "  'value1': 0.0},\n",
       " {'name': 'https://www.kertys.com/replay-webinaire-le-rpa-au-service-de-votre-transformation-digitale',\n",
       "  'value': 114.0,\n",
       "  'value1': 0.0},\n",
       " {'name': 'https://www.kertys.com/ressources/la-technologie-piql-solution-ultime-de-conservation-des-donnees-et-archives-pour-le-secteur-des-banques-des-services-financiers-et-des-assurances-au-maroc-et-afrique',\n",
       "  'value': 112.0,\n",
       "  'value1': 0.0},\n",
       " {'name': 'https://www.kertys.com/webinaire-digitalisez-vos-campagnes-devaluation-annuelle-avec-talentsoft',\n",
       "  'value': 112.0,\n",
       "  'value1': 0.0},\n",
       " {'name': 'https://www.kertys.com/webinaire-le-pilotage-de-la-performance-financiere-avec-lucanet',\n",
       "  'value': 106.0,\n",
       "  'value1': 0.0},\n",
       " {'name': 'https://www.kertys.com/webinaire-piql-solution-de-conservation-et-preservation-a-long-terme-des-documents',\n",
       "  'value': 105.0,\n",
       "  'value1': 0.0},\n",
       " {'name': 'https://www.kertys.com/services/digital-workplace/audit-et-conformite',\n",
       "  'value': 102.0,\n",
       "  'value1': 0.0},\n",
       " {'name': 'https://www.kertys.com/livre-blanc-priorites-et-perspectives-pour-2025-en-matiere-de-gestion-des-competences',\n",
       "  'value': 87.0,\n",
       "  'value1': 1.0},\n",
       " {'name': 'https://www.kertys.com/ressources/m-files-offre-un-retour-sur-investissement-de-pres-de-270-selon-une-nouvelle-etude-dimpact-economique-total',\n",
       "  'value': 83.0,\n",
       "  'value1': 0.0},\n",
       " {'name': 'https://www.kertys.com/automation-360-pour-lautomatisation-des-commandes-dans-sap',\n",
       "  'value': 81.0,\n",
       "  'value1': 0.0},\n",
       " {'name': 'https://www.kertys.com/webinaire-reinventer-le-futur-du-travail-avec-une-solution-no-code-bpm-eflow',\n",
       "  'value': 66.0,\n",
       "  'value1': 0.0},\n",
       " {'name': 'https://www.kertys.com/ressources/les-4-cles-pour-constituer-une-equipe-performante-en-2021',\n",
       "  'value': 64.0,\n",
       "  'value1': 0.0},\n",
       " {'name': 'https://www.kertys.com/services/digital-workplace/gestion-des-cheques',\n",
       "  'value': 61.0,\n",
       "  'value1': 0.0},\n",
       " {'name': 'https://www.kertys.com/video-webinaire-piql-solution-de-conservation-et-preservation-a-long-terme-des-documents',\n",
       "  'value': 60.0,\n",
       "  'value1': 0.0},\n",
       " {'name': 'https://www.kertys.com/services/digital-workplace/gestion-du-comite-dentreprise',\n",
       "  'value': 45.0,\n",
       "  'value1': 0.0},\n",
       " {'name': 'https://www.kertys.com/categorie/automatisation',\n",
       "  'value': 43.0,\n",
       "  'value1': 0.0}]"
      ]
     },
     "execution_count": 139,
     "metadata": {},
     "output_type": "execute_result"
    }
   ],
   "source": [
    "import pandas as pd\n",
    "df = pd.read_csv('KEYWORD_PAGE_REPORT.csv')\n",
    "df = df[['date','keyword' ,'page', 'clicks' , 'impressions','position']]\n",
    "df = df.groupby(by='page', as_index=False).agg({'impressions': 'sum' , 'clicks':'sum' })\n",
    "df = df.sort_values(by = 'impressions' , ascending=False  )\n",
    "df = df.reset_index(drop=True)\n",
    "\n",
    "categories = [\n",
    "    {\"name\": df['page'][0], \"value\": df['impressions'][0] , \"value1\": df['clicks'][0]  }\n",
    "    \n",
    "]\n",
    "for i in range(1, 100):\n",
    "    categoties = categories.append({\"name\": df['page'][i], \"value\": df['impressions'][i] , \"value1\": df['clicks'][i]})\n",
    "categories"
   ]
  },
  {
   "cell_type": "code",
   "execution_count": 138,
   "metadata": {},
   "outputs": [
    {
     "data": {
      "application/vnd.plotly.v1+json": {
       "config": {
        "plotlyServerURL": "https://plot.ly"
       },
       "data": [
        {
         "hoverinfo": "text",
         "marker": {
          "color": "#2030a0"
         },
         "orientation": "h",
         "text": [
          "577"
         ],
         "textposition": "auto",
         "type": "bar",
         "x": [
          577
         ],
         "xaxis": "x",
         "y": [
          "https://www.kertys.com/"
         ],
         "yaxis": "y"
        },
        {
         "hoverinfo": "text",
         "marker": {
          "color": "#7030a0"
         },
         "orientation": "h",
         "text": [
          "2,407"
         ],
         "textposition": "auto",
         "type": "bar",
         "x": [
          2407
         ],
         "xaxis": "x",
         "y": [
          "https://www.kertys.com/"
         ],
         "yaxis": "y"
        },
        {
         "hoverinfo": "text",
         "marker": {
          "color": "#2030a0"
         },
         "orientation": "h",
         "text": [
          "206"
         ],
         "textposition": "auto",
         "type": "bar",
         "x": [
          206
         ],
         "xaxis": "x2",
         "y": [
          "https://www.kertys.com/ressources/sirh-systeme-dinformation-des-ressources-humaines"
         ],
         "yaxis": "y2"
        },
        {
         "hoverinfo": "text",
         "marker": {
          "color": "#7030a0"
         },
         "orientation": "h",
         "text": [
          "25,728"
         ],
         "textposition": "auto",
         "type": "bar",
         "x": [
          25728
         ],
         "xaxis": "x2",
         "y": [
          "https://www.kertys.com/ressources/sirh-systeme-dinformation-des-ressources-humaines"
         ],
         "yaxis": "y2"
        },
        {
         "hoverinfo": "text",
         "marker": {
          "color": "#2030a0"
         },
         "orientation": "h",
         "text": [
          "160"
         ],
         "textposition": "auto",
         "type": "bar",
         "x": [
          160
         ],
         "xaxis": "x3",
         "y": [
          "https://www.kertys.com/ressources/solutions-ged-au-maroc-dematerialisation-et-archivage-numerique"
         ],
         "yaxis": "y3"
        },
        {
         "hoverinfo": "text",
         "marker": {
          "color": "#7030a0"
         },
         "orientation": "h",
         "text": [
          "10,450"
         ],
         "textposition": "auto",
         "type": "bar",
         "x": [
          10450
         ],
         "xaxis": "x3",
         "y": [
          "https://www.kertys.com/ressources/solutions-ged-au-maroc-dematerialisation-et-archivage-numerique"
         ],
         "yaxis": "y3"
        },
        {
         "hoverinfo": "text",
         "marker": {
          "color": "#2030a0"
         },
         "orientation": "h",
         "text": [
          "98"
         ],
         "textposition": "auto",
         "type": "bar",
         "x": [
          98
         ],
         "xaxis": "x4",
         "y": [
          "https://www.kertys.com/ressources/dematerialisation-de-la-gestion-des-courriers-entrants-et-sortants-du-bureau-dordre-au-maroc"
         ],
         "yaxis": "y4"
        },
        {
         "hoverinfo": "text",
         "marker": {
          "color": "#7030a0"
         },
         "orientation": "h",
         "text": [
          "13,812"
         ],
         "textposition": "auto",
         "type": "bar",
         "x": [
          13812
         ],
         "xaxis": "x4",
         "y": [
          "https://www.kertys.com/ressources/dematerialisation-de-la-gestion-des-courriers-entrants-et-sortants-du-bureau-dordre-au-maroc"
         ],
         "yaxis": "y4"
        },
        {
         "hoverinfo": "text",
         "marker": {
          "color": "#2030a0"
         },
         "orientation": "h",
         "text": [
          "85"
         ],
         "textposition": "auto",
         "type": "bar",
         "x": [
          85
         ],
         "xaxis": "x5",
         "y": [
          "https://www.kertys.com/solutions/anaplan"
         ],
         "yaxis": "y5"
        },
        {
         "hoverinfo": "text",
         "marker": {
          "color": "#7030a0"
         },
         "orientation": "h",
         "text": [
          "56,368"
         ],
         "textposition": "auto",
         "type": "bar",
         "x": [
          56368
         ],
         "xaxis": "x5",
         "y": [
          "https://www.kertys.com/solutions/anaplan"
         ],
         "yaxis": "y5"
        },
        {
         "hoverinfo": "text",
         "marker": {
          "color": "#2030a0"
         },
         "orientation": "h",
         "text": [
          "77"
         ],
         "textposition": "auto",
         "type": "bar",
         "x": [
          77
         ],
         "xaxis": "x6",
         "y": [
          "https://www.kertys.com/solutions/streamsets"
         ],
         "yaxis": "y6"
        },
        {
         "hoverinfo": "text",
         "marker": {
          "color": "#7030a0"
         },
         "orientation": "h",
         "text": [
          "7,910"
         ],
         "textposition": "auto",
         "type": "bar",
         "x": [
          7910
         ],
         "xaxis": "x6",
         "y": [
          "https://www.kertys.com/solutions/streamsets"
         ],
         "yaxis": "y6"
        },
        {
         "hoverinfo": "text",
         "marker": {
          "color": "#2030a0"
         },
         "orientation": "h",
         "text": [
          "73"
         ],
         "textposition": "auto",
         "type": "bar",
         "x": [
          73
         ],
         "xaxis": "x7",
         "y": [
          "https://www.kertys.com/ressources/plateformes-lms-et-lcms-pouvez-vous-faire-la-difference"
         ],
         "yaxis": "y7"
        },
        {
         "hoverinfo": "text",
         "marker": {
          "color": "#7030a0"
         },
         "orientation": "h",
         "text": [
          "29,745"
         ],
         "textposition": "auto",
         "type": "bar",
         "x": [
          29745
         ],
         "xaxis": "x7",
         "y": [
          "https://www.kertys.com/ressources/plateformes-lms-et-lcms-pouvez-vous-faire-la-difference"
         ],
         "yaxis": "y7"
        },
        {
         "hoverinfo": "text",
         "marker": {
          "color": "#2030a0"
         },
         "orientation": "h",
         "text": [
          "56"
         ],
         "textposition": "auto",
         "type": "bar",
         "x": [
          56
         ],
         "xaxis": "x8",
         "y": [
          "https://www.kertys.com/ressources/digitalisation-des-ressources-humaines-defis-et-opportunites"
         ],
         "yaxis": "y8"
        },
        {
         "hoverinfo": "text",
         "marker": {
          "color": "#7030a0"
         },
         "orientation": "h",
         "text": [
          "10,304"
         ],
         "textposition": "auto",
         "type": "bar",
         "x": [
          10304
         ],
         "xaxis": "x8",
         "y": [
          "https://www.kertys.com/ressources/digitalisation-des-ressources-humaines-defis-et-opportunites"
         ],
         "yaxis": "y8"
        },
        {
         "hoverinfo": "text",
         "marker": {
          "color": "#2030a0"
         },
         "orientation": "h",
         "text": [
          "48"
         ],
         "textposition": "auto",
         "type": "bar",
         "x": [
          48
         ],
         "xaxis": "x9",
         "y": [
          "https://www.kertys.com/ressources/la-rpa-au-service-de-votre-transformation-digitale-au-maroc-et-afrique"
         ],
         "yaxis": "y9"
        },
        {
         "hoverinfo": "text",
         "marker": {
          "color": "#7030a0"
         },
         "orientation": "h",
         "text": [
          "2,078"
         ],
         "textposition": "auto",
         "type": "bar",
         "x": [
          2078
         ],
         "xaxis": "x9",
         "y": [
          "https://www.kertys.com/ressources/la-rpa-au-service-de-votre-transformation-digitale-au-maroc-et-afrique"
         ],
         "yaxis": "y9"
        },
        {
         "hoverinfo": "text",
         "marker": {
          "color": "#2030a0"
         },
         "orientation": "h",
         "text": [
          "41"
         ],
         "textposition": "auto",
         "type": "bar",
         "x": [
          41
         ],
         "xaxis": "x10",
         "y": [
          "https://www.kertys.com/ressources/8-problemes-resolus-par-les-solutions-de-business-intelligence-bi"
         ],
         "yaxis": "y10"
        },
        {
         "hoverinfo": "text",
         "marker": {
          "color": "#7030a0"
         },
         "orientation": "h",
         "text": [
          "10,606"
         ],
         "textposition": "auto",
         "type": "bar",
         "x": [
          10606
         ],
         "xaxis": "x10",
         "y": [
          "https://www.kertys.com/ressources/8-problemes-resolus-par-les-solutions-de-business-intelligence-bi"
         ],
         "yaxis": "y10"
        },
        {
         "hoverinfo": "text",
         "marker": {
          "color": "#2030a0"
         },
         "orientation": "h",
         "text": [
          "32"
         ],
         "textposition": "auto",
         "type": "bar",
         "x": [
          32
         ],
         "xaxis": "x11",
         "y": [
          "https://www.kertys.com/clients/la-digitalisation-du-bureau-ordre-matu-assurance"
         ],
         "yaxis": "y11"
        },
        {
         "hoverinfo": "text",
         "marker": {
          "color": "#7030a0"
         },
         "orientation": "h",
         "text": [
          "4,302"
         ],
         "textposition": "auto",
         "type": "bar",
         "x": [
          4302
         ],
         "xaxis": "x11",
         "y": [
          "https://www.kertys.com/clients/la-digitalisation-du-bureau-ordre-matu-assurance"
         ],
         "yaxis": "y11"
        },
        {
         "hoverinfo": "text",
         "marker": {
          "color": "#2030a0"
         },
         "orientation": "h",
         "text": [
          "28"
         ],
         "textposition": "auto",
         "type": "bar",
         "x": [
          28
         ],
         "xaxis": "x12",
         "y": [
          "https://www.kertys.com/ressources/le-processus-du-bureau-dordre-digital-explique-cas-de-gestion-des-courriers-en-france"
         ],
         "yaxis": "y12"
        },
        {
         "hoverinfo": "text",
         "marker": {
          "color": "#7030a0"
         },
         "orientation": "h",
         "text": [
          "3,019"
         ],
         "textposition": "auto",
         "type": "bar",
         "x": [
          3019
         ],
         "xaxis": "x12",
         "y": [
          "https://www.kertys.com/ressources/le-processus-du-bureau-dordre-digital-explique-cas-de-gestion-des-courriers-en-france"
         ],
         "yaxis": "y12"
        },
        {
         "hoverinfo": "text",
         "marker": {
          "color": "#2030a0"
         },
         "orientation": "h",
         "text": [
          "21"
         ],
         "textposition": "auto",
         "type": "bar",
         "x": [
          21
         ],
         "xaxis": "x13",
         "y": [
          "https://www.kertys.com/a-propos"
         ],
         "yaxis": "y13"
        },
        {
         "hoverinfo": "text",
         "marker": {
          "color": "#7030a0"
         },
         "orientation": "h",
         "text": [
          "1,293"
         ],
         "textposition": "auto",
         "type": "bar",
         "x": [
          1293
         ],
         "xaxis": "x13",
         "y": [
          "https://www.kertys.com/a-propos"
         ],
         "yaxis": "y13"
        },
        {
         "hoverinfo": "text",
         "marker": {
          "color": "#2030a0"
         },
         "orientation": "h",
         "text": [
          "20"
         ],
         "textposition": "auto",
         "type": "bar",
         "x": [
          20
         ],
         "xaxis": "x14",
         "y": [
          "https://www.kertys.com/solutions/talentsoft"
         ],
         "yaxis": "y14"
        },
        {
         "hoverinfo": "text",
         "marker": {
          "color": "#7030a0"
         },
         "orientation": "h",
         "text": [
          "9,355"
         ],
         "textposition": "auto",
         "type": "bar",
         "x": [
          9355
         ],
         "xaxis": "x14",
         "y": [
          "https://www.kertys.com/solutions/talentsoft"
         ],
         "yaxis": "y14"
        },
        {
         "hoverinfo": "text",
         "marker": {
          "color": "#2030a0"
         },
         "orientation": "h",
         "text": [
          "18"
         ],
         "textposition": "auto",
         "type": "bar",
         "x": [
          18
         ],
         "xaxis": "x15",
         "y": [
          "https://www.kertys.com/solutions/m-files"
         ],
         "yaxis": "y15"
        },
        {
         "hoverinfo": "text",
         "marker": {
          "color": "#7030a0"
         },
         "orientation": "h",
         "text": [
          "6,687"
         ],
         "textposition": "auto",
         "type": "bar",
         "x": [
          6687
         ],
         "xaxis": "x15",
         "y": [
          "https://www.kertys.com/solutions/m-files"
         ],
         "yaxis": "y15"
        },
        {
         "hoverinfo": "text",
         "marker": {
          "color": "#2030a0"
         },
         "orientation": "h",
         "text": [
          "17"
         ],
         "textposition": "auto",
         "type": "bar",
         "x": [
          17
         ],
         "xaxis": "x16",
         "y": [
          "https://www.kertys.com/solutions/automation-anywhere"
         ],
         "yaxis": "y16"
        },
        {
         "hoverinfo": "text",
         "marker": {
          "color": "#7030a0"
         },
         "orientation": "h",
         "text": [
          "3,284"
         ],
         "textposition": "auto",
         "type": "bar",
         "x": [
          3284
         ],
         "xaxis": "x16",
         "y": [
          "https://www.kertys.com/solutions/automation-anywhere"
         ],
         "yaxis": "y16"
        },
        {
         "hoverinfo": "text",
         "marker": {
          "color": "#2030a0"
         },
         "orientation": "h",
         "text": [
          "17"
         ],
         "textposition": "auto",
         "type": "bar",
         "x": [
          17
         ],
         "xaxis": "x17",
         "y": [
          "https://www.kertys.com/clients/dematerialisation-des-processus-metiers-cmim"
         ],
         "yaxis": "y17"
        },
        {
         "hoverinfo": "text",
         "marker": {
          "color": "#7030a0"
         },
         "orientation": "h",
         "text": [
          "38,840"
         ],
         "textposition": "auto",
         "type": "bar",
         "x": [
          38840
         ],
         "xaxis": "x17",
         "y": [
          "https://www.kertys.com/clients/dematerialisation-des-processus-metiers-cmim"
         ],
         "yaxis": "y17"
        },
        {
         "hoverinfo": "text",
         "marker": {
          "color": "#2030a0"
         },
         "orientation": "h",
         "text": [
          "15"
         ],
         "textposition": "auto",
         "type": "bar",
         "x": [
          15
         ],
         "xaxis": "x18",
         "y": [
          "https://www.kertys.com/ressources/la-gestion-documentaire-ged-pour-le-secteur-de-lassurance-au-maroc-et-en-afrique"
         ],
         "yaxis": "y18"
        },
        {
         "hoverinfo": "text",
         "marker": {
          "color": "#7030a0"
         },
         "orientation": "h",
         "text": [
          "5,159"
         ],
         "textposition": "auto",
         "type": "bar",
         "x": [
          5159
         ],
         "xaxis": "x18",
         "y": [
          "https://www.kertys.com/ressources/la-gestion-documentaire-ged-pour-le-secteur-de-lassurance-au-maroc-et-en-afrique"
         ],
         "yaxis": "y18"
        },
        {
         "hoverinfo": "text",
         "marker": {
          "color": "#2030a0"
         },
         "orientation": "h",
         "text": [
          "12"
         ],
         "textposition": "auto",
         "type": "bar",
         "x": [
          12
         ],
         "xaxis": "x19",
         "y": [
          "https://www.kertys.com/solutions/iris-powerscan"
         ],
         "yaxis": "y19"
        },
        {
         "hoverinfo": "text",
         "marker": {
          "color": "#7030a0"
         },
         "orientation": "h",
         "text": [
          "2,484"
         ],
         "textposition": "auto",
         "type": "bar",
         "x": [
          2484
         ],
         "xaxis": "x19",
         "y": [
          "https://www.kertys.com/solutions/iris-powerscan"
         ],
         "yaxis": "y19"
        },
        {
         "hoverinfo": "text",
         "marker": {
          "color": "#2030a0"
         },
         "orientation": "h",
         "text": [
          "8"
         ],
         "textposition": "auto",
         "type": "bar",
         "x": [
          8
         ],
         "xaxis": "x20",
         "y": [
          "https://www.kertys.com/solutions/ignimission"
         ],
         "yaxis": "y20"
        },
        {
         "hoverinfo": "text",
         "marker": {
          "color": "#7030a0"
         },
         "orientation": "h",
         "text": [
          "3,091"
         ],
         "textposition": "auto",
         "type": "bar",
         "x": [
          3091
         ],
         "xaxis": "x20",
         "y": [
          "https://www.kertys.com/solutions/ignimission"
         ],
         "yaxis": "y20"
        },
        {
         "hoverinfo": "text",
         "marker": {
          "color": "#2030a0"
         },
         "orientation": "h",
         "text": [
          "7"
         ],
         "textposition": "auto",
         "type": "bar",
         "x": [
          7
         ],
         "xaxis": "x21",
         "y": [
          "https://www.kertys.com/demo"
         ],
         "yaxis": "y21"
        },
        {
         "hoverinfo": "text",
         "marker": {
          "color": "#7030a0"
         },
         "orientation": "h",
         "text": [
          "1,396"
         ],
         "textposition": "auto",
         "type": "bar",
         "x": [
          1396
         ],
         "xaxis": "x21",
         "y": [
          "https://www.kertys.com/demo"
         ],
         "yaxis": "y21"
        },
        {
         "hoverinfo": "text",
         "marker": {
          "color": "#2030a0"
         },
         "orientation": "h",
         "text": [
          "6"
         ],
         "textposition": "auto",
         "type": "bar",
         "x": [
          6
         ],
         "xaxis": "x22",
         "y": [
          "https://www.kertys.com/categorie/gestion-electronique-des-documents"
         ],
         "yaxis": "y22"
        },
        {
         "hoverinfo": "text",
         "marker": {
          "color": "#7030a0"
         },
         "orientation": "h",
         "text": [
          "3,045"
         ],
         "textposition": "auto",
         "type": "bar",
         "x": [
          3045
         ],
         "xaxis": "x22",
         "y": [
          "https://www.kertys.com/categorie/gestion-electronique-des-documents"
         ],
         "yaxis": "y22"
        },
        {
         "hoverinfo": "text",
         "marker": {
          "color": "#2030a0"
         },
         "orientation": "h",
         "text": [
          "4"
         ],
         "textposition": "auto",
         "type": "bar",
         "x": [
          4
         ],
         "xaxis": "x23",
         "y": [
          "https://www.kertys.com/categorie/business-intelligence"
         ],
         "yaxis": "y23"
        },
        {
         "hoverinfo": "text",
         "marker": {
          "color": "#7030a0"
         },
         "orientation": "h",
         "text": [
          "145"
         ],
         "textposition": "auto",
         "type": "bar",
         "x": [
          145
         ],
         "xaxis": "x23",
         "y": [
          "https://www.kertys.com/categorie/business-intelligence"
         ],
         "yaxis": "y23"
        },
        {
         "hoverinfo": "text",
         "marker": {
          "color": "#2030a0"
         },
         "orientation": "h",
         "text": [
          "3"
         ],
         "textposition": "auto",
         "type": "bar",
         "x": [
          3
         ],
         "xaxis": "x24",
         "y": [
          "https://www.kertys.com/le-socle-rh-pour-une-nouvelle-gestion-des-talents-au-maroc-et-afrique"
         ],
         "yaxis": "y24"
        },
        {
         "hoverinfo": "text",
         "marker": {
          "color": "#7030a0"
         },
         "orientation": "h",
         "text": [
          "597"
         ],
         "textposition": "auto",
         "type": "bar",
         "x": [
          597
         ],
         "xaxis": "x24",
         "y": [
          "https://www.kertys.com/le-socle-rh-pour-une-nouvelle-gestion-des-talents-au-maroc-et-afrique"
         ],
         "yaxis": "y24"
        },
        {
         "hoverinfo": "text",
         "marker": {
          "color": "#2030a0"
         },
         "orientation": "h",
         "text": [
          "3"
         ],
         "textposition": "auto",
         "type": "bar",
         "x": [
          3
         ],
         "xaxis": "x25",
         "y": [
          "https://www.kertys.com/carrieres"
         ],
         "yaxis": "y25"
        },
        {
         "hoverinfo": "text",
         "marker": {
          "color": "#7030a0"
         },
         "orientation": "h",
         "text": [
          "519"
         ],
         "textposition": "auto",
         "type": "bar",
         "x": [
          519
         ],
         "xaxis": "x25",
         "y": [
          "https://www.kertys.com/carrieres"
         ],
         "yaxis": "y25"
        },
        {
         "hoverinfo": "text",
         "marker": {
          "color": "#2030a0"
         },
         "orientation": "h",
         "text": [
          "3"
         ],
         "textposition": "auto",
         "type": "bar",
         "x": [
          3
         ],
         "xaxis": "x26",
         "y": [
          "https://www.kertys.com/ressources/quelle-solution-bpm-est-collaborative-no-code-au-maroc-et-afrique"
         ],
         "yaxis": "y26"
        },
        {
         "hoverinfo": "text",
         "marker": {
          "color": "#7030a0"
         },
         "orientation": "h",
         "text": [
          "2,506"
         ],
         "textposition": "auto",
         "type": "bar",
         "x": [
          2506
         ],
         "xaxis": "x26",
         "y": [
          "https://www.kertys.com/ressources/quelle-solution-bpm-est-collaborative-no-code-au-maroc-et-afrique"
         ],
         "yaxis": "y26"
        },
        {
         "hoverinfo": "text",
         "marker": {
          "color": "#2030a0"
         },
         "orientation": "h",
         "text": [
          "3"
         ],
         "textposition": "auto",
         "type": "bar",
         "x": [
          3
         ],
         "xaxis": "x27",
         "y": [
          "https://www.kertys.com/contact"
         ],
         "yaxis": "y27"
        },
        {
         "hoverinfo": "text",
         "marker": {
          "color": "#7030a0"
         },
         "orientation": "h",
         "text": [
          "457"
         ],
         "textposition": "auto",
         "type": "bar",
         "x": [
          457
         ],
         "xaxis": "x27",
         "y": [
          "https://www.kertys.com/contact"
         ],
         "yaxis": "y27"
        },
        {
         "hoverinfo": "text",
         "marker": {
          "color": "#2030a0"
         },
         "orientation": "h",
         "text": [
          "3"
         ],
         "textposition": "auto",
         "type": "bar",
         "x": [
          3
         ],
         "xaxis": "x28",
         "y": [
          "https://www.kertys.com/ressources/gerer-vos-donnees-a-travers-m-files-et-son-integration-teams"
         ],
         "yaxis": "y28"
        },
        {
         "hoverinfo": "text",
         "marker": {
          "color": "#7030a0"
         },
         "orientation": "h",
         "text": [
          "1,223"
         ],
         "textposition": "auto",
         "type": "bar",
         "x": [
          1223
         ],
         "xaxis": "x28",
         "y": [
          "https://www.kertys.com/ressources/gerer-vos-donnees-a-travers-m-files-et-son-integration-teams"
         ],
         "yaxis": "y28"
        },
        {
         "hoverinfo": "text",
         "marker": {
          "color": "#2030a0"
         },
         "orientation": "h",
         "text": [
          "3"
         ],
         "textposition": "auto",
         "type": "bar",
         "x": [
          3
         ],
         "xaxis": "x29",
         "y": [
          "https://www.kertys.com/solutions/hubshare"
         ],
         "yaxis": "y29"
        },
        {
         "hoverinfo": "text",
         "marker": {
          "color": "#7030a0"
         },
         "orientation": "h",
         "text": [
          "1,034"
         ],
         "textposition": "auto",
         "type": "bar",
         "x": [
          1034
         ],
         "xaxis": "x29",
         "y": [
          "https://www.kertys.com/solutions/hubshare"
         ],
         "yaxis": "y29"
        },
        {
         "hoverinfo": "text",
         "marker": {
          "color": "#2030a0"
         },
         "orientation": "h",
         "text": [
          "3"
         ],
         "textposition": "auto",
         "type": "bar",
         "x": [
          3
         ],
         "xaxis": "x30",
         "y": [
          "https://www.kertys.com/solutions/eflow-bpm"
         ],
         "yaxis": "y30"
        },
        {
         "hoverinfo": "text",
         "marker": {
          "color": "#7030a0"
         },
         "orientation": "h",
         "text": [
          "2,505"
         ],
         "textposition": "auto",
         "type": "bar",
         "x": [
          2505
         ],
         "xaxis": "x30",
         "y": [
          "https://www.kertys.com/solutions/eflow-bpm"
         ],
         "yaxis": "y30"
        },
        {
         "hoverinfo": "text",
         "marker": {
          "color": "#2030a0"
         },
         "orientation": "h",
         "text": [
          "2"
         ],
         "textposition": "auto",
         "type": "bar",
         "x": [
          2
         ],
         "xaxis": "x31",
         "y": [
          "https://www.kertys.com/services/formations"
         ],
         "yaxis": "y31"
        },
        {
         "hoverinfo": "text",
         "marker": {
          "color": "#7030a0"
         },
         "orientation": "h",
         "text": [
          "440"
         ],
         "textposition": "auto",
         "type": "bar",
         "x": [
          440
         ],
         "xaxis": "x31",
         "y": [
          "https://www.kertys.com/services/formations"
         ],
         "yaxis": "y31"
        },
        {
         "hoverinfo": "text",
         "marker": {
          "color": "#2030a0"
         },
         "orientation": "h",
         "text": [
          "2"
         ],
         "textposition": "auto",
         "type": "bar",
         "x": [
          2
         ],
         "xaxis": "x32",
         "y": [
          "https://www.kertys.com/solutions/zenoptics"
         ],
         "yaxis": "y32"
        },
        {
         "hoverinfo": "text",
         "marker": {
          "color": "#7030a0"
         },
         "orientation": "h",
         "text": [
          "1,345"
         ],
         "textposition": "auto",
         "type": "bar",
         "x": [
          1345
         ],
         "xaxis": "x32",
         "y": [
          "https://www.kertys.com/solutions/zenoptics"
         ],
         "yaxis": "y32"
        },
        {
         "hoverinfo": "text",
         "marker": {
          "color": "#2030a0"
         },
         "orientation": "h",
         "text": [
          "2"
         ],
         "textposition": "auto",
         "type": "bar",
         "x": [
          2
         ],
         "xaxis": "x33",
         "y": [
          "https://www.kertys.com/ressources/cegid-va-acquerir-talentsoft-et-ainsi-donner-naissance-a-un-champion-europeen-des-solutions-rh-dans-le-cloud"
         ],
         "yaxis": "y33"
        },
        {
         "hoverinfo": "text",
         "marker": {
          "color": "#7030a0"
         },
         "orientation": "h",
         "text": [
          "1,178"
         ],
         "textposition": "auto",
         "type": "bar",
         "x": [
          1178
         ],
         "xaxis": "x33",
         "y": [
          "https://www.kertys.com/ressources/cegid-va-acquerir-talentsoft-et-ainsi-donner-naissance-a-un-champion-europeen-des-solutions-rh-dans-le-cloud"
         ],
         "yaxis": "y33"
        },
        {
         "hoverinfo": "text",
         "marker": {
          "color": "#2030a0"
         },
         "orientation": "h",
         "text": [
          "2"
         ],
         "textposition": "auto",
         "type": "bar",
         "x": [
          2
         ],
         "xaxis": "x34",
         "y": [
          "https://www.kertys.com/afrique"
         ],
         "yaxis": "y34"
        },
        {
         "hoverinfo": "text",
         "marker": {
          "color": "#7030a0"
         },
         "orientation": "h",
         "text": [
          "3,114"
         ],
         "textposition": "auto",
         "type": "bar",
         "x": [
          3114
         ],
         "xaxis": "x34",
         "y": [
          "https://www.kertys.com/afrique"
         ],
         "yaxis": "y34"
        },
        {
         "hoverinfo": "text",
         "marker": {
          "color": "#2030a0"
         },
         "orientation": "h",
         "text": [
          "2"
         ],
         "textposition": "auto",
         "type": "bar",
         "x": [
          2
         ],
         "xaxis": "x35",
         "y": [
          "https://www.kertys.com/ressources/m-files-nomme-laureat-des-2022-big-artificial-intelligence-excellence-awards"
         ],
         "yaxis": "y35"
        },
        {
         "hoverinfo": "text",
         "marker": {
          "color": "#7030a0"
         },
         "orientation": "h",
         "text": [
          "377"
         ],
         "textposition": "auto",
         "type": "bar",
         "x": [
          377
         ],
         "xaxis": "x35",
         "y": [
          "https://www.kertys.com/ressources/m-files-nomme-laureat-des-2022-big-artificial-intelligence-excellence-awards"
         ],
         "yaxis": "y35"
        },
        {
         "hoverinfo": "text",
         "marker": {
          "color": "#2030a0"
         },
         "orientation": "h",
         "text": [
          "2"
         ],
         "textposition": "auto",
         "type": "bar",
         "x": [
          2
         ],
         "xaxis": "x36",
         "y": [
          "https://www.kertys.com/ressources/ocr-au-maroc-et-afrique"
         ],
         "yaxis": "y36"
        },
        {
         "hoverinfo": "text",
         "marker": {
          "color": "#7030a0"
         },
         "orientation": "h",
         "text": [
          "5,495"
         ],
         "textposition": "auto",
         "type": "bar",
         "x": [
          5495
         ],
         "xaxis": "x36",
         "y": [
          "https://www.kertys.com/ressources/ocr-au-maroc-et-afrique"
         ],
         "yaxis": "y36"
        },
        {
         "hoverinfo": "text",
         "marker": {
          "color": "#2030a0"
         },
         "orientation": "h",
         "text": [
          "1"
         ],
         "textposition": "auto",
         "type": "bar",
         "x": [
          1
         ],
         "xaxis": "x37",
         "y": [
          "https://www.kertys.com/ressources/m-files-reconnu-comme-visionnaire-dans-le-magic-quadrant-de-gartner-pour-les-plateformes-de-services-de-contenu-2021"
         ],
         "yaxis": "y37"
        },
        {
         "hoverinfo": "text",
         "marker": {
          "color": "#7030a0"
         },
         "orientation": "h",
         "text": [
          "148"
         ],
         "textposition": "auto",
         "type": "bar",
         "x": [
          148
         ],
         "xaxis": "x37",
         "y": [
          "https://www.kertys.com/ressources/m-files-reconnu-comme-visionnaire-dans-le-magic-quadrant-de-gartner-pour-les-plateformes-de-services-de-contenu-2021"
         ],
         "yaxis": "y37"
        },
        {
         "hoverinfo": "text",
         "marker": {
          "color": "#2030a0"
         },
         "orientation": "h",
         "text": [
          "1"
         ],
         "textposition": "auto",
         "type": "bar",
         "x": [
          1
         ],
         "xaxis": "x38",
         "y": [
          "https://www.kertys.com/ressources/solution-ged-en-afrique-pour-optimiser-votre-gestion-documentaire"
         ],
         "yaxis": "y38"
        },
        {
         "hoverinfo": "text",
         "marker": {
          "color": "#7030a0"
         },
         "orientation": "h",
         "text": [
          "5,223"
         ],
         "textposition": "auto",
         "type": "bar",
         "x": [
          5223
         ],
         "xaxis": "x38",
         "y": [
          "https://www.kertys.com/ressources/solution-ged-en-afrique-pour-optimiser-votre-gestion-documentaire"
         ],
         "yaxis": "y38"
        },
        {
         "hoverinfo": "text",
         "marker": {
          "color": "#2030a0"
         },
         "orientation": "h",
         "text": [
          "1"
         ],
         "textposition": "auto",
         "type": "bar",
         "x": [
          1
         ],
         "xaxis": "x39",
         "y": [
          "https://www.kertys.com/ressources/les-5-activites-les-plus-courantes-a-automatiser-dans-lassurance-avec-la-rpa-automation-anywhere"
         ],
         "yaxis": "y39"
        },
        {
         "hoverinfo": "text",
         "marker": {
          "color": "#7030a0"
         },
         "orientation": "h",
         "text": [
          "975"
         ],
         "textposition": "auto",
         "type": "bar",
         "x": [
          975
         ],
         "xaxis": "x39",
         "y": [
          "https://www.kertys.com/ressources/les-5-activites-les-plus-courantes-a-automatiser-dans-lassurance-avec-la-rpa-automation-anywhere"
         ],
         "yaxis": "y39"
        },
        {
         "hoverinfo": "text",
         "marker": {
          "color": "#2030a0"
         },
         "orientation": "h",
         "text": [
          "1"
         ],
         "textposition": "auto",
         "type": "bar",
         "x": [
          1
         ],
         "xaxis": "x40",
         "y": [
          "https://www.kertys.com/services/digital-workplace/gestion-des-appels-doffres"
         ],
         "yaxis": "y40"
        },
        {
         "hoverinfo": "text",
         "marker": {
          "color": "#7030a0"
         },
         "orientation": "h",
         "text": [
          "1,745"
         ],
         "textposition": "auto",
         "type": "bar",
         "x": [
          1745
         ],
         "xaxis": "x40",
         "y": [
          "https://www.kertys.com/services/digital-workplace/gestion-des-appels-doffres"
         ],
         "yaxis": "y40"
        },
        {
         "hoverinfo": "text",
         "marker": {
          "color": "#2030a0"
         },
         "orientation": "h",
         "text": [
          "1"
         ],
         "textposition": "auto",
         "type": "bar",
         "x": [
          1
         ],
         "xaxis": "x41",
         "y": [
          "https://www.kertys.com/ressources/talentsoft-affirme-sa-position-en-leader-europeen-des-solutions-de-cloud-hcm"
         ],
         "yaxis": "y41"
        },
        {
         "hoverinfo": "text",
         "marker": {
          "color": "#7030a0"
         },
         "orientation": "h",
         "text": [
          "734"
         ],
         "textposition": "auto",
         "type": "bar",
         "x": [
          734
         ],
         "xaxis": "x41",
         "y": [
          "https://www.kertys.com/ressources/talentsoft-affirme-sa-position-en-leader-europeen-des-solutions-de-cloud-hcm"
         ],
         "yaxis": "y41"
        },
        {
         "hoverinfo": "text",
         "marker": {
          "color": "#2030a0"
         },
         "orientation": "h",
         "text": [
          "1"
         ],
         "textposition": "auto",
         "type": "bar",
         "x": [
          1
         ],
         "xaxis": "x42",
         "y": [
          "https://www.kertys.com/ressources/piql-signe-un-nouvel-accord-pour-stocker-les-donnees-de-plus-dun-million-de-semences-dans-la-chambre-forte-mondiale-de-svalbard"
         ],
         "yaxis": "y42"
        },
        {
         "hoverinfo": "text",
         "marker": {
          "color": "#7030a0"
         },
         "orientation": "h",
         "text": [
          "435"
         ],
         "textposition": "auto",
         "type": "bar",
         "x": [
          435
         ],
         "xaxis": "x42",
         "y": [
          "https://www.kertys.com/ressources/piql-signe-un-nouvel-accord-pour-stocker-les-donnees-de-plus-dun-million-de-semences-dans-la-chambre-forte-mondiale-de-svalbard"
         ],
         "yaxis": "y42"
        },
        {
         "hoverinfo": "text",
         "marker": {
          "color": "#2030a0"
         },
         "orientation": "h",
         "text": [
          "1"
         ],
         "textposition": "auto",
         "type": "bar",
         "x": [
          1
         ],
         "xaxis": "x43",
         "y": [
          "https://www.kertys.com/ressources/piql-solution-efficase-pour-se-proteger-son-entreprise-face-aux-cyberattaques-et-ransomware"
         ],
         "yaxis": "y43"
        },
        {
         "hoverinfo": "text",
         "marker": {
          "color": "#7030a0"
         },
         "orientation": "h",
         "text": [
          "594"
         ],
         "textposition": "auto",
         "type": "bar",
         "x": [
          594
         ],
         "xaxis": "x43",
         "y": [
          "https://www.kertys.com/ressources/piql-solution-efficase-pour-se-proteger-son-entreprise-face-aux-cyberattaques-et-ransomware"
         ],
         "yaxis": "y43"
        },
        {
         "hoverinfo": "text",
         "marker": {
          "color": "#2030a0"
         },
         "orientation": "h",
         "text": [
          "1"
         ],
         "textposition": "auto",
         "type": "bar",
         "x": [
          1
         ],
         "xaxis": "x44",
         "y": [
          "https://www.kertys.com/ressources/plateforme-dataops-streamsets-solution-moderne-dintegration-de-donnees-dediee-a-la-construction-des-pipelines-de-donnees-au-maroc-et-afrique"
         ],
         "yaxis": "y44"
        },
        {
         "hoverinfo": "text",
         "marker": {
          "color": "#7030a0"
         },
         "orientation": "h",
         "text": [
          "1,146"
         ],
         "textposition": "auto",
         "type": "bar",
         "x": [
          1146
         ],
         "xaxis": "x44",
         "y": [
          "https://www.kertys.com/ressources/plateforme-dataops-streamsets-solution-moderne-dintegration-de-donnees-dediee-a-la-construction-des-pipelines-de-donnees-au-maroc-et-afrique"
         ],
         "yaxis": "y44"
        },
        {
         "hoverinfo": "text",
         "marker": {
          "color": "#2030a0"
         },
         "orientation": "h",
         "text": [
          "1"
         ],
         "textposition": "auto",
         "type": "bar",
         "x": [
          1
         ],
         "xaxis": "x45",
         "y": [
          "https://www.kertys.com/solutions/lucanet"
         ],
         "yaxis": "y45"
        },
        {
         "hoverinfo": "text",
         "marker": {
          "color": "#7030a0"
         },
         "orientation": "h",
         "text": [
          "519"
         ],
         "textposition": "auto",
         "type": "bar",
         "x": [
          519
         ],
         "xaxis": "x45",
         "y": [
          "https://www.kertys.com/solutions/lucanet"
         ],
         "yaxis": "y45"
        },
        {
         "hoverinfo": "text",
         "marker": {
          "color": "#2030a0"
         },
         "orientation": "h",
         "text": [
          "1"
         ],
         "textposition": "auto",
         "type": "bar",
         "x": [
          1
         ],
         "xaxis": "x46",
         "y": [
          "https://www.kertys.com/ressources/gestion-des-documents-et-la-dematerialisation-des-processus-avec-m-files-en-2021-2022"
         ],
         "yaxis": "y46"
        },
        {
         "hoverinfo": "text",
         "marker": {
          "color": "#7030a0"
         },
         "orientation": "h",
         "text": [
          "3,190"
         ],
         "textposition": "auto",
         "type": "bar",
         "x": [
          3190
         ],
         "xaxis": "x46",
         "y": [
          "https://www.kertys.com/ressources/gestion-des-documents-et-la-dematerialisation-des-processus-avec-m-files-en-2021-2022"
         ],
         "yaxis": "y46"
        },
        {
         "hoverinfo": "text",
         "marker": {
          "color": "#2030a0"
         },
         "orientation": "h",
         "text": [
          "1"
         ],
         "textposition": "auto",
         "type": "bar",
         "x": [
          1
         ],
         "xaxis": "x47",
         "y": [
          "https://www.kertys.com/ressources/nos-modeles-dintegration-de-donnees-streamsets-pour-des-pipelines-de-donnees-intelligents"
         ],
         "yaxis": "y47"
        },
        {
         "hoverinfo": "text",
         "marker": {
          "color": "#7030a0"
         },
         "orientation": "h",
         "text": [
          "194"
         ],
         "textposition": "auto",
         "type": "bar",
         "x": [
          194
         ],
         "xaxis": "x47",
         "y": [
          "https://www.kertys.com/ressources/nos-modeles-dintegration-de-donnees-streamsets-pour-des-pipelines-de-donnees-intelligents"
         ],
         "yaxis": "y47"
        },
        {
         "hoverinfo": "text",
         "marker": {
          "color": "#2030a0"
         },
         "orientation": "h",
         "text": [
          "1"
         ],
         "textposition": "auto",
         "type": "bar",
         "x": [
          1
         ],
         "xaxis": "x48",
         "y": [
          "https://www.kertys.com/ressources/automatisation-assistee-quest-ce-que-cest-et-pourquoi-en-ai-je-besoin"
         ],
         "yaxis": "y48"
        },
        {
         "hoverinfo": "text",
         "marker": {
          "color": "#7030a0"
         },
         "orientation": "h",
         "text": [
          "666"
         ],
         "textposition": "auto",
         "type": "bar",
         "x": [
          666
         ],
         "xaxis": "x48",
         "y": [
          "https://www.kertys.com/ressources/automatisation-assistee-quest-ce-que-cest-et-pourquoi-en-ai-je-besoin"
         ],
         "yaxis": "y48"
        },
        {
         "hoverinfo": "text",
         "marker": {
          "color": "#2030a0"
         },
         "orientation": "h",
         "text": [
          "1"
         ],
         "textposition": "auto",
         "type": "bar",
         "x": [
          1
         ],
         "xaxis": "x49",
         "y": [
          "https://www.kertys.com/la-digital-workplace-le-guide-des-porteurs-de-projet"
         ],
         "yaxis": "y49"
        },
        {
         "hoverinfo": "text",
         "marker": {
          "color": "#7030a0"
         },
         "orientation": "h",
         "text": [
          "282"
         ],
         "textposition": "auto",
         "type": "bar",
         "x": [
          282
         ],
         "xaxis": "x49",
         "y": [
          "https://www.kertys.com/la-digital-workplace-le-guide-des-porteurs-de-projet"
         ],
         "yaxis": "y49"
        },
        {
         "hoverinfo": "text",
         "marker": {
          "color": "#2030a0"
         },
         "orientation": "h",
         "text": [
          "1"
         ],
         "textposition": "auto",
         "type": "bar",
         "x": [
          1
         ],
         "xaxis": "x50",
         "y": [
          "https://www.kertys.com/livre-blanc-priorites-et-perspectives-pour-2025-en-matiere-de-gestion-des-competences"
         ],
         "yaxis": "y50"
        },
        {
         "hoverinfo": "text",
         "marker": {
          "color": "#7030a0"
         },
         "orientation": "h",
         "text": [
          "87"
         ],
         "textposition": "auto",
         "type": "bar",
         "x": [
          87
         ],
         "xaxis": "x50",
         "y": [
          "https://www.kertys.com/livre-blanc-priorites-et-perspectives-pour-2025-en-matiere-de-gestion-des-competences"
         ],
         "yaxis": "y50"
        },
        {
         "hoverinfo": "text",
         "marker": {
          "color": "#2030a0"
         },
         "orientation": "h",
         "text": [
          "0"
         ],
         "textposition": "auto",
         "type": "bar",
         "x": [
          0
         ],
         "xaxis": "x51",
         "y": [
          "https://www.kertys.com/ressources/electronic-document-management-in-africa-the-key-to-a-successful-digital-transformation"
         ],
         "yaxis": "y51"
        },
        {
         "hoverinfo": "text",
         "marker": {
          "color": "#7030a0"
         },
         "orientation": "h",
         "text": [
          "704"
         ],
         "textposition": "auto",
         "type": "bar",
         "x": [
          704
         ],
         "xaxis": "x51",
         "y": [
          "https://www.kertys.com/ressources/electronic-document-management-in-africa-the-key-to-a-successful-digital-transformation"
         ],
         "yaxis": "y51"
        },
        {
         "hoverinfo": "text",
         "marker": {
          "color": "#2030a0"
         },
         "orientation": "h",
         "text": [
          "0"
         ],
         "textposition": "auto",
         "type": "bar",
         "x": [
          0
         ],
         "xaxis": "x52",
         "y": [
          "https://www.kertys.com/categorie/ressources-humaines"
         ],
         "yaxis": "y52"
        },
        {
         "hoverinfo": "text",
         "marker": {
          "color": "#7030a0"
         },
         "orientation": "h",
         "text": [
          "27"
         ],
         "textposition": "auto",
         "type": "bar",
         "x": [
          27
         ],
         "xaxis": "x52",
         "y": [
          "https://www.kertys.com/categorie/ressources-humaines"
         ],
         "yaxis": "y52"
        },
        {
         "hoverinfo": "text",
         "marker": {
          "color": "#2030a0"
         },
         "orientation": "h",
         "text": [
          "0"
         ],
         "textposition": "auto",
         "type": "bar",
         "x": [
          0
         ],
         "xaxis": "x53",
         "y": [
          "https://www.kertys.com/categorie/automatisation"
         ],
         "yaxis": "y53"
        },
        {
         "hoverinfo": "text",
         "marker": {
          "color": "#7030a0"
         },
         "orientation": "h",
         "text": [
          "43"
         ],
         "textposition": "auto",
         "type": "bar",
         "x": [
          43
         ],
         "xaxis": "x53",
         "y": [
          "https://www.kertys.com/categorie/automatisation"
         ],
         "yaxis": "y53"
        },
        {
         "hoverinfo": "text",
         "marker": {
          "color": "#2030a0"
         },
         "orientation": "h",
         "text": [
          "0"
         ],
         "textposition": "auto",
         "type": "bar",
         "x": [
          0
         ],
         "xaxis": "x54",
         "y": [
          "https://www.kertys.com/categorie/data-visualisation"
         ],
         "yaxis": "y54"
        },
        {
         "hoverinfo": "text",
         "marker": {
          "color": "#7030a0"
         },
         "orientation": "h",
         "text": [
          "16"
         ],
         "textposition": "auto",
         "type": "bar",
         "x": [
          16
         ],
         "xaxis": "x54",
         "y": [
          "https://www.kertys.com/categorie/data-visualisation"
         ],
         "yaxis": "y54"
        },
        {
         "hoverinfo": "text",
         "marker": {
          "color": "#2030a0"
         },
         "orientation": "h",
         "text": [
          "0"
         ],
         "textposition": "auto",
         "type": "bar",
         "x": [
          0
         ],
         "xaxis": "x55",
         "y": [
          "https://www.kertys.com/categorie/gestion-des-processus-metiers"
         ],
         "yaxis": "y55"
        },
        {
         "hoverinfo": "text",
         "marker": {
          "color": "#7030a0"
         },
         "orientation": "h",
         "text": [
          "1,877"
         ],
         "textposition": "auto",
         "type": "bar",
         "x": [
          1877
         ],
         "xaxis": "x55",
         "y": [
          "https://www.kertys.com/categorie/gestion-des-processus-metiers"
         ],
         "yaxis": "y55"
        },
        {
         "hoverinfo": "text",
         "marker": {
          "color": "#2030a0"
         },
         "orientation": "h",
         "text": [
          "0"
         ],
         "textposition": "auto",
         "type": "bar",
         "x": [
          0
         ],
         "xaxis": "x56",
         "y": [
          "https://www.kertys.com/categorie/glossaire"
         ],
         "yaxis": "y56"
        },
        {
         "hoverinfo": "text",
         "marker": {
          "color": "#7030a0"
         },
         "orientation": "h",
         "text": [
          "7"
         ],
         "textposition": "auto",
         "type": "bar",
         "x": [
          7
         ],
         "xaxis": "x56",
         "y": [
          "https://www.kertys.com/categorie/glossaire"
         ],
         "yaxis": "y56"
        },
        {
         "hoverinfo": "text",
         "marker": {
          "color": "#2030a0"
         },
         "orientation": "h",
         "text": [
          "0"
         ],
         "textposition": "auto",
         "type": "bar",
         "x": [
          0
         ],
         "xaxis": "x57",
         "y": [
          "https://www.kertys.com/categorie/planification-budgetaire"
         ],
         "yaxis": "y57"
        },
        {
         "hoverinfo": "text",
         "marker": {
          "color": "#7030a0"
         },
         "orientation": "h",
         "text": [
          "162"
         ],
         "textposition": "auto",
         "type": "bar",
         "x": [
          162
         ],
         "xaxis": "x57",
         "y": [
          "https://www.kertys.com/categorie/planification-budgetaire"
         ],
         "yaxis": "y57"
        },
        {
         "hoverinfo": "text",
         "marker": {
          "color": "#2030a0"
         },
         "orientation": "h",
         "text": [
          "0"
         ],
         "textposition": "auto",
         "type": "bar",
         "x": [
          0
         ],
         "xaxis": "x58",
         "y": [
          "https://www.kertys.com/categorie/risk-management"
         ],
         "yaxis": "y58"
        },
        {
         "hoverinfo": "text",
         "marker": {
          "color": "#7030a0"
         },
         "orientation": "h",
         "text": [
          "117"
         ],
         "textposition": "auto",
         "type": "bar",
         "x": [
          117
         ],
         "xaxis": "x58",
         "y": [
          "https://www.kertys.com/categorie/risk-management"
         ],
         "yaxis": "y58"
        },
        {
         "hoverinfo": "text",
         "marker": {
          "color": "#2030a0"
         },
         "orientation": "h",
         "text": [
          "0"
         ],
         "textposition": "auto",
         "type": "bar",
         "x": [
          0
         ],
         "xaxis": "x59",
         "y": [
          "https://www.kertys.com/solutions/piql"
         ],
         "yaxis": "y59"
        },
        {
         "hoverinfo": "text",
         "marker": {
          "color": "#7030a0"
         },
         "orientation": "h",
         "text": [
          "408"
         ],
         "textposition": "auto",
         "type": "bar",
         "x": [
          408
         ],
         "xaxis": "x59",
         "y": [
          "https://www.kertys.com/solutions/piql"
         ],
         "yaxis": "y59"
        },
        {
         "hoverinfo": "text",
         "marker": {
          "color": "#2030a0"
         },
         "orientation": "h",
         "text": [
          "0"
         ],
         "textposition": "auto",
         "type": "bar",
         "x": [
          0
         ],
         "xaxis": "x60",
         "y": [
          "https://www.kertys.com/categorie/transformation-digitale"
         ],
         "yaxis": "y60"
        },
        {
         "hoverinfo": "text",
         "marker": {
          "color": "#7030a0"
         },
         "orientation": "h",
         "text": [
          "208"
         ],
         "textposition": "auto",
         "type": "bar",
         "x": [
          208
         ],
         "xaxis": "x60",
         "y": [
          "https://www.kertys.com/categorie/transformation-digitale"
         ],
         "yaxis": "y60"
        },
        {
         "hoverinfo": "text",
         "marker": {
          "color": "#2030a0"
         },
         "orientation": "h",
         "text": [
          "0"
         ],
         "textposition": "auto",
         "type": "bar",
         "x": [
          0
         ],
         "xaxis": "x61",
         "y": [
          "https://www.kertys.com/services/digital-workplace/visite-medicale"
         ],
         "yaxis": "y61"
        },
        {
         "hoverinfo": "text",
         "marker": {
          "color": "#7030a0"
         },
         "orientation": "h",
         "text": [
          "331"
         ],
         "textposition": "auto",
         "type": "bar",
         "x": [
          331
         ],
         "xaxis": "x61",
         "y": [
          "https://www.kertys.com/services/digital-workplace/visite-medicale"
         ],
         "yaxis": "y61"
        },
        {
         "hoverinfo": "text",
         "marker": {
          "color": "#2030a0"
         },
         "orientation": "h",
         "text": [
          "0"
         ],
         "textposition": "auto",
         "type": "bar",
         "x": [
          0
         ],
         "xaxis": "x62",
         "y": [
          "https://www.kertys.com/services/digital-workplace/recrutement"
         ],
         "yaxis": "y62"
        },
        {
         "hoverinfo": "text",
         "marker": {
          "color": "#7030a0"
         },
         "orientation": "h",
         "text": [
          "199"
         ],
         "textposition": "auto",
         "type": "bar",
         "x": [
          199
         ],
         "xaxis": "x62",
         "y": [
          "https://www.kertys.com/services/digital-workplace/recrutement"
         ],
         "yaxis": "y62"
        },
        {
         "hoverinfo": "text",
         "marker": {
          "color": "#2030a0"
         },
         "orientation": "h",
         "text": [
          "0"
         ],
         "textposition": "auto",
         "type": "bar",
         "x": [
          0
         ],
         "xaxis": "x63",
         "y": [
          "https://www.kertys.com/services/digital-workplace/note-de-frais"
         ],
         "yaxis": "y63"
        },
        {
         "hoverinfo": "text",
         "marker": {
          "color": "#7030a0"
         },
         "orientation": "h",
         "text": [
          "1,403"
         ],
         "textposition": "auto",
         "type": "bar",
         "x": [
          1403
         ],
         "xaxis": "x63",
         "y": [
          "https://www.kertys.com/services/digital-workplace/note-de-frais"
         ],
         "yaxis": "y63"
        },
        {
         "hoverinfo": "text",
         "marker": {
          "color": "#2030a0"
         },
         "orientation": "h",
         "text": [
          "0"
         ],
         "textposition": "auto",
         "type": "bar",
         "x": [
          0
         ],
         "xaxis": "x64",
         "y": [
          "https://www.kertys.com/services/digital-workplace/knowledge-management"
         ],
         "yaxis": "y64"
        },
        {
         "hoverinfo": "text",
         "marker": {
          "color": "#7030a0"
         },
         "orientation": "h",
         "text": [
          "139"
         ],
         "textposition": "auto",
         "type": "bar",
         "x": [
          139
         ],
         "xaxis": "x64",
         "y": [
          "https://www.kertys.com/services/digital-workplace/knowledge-management"
         ],
         "yaxis": "y64"
        },
        {
         "hoverinfo": "text",
         "marker": {
          "color": "#2030a0"
         },
         "orientation": "h",
         "text": [
          "0"
         ],
         "textposition": "auto",
         "type": "bar",
         "x": [
          0
         ],
         "xaxis": "x65",
         "y": [
          "https://www.kertys.com/services/digital-workplace/gestion-du-parc-automobile"
         ],
         "yaxis": "y65"
        },
        {
         "hoverinfo": "text",
         "marker": {
          "color": "#7030a0"
         },
         "orientation": "h",
         "text": [
          "1,277"
         ],
         "textposition": "auto",
         "type": "bar",
         "x": [
          1277
         ],
         "xaxis": "x65",
         "y": [
          "https://www.kertys.com/services/digital-workplace/gestion-du-parc-automobile"
         ],
         "yaxis": "y65"
        },
        {
         "hoverinfo": "text",
         "marker": {
          "color": "#2030a0"
         },
         "orientation": "h",
         "text": [
          "0"
         ],
         "textposition": "auto",
         "type": "bar",
         "x": [
          0
         ],
         "xaxis": "x66",
         "y": [
          "https://www.kertys.com/services/digital-workplace/gestion-du-comite-dentreprise"
         ],
         "yaxis": "y66"
        },
        {
         "hoverinfo": "text",
         "marker": {
          "color": "#7030a0"
         },
         "orientation": "h",
         "text": [
          "45"
         ],
         "textposition": "auto",
         "type": "bar",
         "x": [
          45
         ],
         "xaxis": "x66",
         "y": [
          "https://www.kertys.com/services/digital-workplace/gestion-du-comite-dentreprise"
         ],
         "yaxis": "y66"
        },
        {
         "hoverinfo": "text",
         "marker": {
          "color": "#2030a0"
         },
         "orientation": "h",
         "text": [
          "0"
         ],
         "textposition": "auto",
         "type": "bar",
         "x": [
          0
         ],
         "xaxis": "x67",
         "y": [
          "https://www.kertys.com/categorie/actualites"
         ],
         "yaxis": "y67"
        },
        {
         "hoverinfo": "text",
         "marker": {
          "color": "#7030a0"
         },
         "orientation": "h",
         "text": [
          "127"
         ],
         "textposition": "auto",
         "type": "bar",
         "x": [
          127
         ],
         "xaxis": "x67",
         "y": [
          "https://www.kertys.com/categorie/actualites"
         ],
         "yaxis": "y67"
        },
        {
         "hoverinfo": "text",
         "marker": {
          "color": "#2030a0"
         },
         "orientation": "h",
         "text": [
          "0"
         ],
         "textposition": "auto",
         "type": "bar",
         "x": [
          0
         ],
         "xaxis": "x68",
         "y": [
          "https://www.kertys.com/barometre-talent-management"
         ],
         "yaxis": "y68"
        },
        {
         "hoverinfo": "text",
         "marker": {
          "color": "#7030a0"
         },
         "orientation": "h",
         "text": [
          "4"
         ],
         "textposition": "auto",
         "type": "bar",
         "x": [
          4
         ],
         "xaxis": "x68",
         "y": [
          "https://www.kertys.com/barometre-talent-management"
         ],
         "yaxis": "y68"
        },
        {
         "hoverinfo": "text",
         "marker": {
          "color": "#2030a0"
         },
         "orientation": "h",
         "text": [
          "0"
         ],
         "textposition": "auto",
         "type": "bar",
         "x": [
          0
         ],
         "xaxis": "x69",
         "y": [
          "https://www.kertys.com/solutions/streamset"
         ],
         "yaxis": "y69"
        },
        {
         "hoverinfo": "text",
         "marker": {
          "color": "#7030a0"
         },
         "orientation": "h",
         "text": [
          "1"
         ],
         "textposition": "auto",
         "type": "bar",
         "x": [
          1
         ],
         "xaxis": "x69",
         "y": [
          "https://www.kertys.com/solutions/streamset"
         ],
         "yaxis": "y69"
        },
        {
         "hoverinfo": "text",
         "marker": {
          "color": "#2030a0"
         },
         "orientation": "h",
         "text": [
          "0"
         ],
         "textposition": "auto",
         "type": "bar",
         "x": [
          0
         ],
         "xaxis": "x70",
         "y": [
          "https://www.kertys.com/webinaire-le-pilotage-de-la-performance-financiere-avec-lucanet"
         ],
         "yaxis": "y70"
        },
        {
         "hoverinfo": "text",
         "marker": {
          "color": "#7030a0"
         },
         "orientation": "h",
         "text": [
          "106"
         ],
         "textposition": "auto",
         "type": "bar",
         "x": [
          106
         ],
         "xaxis": "x70",
         "y": [
          "https://www.kertys.com/webinaire-le-pilotage-de-la-performance-financiere-avec-lucanet"
         ],
         "yaxis": "y70"
        },
        {
         "hoverinfo": "text",
         "marker": {
          "color": "#2030a0"
         },
         "orientation": "h",
         "text": [
          "0"
         ],
         "textposition": "auto",
         "type": "bar",
         "x": [
          0
         ],
         "xaxis": "x71",
         "y": [
          "https://www.kertys.com/webinar-les-benefices-de-la-rpa-ia-pour-la-fonction-finance"
         ],
         "yaxis": "y71"
        },
        {
         "hoverinfo": "text",
         "marker": {
          "color": "#7030a0"
         },
         "orientation": "h",
         "text": [
          "1,491"
         ],
         "textposition": "auto",
         "type": "bar",
         "x": [
          1491
         ],
         "xaxis": "x71",
         "y": [
          "https://www.kertys.com/webinar-les-benefices-de-la-rpa-ia-pour-la-fonction-finance"
         ],
         "yaxis": "y71"
        },
        {
         "hoverinfo": "text",
         "marker": {
          "color": "#2030a0"
         },
         "orientation": "h",
         "text": [
          "0"
         ],
         "textposition": "auto",
         "type": "bar",
         "x": [
          0
         ],
         "xaxis": "x72",
         "y": [
          "https://www.kertys.com/webinaire-streamsets-solution-agile-et-innovante-dintegration-des-donnees-en-tant-que-service-en-mode-streaming"
         ],
         "yaxis": "y72"
        },
        {
         "hoverinfo": "text",
         "marker": {
          "color": "#7030a0"
         },
         "orientation": "h",
         "text": [
          "36"
         ],
         "textposition": "auto",
         "type": "bar",
         "x": [
          36
         ],
         "xaxis": "x72",
         "y": [
          "https://www.kertys.com/webinaire-streamsets-solution-agile-et-innovante-dintegration-des-donnees-en-tant-que-service-en-mode-streaming"
         ],
         "yaxis": "y72"
        },
        {
         "hoverinfo": "text",
         "marker": {
          "color": "#2030a0"
         },
         "orientation": "h",
         "text": [
          "0"
         ],
         "textposition": "auto",
         "type": "bar",
         "x": [
          0
         ],
         "xaxis": "x73",
         "y": [
          "https://www.kertys.com/webinaire-reinventer-le-futur-du-travail-avec-une-solution-no-code-bpm-eflow"
         ],
         "yaxis": "y73"
        },
        {
         "hoverinfo": "text",
         "marker": {
          "color": "#7030a0"
         },
         "orientation": "h",
         "text": [
          "66"
         ],
         "textposition": "auto",
         "type": "bar",
         "x": [
          66
         ],
         "xaxis": "x73",
         "y": [
          "https://www.kertys.com/webinaire-reinventer-le-futur-du-travail-avec-une-solution-no-code-bpm-eflow"
         ],
         "yaxis": "y73"
        },
        {
         "hoverinfo": "text",
         "marker": {
          "color": "#2030a0"
         },
         "orientation": "h",
         "text": [
          "0"
         ],
         "textposition": "auto",
         "type": "bar",
         "x": [
          0
         ],
         "xaxis": "x74",
         "y": [
          "https://www.kertys.com/webinaire-rationnalisez-et-automatisez-la-collecte-des-donnees-avec-ignimission"
         ],
         "yaxis": "y74"
        },
        {
         "hoverinfo": "text",
         "marker": {
          "color": "#7030a0"
         },
         "orientation": "h",
         "text": [
          "125"
         ],
         "textposition": "auto",
         "type": "bar",
         "x": [
          125
         ],
         "xaxis": "x74",
         "y": [
          "https://www.kertys.com/webinaire-rationnalisez-et-automatisez-la-collecte-des-donnees-avec-ignimission"
         ],
         "yaxis": "y74"
        },
        {
         "hoverinfo": "text",
         "marker": {
          "color": "#2030a0"
         },
         "orientation": "h",
         "text": [
          "0"
         ],
         "textposition": "auto",
         "type": "bar",
         "x": [
          0
         ],
         "xaxis": "x75",
         "y": [
          "https://www.kertys.com/webinaire-piql-solution-de-conservation-et-preservation-a-long-terme-des-documents"
         ],
         "yaxis": "y75"
        },
        {
         "hoverinfo": "text",
         "marker": {
          "color": "#7030a0"
         },
         "orientation": "h",
         "text": [
          "105"
         ],
         "textposition": "auto",
         "type": "bar",
         "x": [
          105
         ],
         "xaxis": "x75",
         "y": [
          "https://www.kertys.com/webinaire-piql-solution-de-conservation-et-preservation-a-long-terme-des-documents"
         ],
         "yaxis": "y75"
        },
        {
         "hoverinfo": "text",
         "marker": {
          "color": "#2030a0"
         },
         "orientation": "h",
         "text": [
          "0"
         ],
         "textposition": "auto",
         "type": "bar",
         "x": [
          0
         ],
         "xaxis": "x76",
         "y": [
          "https://www.kertys.com/webinaire-le-rpa-au-service-de-votre-transformation-digitale"
         ],
         "yaxis": "y76"
        },
        {
         "hoverinfo": "text",
         "marker": {
          "color": "#7030a0"
         },
         "orientation": "h",
         "text": [
          "512"
         ],
         "textposition": "auto",
         "type": "bar",
         "x": [
          512
         ],
         "xaxis": "x76",
         "y": [
          "https://www.kertys.com/webinaire-le-rpa-au-service-de-votre-transformation-digitale"
         ],
         "yaxis": "y76"
        },
        {
         "hoverinfo": "text",
         "marker": {
          "color": "#2030a0"
         },
         "orientation": "h",
         "text": [
          "0"
         ],
         "textposition": "auto",
         "type": "bar",
         "x": [
          0
         ],
         "xaxis": "x77",
         "y": [
          "https://www.kertys.com/webinaire-la-dematerialisation-du-bureau-dordre-et-gestion-des-courriers-un-pont-vers-la-digitalisation-des-autres-processus-metiers-de-lentreprise"
         ],
         "yaxis": "y77"
        },
        {
         "hoverinfo": "text",
         "marker": {
          "color": "#7030a0"
         },
         "orientation": "h",
         "text": [
          "191"
         ],
         "textposition": "auto",
         "type": "bar",
         "x": [
          191
         ],
         "xaxis": "x77",
         "y": [
          "https://www.kertys.com/webinaire-la-dematerialisation-du-bureau-dordre-et-gestion-des-courriers-un-pont-vers-la-digitalisation-des-autres-processus-metiers-de-lentreprise"
         ],
         "yaxis": "y77"
        },
        {
         "hoverinfo": "text",
         "marker": {
          "color": "#2030a0"
         },
         "orientation": "h",
         "text": [
          "0"
         ],
         "textposition": "auto",
         "type": "bar",
         "x": [
          0
         ],
         "xaxis": "x78",
         "y": [
          "https://www.kertys.com/services/digital-workplace/gestion-des-factures"
         ],
         "yaxis": "y78"
        },
        {
         "hoverinfo": "text",
         "marker": {
          "color": "#7030a0"
         },
         "orientation": "h",
         "text": [
          "1,023"
         ],
         "textposition": "auto",
         "type": "bar",
         "x": [
          1023
         ],
         "xaxis": "x78",
         "y": [
          "https://www.kertys.com/services/digital-workplace/gestion-des-factures"
         ],
         "yaxis": "y78"
        },
        {
         "hoverinfo": "text",
         "marker": {
          "color": "#2030a0"
         },
         "orientation": "h",
         "text": [
          "0"
         ],
         "textposition": "auto",
         "type": "bar",
         "x": [
          0
         ],
         "xaxis": "x79",
         "y": [
          "https://www.kertys.com/webinaire-digitalisez-vos-campagnes-devaluation-annuelle-avec-talentsoft"
         ],
         "yaxis": "y79"
        },
        {
         "hoverinfo": "text",
         "marker": {
          "color": "#7030a0"
         },
         "orientation": "h",
         "text": [
          "112"
         ],
         "textposition": "auto",
         "type": "bar",
         "x": [
          112
         ],
         "xaxis": "x79",
         "y": [
          "https://www.kertys.com/webinaire-digitalisez-vos-campagnes-devaluation-annuelle-avec-talentsoft"
         ],
         "yaxis": "y79"
        },
        {
         "hoverinfo": "text",
         "marker": {
          "color": "#2030a0"
         },
         "orientation": "h",
         "text": [
          "0"
         ],
         "textposition": "auto",
         "type": "bar",
         "x": [
          0
         ],
         "xaxis": "x80",
         "y": [
          "https://www.kertys.com/video-webinaire-piql-solution-de-conservation-et-preservation-a-long-terme-des-documents"
         ],
         "yaxis": "y80"
        },
        {
         "hoverinfo": "text",
         "marker": {
          "color": "#7030a0"
         },
         "orientation": "h",
         "text": [
          "60"
         ],
         "textposition": "auto",
         "type": "bar",
         "x": [
          60
         ],
         "xaxis": "x80",
         "y": [
          "https://www.kertys.com/video-webinaire-piql-solution-de-conservation-et-preservation-a-long-terme-des-documents"
         ],
         "yaxis": "y80"
        },
        {
         "hoverinfo": "text",
         "marker": {
          "color": "#2030a0"
         },
         "orientation": "h",
         "text": [
          "0"
         ],
         "textposition": "auto",
         "type": "bar",
         "x": [
          0
         ],
         "xaxis": "x81",
         "y": [
          "https://www.kertys.com/video-replay-webinaire-le-pilotage-de-la-performance-financiere-avec-lucanet"
         ],
         "yaxis": "y81"
        },
        {
         "hoverinfo": "text",
         "marker": {
          "color": "#7030a0"
         },
         "orientation": "h",
         "text": [
          "15"
         ],
         "textposition": "auto",
         "type": "bar",
         "x": [
          15
         ],
         "xaxis": "x81",
         "y": [
          "https://www.kertys.com/video-replay-webinaire-le-pilotage-de-la-performance-financiere-avec-lucanet"
         ],
         "yaxis": "y81"
        },
        {
         "hoverinfo": "text",
         "marker": {
          "color": "#2030a0"
         },
         "orientation": "h",
         "text": [
          "0"
         ],
         "textposition": "auto",
         "type": "bar",
         "x": [
          0
         ],
         "xaxis": "x82",
         "y": [
          "https://www.kertys.com/tendances-rh-2021"
         ],
         "yaxis": "y82"
        },
        {
         "hoverinfo": "text",
         "marker": {
          "color": "#7030a0"
         },
         "orientation": "h",
         "text": [
          "694"
         ],
         "textposition": "auto",
         "type": "bar",
         "x": [
          694
         ],
         "xaxis": "x82",
         "y": [
          "https://www.kertys.com/tendances-rh-2021"
         ],
         "yaxis": "y82"
        },
        {
         "hoverinfo": "text",
         "marker": {
          "color": "#2030a0"
         },
         "orientation": "h",
         "text": [
          "0"
         ],
         "textposition": "auto",
         "type": "bar",
         "x": [
          0
         ],
         "xaxis": "x83",
         "y": [
          "https://www.kertys.com/3-etapes-pour-aligner-sa-strategie-rh-dentreprise"
         ],
         "yaxis": "y83"
        },
        {
         "hoverinfo": "text",
         "marker": {
          "color": "#7030a0"
         },
         "orientation": "h",
         "text": [
          "4"
         ],
         "textposition": "auto",
         "type": "bar",
         "x": [
          4
         ],
         "xaxis": "x83",
         "y": [
          "https://www.kertys.com/3-etapes-pour-aligner-sa-strategie-rh-dentreprise"
         ],
         "yaxis": "y83"
        },
        {
         "hoverinfo": "text",
         "marker": {
          "color": "#2030a0"
         },
         "orientation": "h",
         "text": [
          "0"
         ],
         "textposition": "auto",
         "type": "bar",
         "x": [
          0
         ],
         "xaxis": "x84",
         "y": [
          "https://www.kertys.com/automation-360-pour-lautomatisation-des-commandes-dans-sap"
         ],
         "yaxis": "y84"
        },
        {
         "hoverinfo": "text",
         "marker": {
          "color": "#7030a0"
         },
         "orientation": "h",
         "text": [
          "81"
         ],
         "textposition": "auto",
         "type": "bar",
         "x": [
          81
         ],
         "xaxis": "x84",
         "y": [
          "https://www.kertys.com/automation-360-pour-lautomatisation-des-commandes-dans-sap"
         ],
         "yaxis": "y84"
        },
        {
         "hoverinfo": "text",
         "marker": {
          "color": "#2030a0"
         },
         "orientation": "h",
         "text": [
          "0"
         ],
         "textposition": "auto",
         "type": "bar",
         "x": [
          0
         ],
         "xaxis": "x85",
         "y": [
          "https://www.kertys.com/services/digital-workplace/gestion-des-tournees"
         ],
         "yaxis": "y85"
        },
        {
         "hoverinfo": "text",
         "marker": {
          "color": "#7030a0"
         },
         "orientation": "h",
         "text": [
          "2,093"
         ],
         "textposition": "auto",
         "type": "bar",
         "x": [
          2093
         ],
         "xaxis": "x85",
         "y": [
          "https://www.kertys.com/services/digital-workplace/gestion-des-tournees"
         ],
         "yaxis": "y85"
        },
        {
         "hoverinfo": "text",
         "marker": {
          "color": "#2030a0"
         },
         "orientation": "h",
         "text": [
          "0"
         ],
         "textposition": "auto",
         "type": "bar",
         "x": [
          0
         ],
         "xaxis": "x86",
         "y": [
          "https://www.kertys.com/services/digital-workplace/gestion-des-conges"
         ],
         "yaxis": "y86"
        },
        {
         "hoverinfo": "text",
         "marker": {
          "color": "#7030a0"
         },
         "orientation": "h",
         "text": [
          "38"
         ],
         "textposition": "auto",
         "type": "bar",
         "x": [
          38
         ],
         "xaxis": "x86",
         "y": [
          "https://www.kertys.com/services/digital-workplace/gestion-des-conges"
         ],
         "yaxis": "y86"
        },
        {
         "hoverinfo": "text",
         "marker": {
          "color": "#2030a0"
         },
         "orientation": "h",
         "text": [
          "0"
         ],
         "textposition": "auto",
         "type": "bar",
         "x": [
          0
         ],
         "xaxis": "x87",
         "y": [
          "https://www.kertys.com/services/digital-workplace/gestion-des-courriers"
         ],
         "yaxis": "y87"
        },
        {
         "hoverinfo": "text",
         "marker": {
          "color": "#7030a0"
         },
         "orientation": "h",
         "text": [
          "435"
         ],
         "textposition": "auto",
         "type": "bar",
         "x": [
          435
         ],
         "xaxis": "x87",
         "y": [
          "https://www.kertys.com/services/digital-workplace/gestion-des-courriers"
         ],
         "yaxis": "y87"
        },
        {
         "hoverinfo": "text",
         "marker": {
          "color": "#2030a0"
         },
         "orientation": "h",
         "text": [
          "0"
         ],
         "textposition": "auto",
         "type": "bar",
         "x": [
          0
         ],
         "xaxis": "x88",
         "y": [
          "https://www.kertys.com/replay-webinaire-le-rpa-au-service-de-votre-transformation-digitale"
         ],
         "yaxis": "y88"
        },
        {
         "hoverinfo": "text",
         "marker": {
          "color": "#7030a0"
         },
         "orientation": "h",
         "text": [
          "114"
         ],
         "textposition": "auto",
         "type": "bar",
         "x": [
          114
         ],
         "xaxis": "x88",
         "y": [
          "https://www.kertys.com/replay-webinaire-le-rpa-au-service-de-votre-transformation-digitale"
         ],
         "yaxis": "y88"
        },
        {
         "hoverinfo": "text",
         "marker": {
          "color": "#2030a0"
         },
         "orientation": "h",
         "text": [
          "0"
         ],
         "textposition": "auto",
         "type": "bar",
         "x": [
          0
         ],
         "xaxis": "x89",
         "y": [
          "https://www.kertys.com/faq"
         ],
         "yaxis": "y89"
        },
        {
         "hoverinfo": "text",
         "marker": {
          "color": "#7030a0"
         },
         "orientation": "h",
         "text": [
          "745"
         ],
         "textposition": "auto",
         "type": "bar",
         "x": [
          745
         ],
         "xaxis": "x89",
         "y": [
          "https://www.kertys.com/faq"
         ],
         "yaxis": "y89"
        },
        {
         "hoverinfo": "text",
         "marker": {
          "color": "#2030a0"
         },
         "orientation": "h",
         "text": [
          "0"
         ],
         "textposition": "auto",
         "type": "bar",
         "x": [
          0
         ],
         "xaxis": "x90",
         "y": [
          "https://www.kertys.com/guide-de-travail-strategie-rh-2022"
         ],
         "yaxis": "y90"
        },
        {
         "hoverinfo": "text",
         "marker": {
          "color": "#7030a0"
         },
         "orientation": "h",
         "text": [
          "4"
         ],
         "textposition": "auto",
         "type": "bar",
         "x": [
          4
         ],
         "xaxis": "x90",
         "y": [
          "https://www.kertys.com/guide-de-travail-strategie-rh-2022"
         ],
         "yaxis": "y90"
        },
        {
         "hoverinfo": "text",
         "marker": {
          "color": "#2030a0"
         },
         "orientation": "h",
         "text": [
          "0"
         ],
         "textposition": "auto",
         "type": "bar",
         "x": [
          0
         ],
         "xaxis": "x91",
         "y": [
          "https://www.kertys.com/kertys-sassocie-a-ignimission-pour-rationaliser-les-processus-metiers-de-collecte-de-saisie-dechange-de-donnees-des-entreprises-en-afrique"
         ],
         "yaxis": "y91"
        },
        {
         "hoverinfo": "text",
         "marker": {
          "color": "#7030a0"
         },
         "orientation": "h",
         "text": [
          "188"
         ],
         "textposition": "auto",
         "type": "bar",
         "x": [
          188
         ],
         "xaxis": "x91",
         "y": [
          "https://www.kertys.com/kertys-sassocie-a-ignimission-pour-rationaliser-les-processus-metiers-de-collecte-de-saisie-dechange-de-donnees-des-entreprises-en-afrique"
         ],
         "yaxis": "y91"
        },
        {
         "hoverinfo": "text",
         "marker": {
          "color": "#2030a0"
         },
         "orientation": "h",
         "text": [
          "0"
         ],
         "textposition": "auto",
         "type": "bar",
         "x": [
          0
         ],
         "xaxis": "x92",
         "y": [
          "https://www.kertys.com/la-rpa-robotic-process-automation-pour-lindustrie-pharmaceutique"
         ],
         "yaxis": "y92"
        },
        {
         "hoverinfo": "text",
         "marker": {
          "color": "#7030a0"
         },
         "orientation": "h",
         "text": [
          "418"
         ],
         "textposition": "auto",
         "type": "bar",
         "x": [
          418
         ],
         "xaxis": "x92",
         "y": [
          "https://www.kertys.com/la-rpa-robotic-process-automation-pour-lindustrie-pharmaceutique"
         ],
         "yaxis": "y92"
        },
        {
         "hoverinfo": "text",
         "marker": {
          "color": "#2030a0"
         },
         "orientation": "h",
         "text": [
          "0"
         ],
         "textposition": "auto",
         "type": "bar",
         "x": [
          0
         ],
         "xaxis": "x93",
         "y": [
          "https://www.kertys.com/2021-gartner-r-magic-quadrant-tm-pour-les-plateformes-de-services-de-contenu"
         ],
         "yaxis": "y93"
        },
        {
         "hoverinfo": "text",
         "marker": {
          "color": "#7030a0"
         },
         "orientation": "h",
         "text": [
          "127"
         ],
         "textposition": "auto",
         "type": "bar",
         "x": [
          127
         ],
         "xaxis": "x93",
         "y": [
          "https://www.kertys.com/2021-gartner-r-magic-quadrant-tm-pour-les-plateformes-de-services-de-contenu"
         ],
         "yaxis": "y93"
        },
        {
         "hoverinfo": "text",
         "marker": {
          "color": "#2030a0"
         },
         "orientation": "h",
         "text": [
          "0"
         ],
         "textposition": "auto",
         "type": "bar",
         "x": [
          0
         ],
         "xaxis": "x94",
         "y": [
          "https://www.kertys.com/ressources/m-files-offre-un-retour-sur-investissement-de-pres-de-270-selon-une-nouvelle-etude-dimpact-economique-total"
         ],
         "yaxis": "y94"
        },
        {
         "hoverinfo": "text",
         "marker": {
          "color": "#7030a0"
         },
         "orientation": "h",
         "text": [
          "83"
         ],
         "textposition": "auto",
         "type": "bar",
         "x": [
          83
         ],
         "xaxis": "x94",
         "y": [
          "https://www.kertys.com/ressources/m-files-offre-un-retour-sur-investissement-de-pres-de-270-selon-une-nouvelle-etude-dimpact-economique-total"
         ],
         "yaxis": "y94"
        },
        {
         "hoverinfo": "text",
         "marker": {
          "color": "#2030a0"
         },
         "orientation": "h",
         "text": [
          "0"
         ],
         "textposition": "auto",
         "type": "bar",
         "x": [
          0
         ],
         "xaxis": "x95",
         "y": [
          "https://www.kertys.com/ressources/m-files-leve-80-millions-de-dollars-pour-une-ia-qui-automatise-la-gestion-des-informations-de-lentreprise"
         ],
         "yaxis": "y95"
        },
        {
         "hoverinfo": "text",
         "marker": {
          "color": "#7030a0"
         },
         "orientation": "h",
         "text": [
          "434"
         ],
         "textposition": "auto",
         "type": "bar",
         "x": [
          434
         ],
         "xaxis": "x95",
         "y": [
          "https://www.kertys.com/ressources/m-files-leve-80-millions-de-dollars-pour-une-ia-qui-automatise-la-gestion-des-informations-de-lentreprise"
         ],
         "yaxis": "y95"
        },
        {
         "hoverinfo": "text",
         "marker": {
          "color": "#2030a0"
         },
         "orientation": "h",
         "text": [
          "0"
         ],
         "textposition": "auto",
         "type": "bar",
         "x": [
          0
         ],
         "xaxis": "x96",
         "y": [
          "https://www.kertys.com/ressources/ecm-and-edm-in-ghana-and-west-africa"
         ],
         "yaxis": "y96"
        },
        {
         "hoverinfo": "text",
         "marker": {
          "color": "#7030a0"
         },
         "orientation": "h",
         "text": [
          "339"
         ],
         "textposition": "auto",
         "type": "bar",
         "x": [
          339
         ],
         "xaxis": "x96",
         "y": [
          "https://www.kertys.com/ressources/ecm-and-edm-in-ghana-and-west-africa"
         ],
         "yaxis": "y96"
        },
        {
         "hoverinfo": "text",
         "marker": {
          "color": "#2030a0"
         },
         "orientation": "h",
         "text": [
          "0"
         ],
         "textposition": "auto",
         "type": "bar",
         "x": [
          0
         ],
         "xaxis": "x97",
         "y": [
          "https://www.kertys.com/resoudre-les-perturbations-de-la-chaine-dapprovisionnement-en-exploitant-la-puissance-de-lautomatisation-et-de-lia"
         ],
         "yaxis": "y97"
        },
        {
         "hoverinfo": "text",
         "marker": {
          "color": "#7030a0"
         },
         "orientation": "h",
         "text": [
          "42"
         ],
         "textposition": "auto",
         "type": "bar",
         "x": [
          42
         ],
         "xaxis": "x97",
         "y": [
          "https://www.kertys.com/resoudre-les-perturbations-de-la-chaine-dapprovisionnement-en-exploitant-la-puissance-de-lautomatisation-et-de-lia"
         ],
         "yaxis": "y97"
        },
        {
         "hoverinfo": "text",
         "marker": {
          "color": "#2030a0"
         },
         "orientation": "h",
         "text": [
          "0"
         ],
         "textposition": "auto",
         "type": "bar",
         "x": [
          0
         ],
         "xaxis": "x98",
         "y": [
          "https://www.kertys.com/ressources/les-4-cles-pour-constituer-une-equipe-performante-en-2021"
         ],
         "yaxis": "y98"
        },
        {
         "hoverinfo": "text",
         "marker": {
          "color": "#7030a0"
         },
         "orientation": "h",
         "text": [
          "64"
         ],
         "textposition": "auto",
         "type": "bar",
         "x": [
          64
         ],
         "xaxis": "x98",
         "y": [
          "https://www.kertys.com/ressources/les-4-cles-pour-constituer-une-equipe-performante-en-2021"
         ],
         "yaxis": "y98"
        },
        {
         "hoverinfo": "text",
         "marker": {
          "color": "#2030a0"
         },
         "orientation": "h",
         "text": [
          "0"
         ],
         "textposition": "auto",
         "type": "bar",
         "x": [
          0
         ],
         "xaxis": "x99",
         "y": [
          "https://www.kertys.com/ressources"
         ],
         "yaxis": "y99"
        },
        {
         "hoverinfo": "text",
         "marker": {
          "color": "#7030a0"
         },
         "orientation": "h",
         "text": [
          "190"
         ],
         "textposition": "auto",
         "type": "bar",
         "x": [
          190
         ],
         "xaxis": "x99",
         "y": [
          "https://www.kertys.com/ressources"
         ],
         "yaxis": "y99"
        },
        {
         "hoverinfo": "text",
         "marker": {
          "color": "#2030a0"
         },
         "orientation": "h",
         "text": [
          "0"
         ],
         "textposition": "auto",
         "type": "bar",
         "x": [
          0
         ],
         "xaxis": "x100",
         "y": [
          "https://www.kertys.com/ressources/la-technologie-piql-solution-ultime-de-conservation-des-donnees-et-archives-pour-le-secteur-des-banques-des-services-financiers-et-des-assurances-au-maroc-et-afrique"
         ],
         "yaxis": "y100"
        },
        {
         "hoverinfo": "text",
         "marker": {
          "color": "#7030a0"
         },
         "orientation": "h",
         "text": [
          "112"
         ],
         "textposition": "auto",
         "type": "bar",
         "x": [
          112
         ],
         "xaxis": "x100",
         "y": [
          "https://www.kertys.com/ressources/la-technologie-piql-solution-ultime-de-conservation-des-donnees-et-archives-pour-le-secteur-des-banques-des-services-financiers-et-des-assurances-au-maroc-et-afrique"
         ],
         "yaxis": "y100"
        }
       ],
       "layout": {
        "annotations": [
         {
          "align": "left",
          "font": {
           "size": 12
          },
          "showarrow": false,
          "text": "https://www.kertys.com/",
          "x": 0,
          "xanchor": "left",
          "xref": "paper",
          "y": 1.0000000000000009,
          "yanchor": "bottom",
          "yref": "paper"
         },
         {
          "align": "left",
          "font": {
           "size": 12
          },
          "showarrow": false,
          "text": "https://www.kertys.com/ressources/sirh-systeme-dinformation-des-ressources-humaines",
          "x": 0,
          "xanchor": "left",
          "xref": "paper",
          "y": 0.989955000000001,
          "yanchor": "bottom",
          "yref": "paper"
         },
         {
          "align": "left",
          "font": {
           "size": 12
          },
          "showarrow": false,
          "text": "https://www.kertys.com/ressources/solutions-ged-au-maroc-dematerialisation-et-archivage-numerique",
          "x": 0,
          "xanchor": "left",
          "xref": "paper",
          "y": 0.9799100000000011,
          "yanchor": "bottom",
          "yref": "paper"
         },
         {
          "align": "left",
          "font": {
           "size": 12
          },
          "showarrow": false,
          "text": "https://www.kertys.com/ressources/dematerialisation-de-la-gestion-des-courriers-entrants-et-sortants-du-bureau-dordre-au-maroc",
          "x": 0,
          "xanchor": "left",
          "xref": "paper",
          "y": 0.969865000000001,
          "yanchor": "bottom",
          "yref": "paper"
         },
         {
          "align": "left",
          "font": {
           "size": 12
          },
          "showarrow": false,
          "text": "https://www.kertys.com/solutions/anaplan",
          "x": 0,
          "xanchor": "left",
          "xref": "paper",
          "y": 0.9598200000000009,
          "yanchor": "bottom",
          "yref": "paper"
         },
         {
          "align": "left",
          "font": {
           "size": 12
          },
          "showarrow": false,
          "text": "https://www.kertys.com/solutions/streamsets",
          "x": 0,
          "xanchor": "left",
          "xref": "paper",
          "y": 0.9497750000000009,
          "yanchor": "bottom",
          "yref": "paper"
         },
         {
          "align": "left",
          "font": {
           "size": 12
          },
          "showarrow": false,
          "text": "https://www.kertys.com/ressources/plateformes-lms-et-lcms-pouvez-vous-faire-la-difference",
          "x": 0,
          "xanchor": "left",
          "xref": "paper",
          "y": 0.939730000000001,
          "yanchor": "bottom",
          "yref": "paper"
         },
         {
          "align": "left",
          "font": {
           "size": 12
          },
          "showarrow": false,
          "text": "https://www.kertys.com/ressources/digitalisation-des-ressources-humaines-defis-et-opportunites",
          "x": 0,
          "xanchor": "left",
          "xref": "paper",
          "y": 0.9296850000000009,
          "yanchor": "bottom",
          "yref": "paper"
         },
         {
          "align": "left",
          "font": {
           "size": 12
          },
          "showarrow": false,
          "text": "https://www.kertys.com/ressources/la-rpa-au-service-de-votre-transformation-digitale-au-maroc-et-afrique",
          "x": 0,
          "xanchor": "left",
          "xref": "paper",
          "y": 0.9196400000000008,
          "yanchor": "bottom",
          "yref": "paper"
         },
         {
          "align": "left",
          "font": {
           "size": 12
          },
          "showarrow": false,
          "text": "https://www.kertys.com/ressources/8-problemes-resolus-par-les-solutions-de-business-intelligence-bi",
          "x": 0,
          "xanchor": "left",
          "xref": "paper",
          "y": 0.9095950000000009,
          "yanchor": "bottom",
          "yref": "paper"
         },
         {
          "align": "left",
          "font": {
           "size": 12
          },
          "showarrow": false,
          "text": "https://www.kertys.com/clients/la-digitalisation-du-bureau-ordre-matu-assurance",
          "x": 0,
          "xanchor": "left",
          "xref": "paper",
          "y": 0.8995500000000008,
          "yanchor": "bottom",
          "yref": "paper"
         },
         {
          "align": "left",
          "font": {
           "size": 12
          },
          "showarrow": false,
          "text": "https://www.kertys.com/ressources/le-processus-du-bureau-dordre-digital-explique-cas-de-gestion-des-courriers-en-france",
          "x": 0,
          "xanchor": "left",
          "xref": "paper",
          "y": 0.8895050000000008,
          "yanchor": "bottom",
          "yref": "paper"
         },
         {
          "align": "left",
          "font": {
           "size": 12
          },
          "showarrow": false,
          "text": "https://www.kertys.com/a-propos",
          "x": 0,
          "xanchor": "left",
          "xref": "paper",
          "y": 0.8794600000000009,
          "yanchor": "bottom",
          "yref": "paper"
         },
         {
          "align": "left",
          "font": {
           "size": 12
          },
          "showarrow": false,
          "text": "https://www.kertys.com/solutions/talentsoft",
          "x": 0,
          "xanchor": "left",
          "xref": "paper",
          "y": 0.8694150000000008,
          "yanchor": "bottom",
          "yref": "paper"
         },
         {
          "align": "left",
          "font": {
           "size": 12
          },
          "showarrow": false,
          "text": "https://www.kertys.com/solutions/m-files",
          "x": 0,
          "xanchor": "left",
          "xref": "paper",
          "y": 0.8593700000000007,
          "yanchor": "bottom",
          "yref": "paper"
         },
         {
          "align": "left",
          "font": {
           "size": 12
          },
          "showarrow": false,
          "text": "https://www.kertys.com/solutions/automation-anywhere",
          "x": 0,
          "xanchor": "left",
          "xref": "paper",
          "y": 0.8493250000000008,
          "yanchor": "bottom",
          "yref": "paper"
         },
         {
          "align": "left",
          "font": {
           "size": 12
          },
          "showarrow": false,
          "text": "https://www.kertys.com/clients/dematerialisation-des-processus-metiers-cmim",
          "x": 0,
          "xanchor": "left",
          "xref": "paper",
          "y": 0.8392800000000008,
          "yanchor": "bottom",
          "yref": "paper"
         },
         {
          "align": "left",
          "font": {
           "size": 12
          },
          "showarrow": false,
          "text": "https://www.kertys.com/ressources/la-gestion-documentaire-ged-pour-le-secteur-de-lassurance-au-maroc-et-en-afrique",
          "x": 0,
          "xanchor": "left",
          "xref": "paper",
          "y": 0.8292350000000007,
          "yanchor": "bottom",
          "yref": "paper"
         },
         {
          "align": "left",
          "font": {
           "size": 12
          },
          "showarrow": false,
          "text": "https://www.kertys.com/solutions/iris-powerscan",
          "x": 0,
          "xanchor": "left",
          "xref": "paper",
          "y": 0.8191900000000006,
          "yanchor": "bottom",
          "yref": "paper"
         },
         {
          "align": "left",
          "font": {
           "size": 12
          },
          "showarrow": false,
          "text": "https://www.kertys.com/solutions/ignimission",
          "x": 0,
          "xanchor": "left",
          "xref": "paper",
          "y": 0.8091450000000007,
          "yanchor": "bottom",
          "yref": "paper"
         },
         {
          "align": "left",
          "font": {
           "size": 12
          },
          "showarrow": false,
          "text": "https://www.kertys.com/demo",
          "x": 0,
          "xanchor": "left",
          "xref": "paper",
          "y": 0.7991000000000007,
          "yanchor": "bottom",
          "yref": "paper"
         },
         {
          "align": "left",
          "font": {
           "size": 12
          },
          "showarrow": false,
          "text": "https://www.kertys.com/categorie/gestion-electronique-des-documents",
          "x": 0,
          "xanchor": "left",
          "xref": "paper",
          "y": 0.7890550000000006,
          "yanchor": "bottom",
          "yref": "paper"
         },
         {
          "align": "left",
          "font": {
           "size": 12
          },
          "showarrow": false,
          "text": "https://www.kertys.com/categorie/business-intelligence",
          "x": 0,
          "xanchor": "left",
          "xref": "paper",
          "y": 0.7790100000000005,
          "yanchor": "bottom",
          "yref": "paper"
         },
         {
          "align": "left",
          "font": {
           "size": 12
          },
          "showarrow": false,
          "text": "https://www.kertys.com/le-socle-rh-pour-une-nouvelle-gestion-des-talents-au-maroc-et-afrique",
          "x": 0,
          "xanchor": "left",
          "xref": "paper",
          "y": 0.7689650000000006,
          "yanchor": "bottom",
          "yref": "paper"
         },
         {
          "align": "left",
          "font": {
           "size": 12
          },
          "showarrow": false,
          "text": "https://www.kertys.com/carrieres",
          "x": 0,
          "xanchor": "left",
          "xref": "paper",
          "y": 0.7589200000000006,
          "yanchor": "bottom",
          "yref": "paper"
         },
         {
          "align": "left",
          "font": {
           "size": 12
          },
          "showarrow": false,
          "text": "https://www.kertys.com/ressources/quelle-solution-bpm-est-collaborative-no-code-au-maroc-et-afrique",
          "x": 0,
          "xanchor": "left",
          "xref": "paper",
          "y": 0.7488750000000005,
          "yanchor": "bottom",
          "yref": "paper"
         },
         {
          "align": "left",
          "font": {
           "size": 12
          },
          "showarrow": false,
          "text": "https://www.kertys.com/contact",
          "x": 0,
          "xanchor": "left",
          "xref": "paper",
          "y": 0.7388300000000004,
          "yanchor": "bottom",
          "yref": "paper"
         },
         {
          "align": "left",
          "font": {
           "size": 12
          },
          "showarrow": false,
          "text": "https://www.kertys.com/ressources/gerer-vos-donnees-a-travers-m-files-et-son-integration-teams",
          "x": 0,
          "xanchor": "left",
          "xref": "paper",
          "y": 0.7287850000000006,
          "yanchor": "bottom",
          "yref": "paper"
         },
         {
          "align": "left",
          "font": {
           "size": 12
          },
          "showarrow": false,
          "text": "https://www.kertys.com/solutions/hubshare",
          "x": 0,
          "xanchor": "left",
          "xref": "paper",
          "y": 0.7187400000000005,
          "yanchor": "bottom",
          "yref": "paper"
         },
         {
          "align": "left",
          "font": {
           "size": 12
          },
          "showarrow": false,
          "text": "https://www.kertys.com/solutions/eflow-bpm",
          "x": 0,
          "xanchor": "left",
          "xref": "paper",
          "y": 0.7086950000000004,
          "yanchor": "bottom",
          "yref": "paper"
         },
         {
          "align": "left",
          "font": {
           "size": 12
          },
          "showarrow": false,
          "text": "https://www.kertys.com/services/formations",
          "x": 0,
          "xanchor": "left",
          "xref": "paper",
          "y": 0.6986500000000004,
          "yanchor": "bottom",
          "yref": "paper"
         },
         {
          "align": "left",
          "font": {
           "size": 12
          },
          "showarrow": false,
          "text": "https://www.kertys.com/solutions/zenoptics",
          "x": 0,
          "xanchor": "left",
          "xref": "paper",
          "y": 0.6886050000000005,
          "yanchor": "bottom",
          "yref": "paper"
         },
         {
          "align": "left",
          "font": {
           "size": 12
          },
          "showarrow": false,
          "text": "https://www.kertys.com/ressources/cegid-va-acquerir-talentsoft-et-ainsi-donner-naissance-a-un-champion-europeen-des-solutions-rh-dans-le-cloud",
          "x": 0,
          "xanchor": "left",
          "xref": "paper",
          "y": 0.6785600000000004,
          "yanchor": "bottom",
          "yref": "paper"
         },
         {
          "align": "left",
          "font": {
           "size": 12
          },
          "showarrow": false,
          "text": "https://www.kertys.com/afrique",
          "x": 0,
          "xanchor": "left",
          "xref": "paper",
          "y": 0.6685150000000003,
          "yanchor": "bottom",
          "yref": "paper"
         },
         {
          "align": "left",
          "font": {
           "size": 12
          },
          "showarrow": false,
          "text": "https://www.kertys.com/ressources/m-files-nomme-laureat-des-2022-big-artificial-intelligence-excellence-awards",
          "x": 0,
          "xanchor": "left",
          "xref": "paper",
          "y": 0.6584700000000003,
          "yanchor": "bottom",
          "yref": "paper"
         },
         {
          "align": "left",
          "font": {
           "size": 12
          },
          "showarrow": false,
          "text": "https://www.kertys.com/ressources/ocr-au-maroc-et-afrique",
          "x": 0,
          "xanchor": "left",
          "xref": "paper",
          "y": 0.6484250000000004,
          "yanchor": "bottom",
          "yref": "paper"
         },
         {
          "align": "left",
          "font": {
           "size": 12
          },
          "showarrow": false,
          "text": "https://www.kertys.com/ressources/m-files-reconnu-comme-visionnaire-dans-le-magic-quadrant-de-gartner-pour-les-plateformes-de-services-de-contenu-2021",
          "x": 0,
          "xanchor": "left",
          "xref": "paper",
          "y": 0.6383800000000003,
          "yanchor": "bottom",
          "yref": "paper"
         },
         {
          "align": "left",
          "font": {
           "size": 12
          },
          "showarrow": false,
          "text": "https://www.kertys.com/ressources/solution-ged-en-afrique-pour-optimiser-votre-gestion-documentaire",
          "x": 0,
          "xanchor": "left",
          "xref": "paper",
          "y": 0.6283350000000002,
          "yanchor": "bottom",
          "yref": "paper"
         },
         {
          "align": "left",
          "font": {
           "size": 12
          },
          "showarrow": false,
          "text": "https://www.kertys.com/ressources/les-5-activites-les-plus-courantes-a-automatiser-dans-lassurance-avec-la-rpa-automation-anywhere",
          "x": 0,
          "xanchor": "left",
          "xref": "paper",
          "y": 0.6182900000000002,
          "yanchor": "bottom",
          "yref": "paper"
         },
         {
          "align": "left",
          "font": {
           "size": 12
          },
          "showarrow": false,
          "text": "https://www.kertys.com/services/digital-workplace/gestion-des-appels-doffres",
          "x": 0,
          "xanchor": "left",
          "xref": "paper",
          "y": 0.6082450000000003,
          "yanchor": "bottom",
          "yref": "paper"
         },
         {
          "align": "left",
          "font": {
           "size": 12
          },
          "showarrow": false,
          "text": "https://www.kertys.com/ressources/talentsoft-affirme-sa-position-en-leader-europeen-des-solutions-de-cloud-hcm",
          "x": 0,
          "xanchor": "left",
          "xref": "paper",
          "y": 0.5982000000000002,
          "yanchor": "bottom",
          "yref": "paper"
         },
         {
          "align": "left",
          "font": {
           "size": 12
          },
          "showarrow": false,
          "text": "https://www.kertys.com/ressources/piql-signe-un-nouvel-accord-pour-stocker-les-donnees-de-plus-dun-million-de-semences-dans-la-chambre-forte-mondiale-de-svalbard",
          "x": 0,
          "xanchor": "left",
          "xref": "paper",
          "y": 0.5881550000000001,
          "yanchor": "bottom",
          "yref": "paper"
         },
         {
          "align": "left",
          "font": {
           "size": 12
          },
          "showarrow": false,
          "text": "https://www.kertys.com/ressources/piql-solution-efficase-pour-se-proteger-son-entreprise-face-aux-cyberattaques-et-ransomware",
          "x": 0,
          "xanchor": "left",
          "xref": "paper",
          "y": 0.5781100000000001,
          "yanchor": "bottom",
          "yref": "paper"
         },
         {
          "align": "left",
          "font": {
           "size": 12
          },
          "showarrow": false,
          "text": "https://www.kertys.com/ressources/plateforme-dataops-streamsets-solution-moderne-dintegration-de-donnees-dediee-a-la-construction-des-pipelines-de-donnees-au-maroc-et-afrique",
          "x": 0,
          "xanchor": "left",
          "xref": "paper",
          "y": 0.5680650000000002,
          "yanchor": "bottom",
          "yref": "paper"
         },
         {
          "align": "left",
          "font": {
           "size": 12
          },
          "showarrow": false,
          "text": "https://www.kertys.com/solutions/lucanet",
          "x": 0,
          "xanchor": "left",
          "xref": "paper",
          "y": 0.5580200000000001,
          "yanchor": "bottom",
          "yref": "paper"
         },
         {
          "align": "left",
          "font": {
           "size": 12
          },
          "showarrow": false,
          "text": "https://www.kertys.com/ressources/gestion-des-documents-et-la-dematerialisation-des-processus-avec-m-files-en-2021-2022",
          "x": 0,
          "xanchor": "left",
          "xref": "paper",
          "y": 0.5479750000000001,
          "yanchor": "bottom",
          "yref": "paper"
         },
         {
          "align": "left",
          "font": {
           "size": 12
          },
          "showarrow": false,
          "text": "https://www.kertys.com/ressources/nos-modeles-dintegration-de-donnees-streamsets-pour-des-pipelines-de-donnees-intelligents",
          "x": 0,
          "xanchor": "left",
          "xref": "paper",
          "y": 0.53793,
          "yanchor": "bottom",
          "yref": "paper"
         },
         {
          "align": "left",
          "font": {
           "size": 12
          },
          "showarrow": false,
          "text": "https://www.kertys.com/ressources/automatisation-assistee-quest-ce-que-cest-et-pourquoi-en-ai-je-besoin",
          "x": 0,
          "xanchor": "left",
          "xref": "paper",
          "y": 0.527885,
          "yanchor": "bottom",
          "yref": "paper"
         },
         {
          "align": "left",
          "font": {
           "size": 12
          },
          "showarrow": false,
          "text": "https://www.kertys.com/la-digital-workplace-le-guide-des-porteurs-de-projet",
          "x": 0,
          "xanchor": "left",
          "xref": "paper",
          "y": 0.51784,
          "yanchor": "bottom",
          "yref": "paper"
         },
         {
          "align": "left",
          "font": {
           "size": 12
          },
          "showarrow": false,
          "text": "https://www.kertys.com/livre-blanc-priorites-et-perspectives-pour-2025-en-matiere-de-gestion-des-competences",
          "x": 0,
          "xanchor": "left",
          "xref": "paper",
          "y": 0.507795,
          "yanchor": "bottom",
          "yref": "paper"
         },
         {
          "align": "left",
          "font": {
           "size": 12
          },
          "showarrow": false,
          "text": "https://www.kertys.com/ressources/electronic-document-management-in-africa-the-key-to-a-successful-digital-transformation",
          "x": 0,
          "xanchor": "left",
          "xref": "paper",
          "y": 0.49774999999999997,
          "yanchor": "bottom",
          "yref": "paper"
         },
         {
          "align": "left",
          "font": {
           "size": 12
          },
          "showarrow": false,
          "text": "https://www.kertys.com/categorie/ressources-humaines",
          "x": 0,
          "xanchor": "left",
          "xref": "paper",
          "y": 0.48770499999999994,
          "yanchor": "bottom",
          "yref": "paper"
         },
         {
          "align": "left",
          "font": {
           "size": 12
          },
          "showarrow": false,
          "text": "https://www.kertys.com/categorie/automatisation",
          "x": 0,
          "xanchor": "left",
          "xref": "paper",
          "y": 0.4776599999999999,
          "yanchor": "bottom",
          "yref": "paper"
         },
         {
          "align": "left",
          "font": {
           "size": 12
          },
          "showarrow": false,
          "text": "https://www.kertys.com/categorie/data-visualisation",
          "x": 0,
          "xanchor": "left",
          "xref": "paper",
          "y": 0.4676149999999999,
          "yanchor": "bottom",
          "yref": "paper"
         },
         {
          "align": "left",
          "font": {
           "size": 12
          },
          "showarrow": false,
          "text": "https://www.kertys.com/categorie/gestion-des-processus-metiers",
          "x": 0,
          "xanchor": "left",
          "xref": "paper",
          "y": 0.45756999999999987,
          "yanchor": "bottom",
          "yref": "paper"
         },
         {
          "align": "left",
          "font": {
           "size": 12
          },
          "showarrow": false,
          "text": "https://www.kertys.com/categorie/glossaire",
          "x": 0,
          "xanchor": "left",
          "xref": "paper",
          "y": 0.44752499999999984,
          "yanchor": "bottom",
          "yref": "paper"
         },
         {
          "align": "left",
          "font": {
           "size": 12
          },
          "showarrow": false,
          "text": "https://www.kertys.com/categorie/planification-budgetaire",
          "x": 0,
          "xanchor": "left",
          "xref": "paper",
          "y": 0.43747999999999987,
          "yanchor": "bottom",
          "yref": "paper"
         },
         {
          "align": "left",
          "font": {
           "size": 12
          },
          "showarrow": false,
          "text": "https://www.kertys.com/categorie/risk-management",
          "x": 0,
          "xanchor": "left",
          "xref": "paper",
          "y": 0.4274349999999999,
          "yanchor": "bottom",
          "yref": "paper"
         },
         {
          "align": "left",
          "font": {
           "size": 12
          },
          "showarrow": false,
          "text": "https://www.kertys.com/solutions/piql",
          "x": 0,
          "xanchor": "left",
          "xref": "paper",
          "y": 0.4173899999999999,
          "yanchor": "bottom",
          "yref": "paper"
         },
         {
          "align": "left",
          "font": {
           "size": 12
          },
          "showarrow": false,
          "text": "https://www.kertys.com/categorie/transformation-digitale",
          "x": 0,
          "xanchor": "left",
          "xref": "paper",
          "y": 0.4073449999999999,
          "yanchor": "bottom",
          "yref": "paper"
         },
         {
          "align": "left",
          "font": {
           "size": 12
          },
          "showarrow": false,
          "text": "https://www.kertys.com/services/digital-workplace/visite-medicale",
          "x": 0,
          "xanchor": "left",
          "xref": "paper",
          "y": 0.3972999999999999,
          "yanchor": "bottom",
          "yref": "paper"
         },
         {
          "align": "left",
          "font": {
           "size": 12
          },
          "showarrow": false,
          "text": "https://www.kertys.com/services/digital-workplace/recrutement",
          "x": 0,
          "xanchor": "left",
          "xref": "paper",
          "y": 0.3872549999999999,
          "yanchor": "bottom",
          "yref": "paper"
         },
         {
          "align": "left",
          "font": {
           "size": 12
          },
          "showarrow": false,
          "text": "https://www.kertys.com/services/digital-workplace/note-de-frais",
          "x": 0,
          "xanchor": "left",
          "xref": "paper",
          "y": 0.37720999999999993,
          "yanchor": "bottom",
          "yref": "paper"
         },
         {
          "align": "left",
          "font": {
           "size": 12
          },
          "showarrow": false,
          "text": "https://www.kertys.com/services/digital-workplace/knowledge-management",
          "x": 0,
          "xanchor": "left",
          "xref": "paper",
          "y": 0.36716499999999996,
          "yanchor": "bottom",
          "yref": "paper"
         },
         {
          "align": "left",
          "font": {
           "size": 12
          },
          "showarrow": false,
          "text": "https://www.kertys.com/services/digital-workplace/gestion-du-parc-automobile",
          "x": 0,
          "xanchor": "left",
          "xref": "paper",
          "y": 0.35711999999999994,
          "yanchor": "bottom",
          "yref": "paper"
         },
         {
          "align": "left",
          "font": {
           "size": 12
          },
          "showarrow": false,
          "text": "https://www.kertys.com/services/digital-workplace/gestion-du-comite-dentreprise",
          "x": 0,
          "xanchor": "left",
          "xref": "paper",
          "y": 0.3470749999999999,
          "yanchor": "bottom",
          "yref": "paper"
         },
         {
          "align": "left",
          "font": {
           "size": 12
          },
          "showarrow": false,
          "text": "https://www.kertys.com/categorie/actualites",
          "x": 0,
          "xanchor": "left",
          "xref": "paper",
          "y": 0.33702999999999994,
          "yanchor": "bottom",
          "yref": "paper"
         },
         {
          "align": "left",
          "font": {
           "size": 12
          },
          "showarrow": false,
          "text": "https://www.kertys.com/barometre-talent-management",
          "x": 0,
          "xanchor": "left",
          "xref": "paper",
          "y": 0.32698499999999997,
          "yanchor": "bottom",
          "yref": "paper"
         },
         {
          "align": "left",
          "font": {
           "size": 12
          },
          "showarrow": false,
          "text": "https://www.kertys.com/solutions/streamset",
          "x": 0,
          "xanchor": "left",
          "xref": "paper",
          "y": 0.31693999999999994,
          "yanchor": "bottom",
          "yref": "paper"
         },
         {
          "align": "left",
          "font": {
           "size": 12
          },
          "showarrow": false,
          "text": "https://www.kertys.com/webinaire-le-pilotage-de-la-performance-financiere-avec-lucanet",
          "x": 0,
          "xanchor": "left",
          "xref": "paper",
          "y": 0.3068949999999999,
          "yanchor": "bottom",
          "yref": "paper"
         },
         {
          "align": "left",
          "font": {
           "size": 12
          },
          "showarrow": false,
          "text": "https://www.kertys.com/webinar-les-benefices-de-la-rpa-ia-pour-la-fonction-finance",
          "x": 0,
          "xanchor": "left",
          "xref": "paper",
          "y": 0.29684999999999995,
          "yanchor": "bottom",
          "yref": "paper"
         },
         {
          "align": "left",
          "font": {
           "size": 12
          },
          "showarrow": false,
          "text": "https://www.kertys.com/webinaire-streamsets-solution-agile-et-innovante-dintegration-des-donnees-en-tant-que-service-en-mode-streaming",
          "x": 0,
          "xanchor": "left",
          "xref": "paper",
          "y": 0.286805,
          "yanchor": "bottom",
          "yref": "paper"
         },
         {
          "align": "left",
          "font": {
           "size": 12
          },
          "showarrow": false,
          "text": "https://www.kertys.com/webinaire-reinventer-le-futur-du-travail-avec-une-solution-no-code-bpm-eflow",
          "x": 0,
          "xanchor": "left",
          "xref": "paper",
          "y": 0.27675999999999995,
          "yanchor": "bottom",
          "yref": "paper"
         },
         {
          "align": "left",
          "font": {
           "size": 12
          },
          "showarrow": false,
          "text": "https://www.kertys.com/webinaire-rationnalisez-et-automatisez-la-collecte-des-donnees-avec-ignimission",
          "x": 0,
          "xanchor": "left",
          "xref": "paper",
          "y": 0.266715,
          "yanchor": "bottom",
          "yref": "paper"
         },
         {
          "align": "left",
          "font": {
           "size": 12
          },
          "showarrow": false,
          "text": "https://www.kertys.com/webinaire-piql-solution-de-conservation-et-preservation-a-long-terme-des-documents",
          "x": 0,
          "xanchor": "left",
          "xref": "paper",
          "y": 0.25666999999999995,
          "yanchor": "bottom",
          "yref": "paper"
         },
         {
          "align": "left",
          "font": {
           "size": 12
          },
          "showarrow": false,
          "text": "https://www.kertys.com/webinaire-le-rpa-au-service-de-votre-transformation-digitale",
          "x": 0,
          "xanchor": "left",
          "xref": "paper",
          "y": 0.24662499999999996,
          "yanchor": "bottom",
          "yref": "paper"
         },
         {
          "align": "left",
          "font": {
           "size": 12
          },
          "showarrow": false,
          "text": "https://www.kertys.com/webinaire-la-dematerialisation-du-bureau-dordre-et-gestion-des-courriers-un-pont-vers-la-digitalisation-des-autres-processus-metiers-de-lentreprise",
          "x": 0,
          "xanchor": "left",
          "xref": "paper",
          "y": 0.23657999999999996,
          "yanchor": "bottom",
          "yref": "paper"
         },
         {
          "align": "left",
          "font": {
           "size": 12
          },
          "showarrow": false,
          "text": "https://www.kertys.com/services/digital-workplace/gestion-des-factures",
          "x": 0,
          "xanchor": "left",
          "xref": "paper",
          "y": 0.22653499999999996,
          "yanchor": "bottom",
          "yref": "paper"
         },
         {
          "align": "left",
          "font": {
           "size": 12
          },
          "showarrow": false,
          "text": "https://www.kertys.com/webinaire-digitalisez-vos-campagnes-devaluation-annuelle-avec-talentsoft",
          "x": 0,
          "xanchor": "left",
          "xref": "paper",
          "y": 0.21648999999999996,
          "yanchor": "bottom",
          "yref": "paper"
         },
         {
          "align": "left",
          "font": {
           "size": 12
          },
          "showarrow": false,
          "text": "https://www.kertys.com/video-webinaire-piql-solution-de-conservation-et-preservation-a-long-terme-des-documents",
          "x": 0,
          "xanchor": "left",
          "xref": "paper",
          "y": 0.20644499999999996,
          "yanchor": "bottom",
          "yref": "paper"
         },
         {
          "align": "left",
          "font": {
           "size": 12
          },
          "showarrow": false,
          "text": "https://www.kertys.com/video-replay-webinaire-le-pilotage-de-la-performance-financiere-avec-lucanet",
          "x": 0,
          "xanchor": "left",
          "xref": "paper",
          "y": 0.19639999999999996,
          "yanchor": "bottom",
          "yref": "paper"
         },
         {
          "align": "left",
          "font": {
           "size": 12
          },
          "showarrow": false,
          "text": "https://www.kertys.com/tendances-rh-2021",
          "x": 0,
          "xanchor": "left",
          "xref": "paper",
          "y": 0.18635499999999997,
          "yanchor": "bottom",
          "yref": "paper"
         },
         {
          "align": "left",
          "font": {
           "size": 12
          },
          "showarrow": false,
          "text": "https://www.kertys.com/3-etapes-pour-aligner-sa-strategie-rh-dentreprise",
          "x": 0,
          "xanchor": "left",
          "xref": "paper",
          "y": 0.17631,
          "yanchor": "bottom",
          "yref": "paper"
         },
         {
          "align": "left",
          "font": {
           "size": 12
          },
          "showarrow": false,
          "text": "https://www.kertys.com/automation-360-pour-lautomatisation-des-commandes-dans-sap",
          "x": 0,
          "xanchor": "left",
          "xref": "paper",
          "y": 0.16626499999999997,
          "yanchor": "bottom",
          "yref": "paper"
         },
         {
          "align": "left",
          "font": {
           "size": 12
          },
          "showarrow": false,
          "text": "https://www.kertys.com/services/digital-workplace/gestion-des-tournees",
          "x": 0,
          "xanchor": "left",
          "xref": "paper",
          "y": 0.15622,
          "yanchor": "bottom",
          "yref": "paper"
         },
         {
          "align": "left",
          "font": {
           "size": 12
          },
          "showarrow": false,
          "text": "https://www.kertys.com/services/digital-workplace/gestion-des-conges",
          "x": 0,
          "xanchor": "left",
          "xref": "paper",
          "y": 0.14617499999999997,
          "yanchor": "bottom",
          "yref": "paper"
         },
         {
          "align": "left",
          "font": {
           "size": 12
          },
          "showarrow": false,
          "text": "https://www.kertys.com/services/digital-workplace/gestion-des-courriers",
          "x": 0,
          "xanchor": "left",
          "xref": "paper",
          "y": 0.13613,
          "yanchor": "bottom",
          "yref": "paper"
         },
         {
          "align": "left",
          "font": {
           "size": 12
          },
          "showarrow": false,
          "text": "https://www.kertys.com/replay-webinaire-le-rpa-au-service-de-votre-transformation-digitale",
          "x": 0,
          "xanchor": "left",
          "xref": "paper",
          "y": 0.126085,
          "yanchor": "bottom",
          "yref": "paper"
         },
         {
          "align": "left",
          "font": {
           "size": 12
          },
          "showarrow": false,
          "text": "https://www.kertys.com/faq",
          "x": 0,
          "xanchor": "left",
          "xref": "paper",
          "y": 0.11604,
          "yanchor": "bottom",
          "yref": "paper"
         },
         {
          "align": "left",
          "font": {
           "size": 12
          },
          "showarrow": false,
          "text": "https://www.kertys.com/guide-de-travail-strategie-rh-2022",
          "x": 0,
          "xanchor": "left",
          "xref": "paper",
          "y": 0.105995,
          "yanchor": "bottom",
          "yref": "paper"
         },
         {
          "align": "left",
          "font": {
           "size": 12
          },
          "showarrow": false,
          "text": "https://www.kertys.com/kertys-sassocie-a-ignimission-pour-rationaliser-les-processus-metiers-de-collecte-de-saisie-dechange-de-donnees-des-entreprises-en-afrique",
          "x": 0,
          "xanchor": "left",
          "xref": "paper",
          "y": 0.09595000000000001,
          "yanchor": "bottom",
          "yref": "paper"
         },
         {
          "align": "left",
          "font": {
           "size": 12
          },
          "showarrow": false,
          "text": "https://www.kertys.com/la-rpa-robotic-process-automation-pour-lindustrie-pharmaceutique",
          "x": 0,
          "xanchor": "left",
          "xref": "paper",
          "y": 0.08590500000000001,
          "yanchor": "bottom",
          "yref": "paper"
         },
         {
          "align": "left",
          "font": {
           "size": 12
          },
          "showarrow": false,
          "text": "https://www.kertys.com/2021-gartner-r-magic-quadrant-tm-pour-les-plateformes-de-services-de-contenu",
          "x": 0,
          "xanchor": "left",
          "xref": "paper",
          "y": 0.07586,
          "yanchor": "bottom",
          "yref": "paper"
         },
         {
          "align": "left",
          "font": {
           "size": 12
          },
          "showarrow": false,
          "text": "https://www.kertys.com/ressources/m-files-offre-un-retour-sur-investissement-de-pres-de-270-selon-une-nouvelle-etude-dimpact-economique-total",
          "x": 0,
          "xanchor": "left",
          "xref": "paper",
          "y": 0.065815,
          "yanchor": "bottom",
          "yref": "paper"
         },
         {
          "align": "left",
          "font": {
           "size": 12
          },
          "showarrow": false,
          "text": "https://www.kertys.com/ressources/m-files-leve-80-millions-de-dollars-pour-une-ia-qui-automatise-la-gestion-des-informations-de-lentreprise",
          "x": 0,
          "xanchor": "left",
          "xref": "paper",
          "y": 0.05577000000000001,
          "yanchor": "bottom",
          "yref": "paper"
         },
         {
          "align": "left",
          "font": {
           "size": 12
          },
          "showarrow": false,
          "text": "https://www.kertys.com/ressources/ecm-and-edm-in-ghana-and-west-africa",
          "x": 0,
          "xanchor": "left",
          "xref": "paper",
          "y": 0.045725,
          "yanchor": "bottom",
          "yref": "paper"
         },
         {
          "align": "left",
          "font": {
           "size": 12
          },
          "showarrow": false,
          "text": "https://www.kertys.com/resoudre-les-perturbations-de-la-chaine-dapprovisionnement-en-exploitant-la-puissance-de-lautomatisation-et-de-lia",
          "x": 0,
          "xanchor": "left",
          "xref": "paper",
          "y": 0.035679999999999996,
          "yanchor": "bottom",
          "yref": "paper"
         },
         {
          "align": "left",
          "font": {
           "size": 12
          },
          "showarrow": false,
          "text": "https://www.kertys.com/ressources/les-4-cles-pour-constituer-une-equipe-performante-en-2021",
          "x": 0,
          "xanchor": "left",
          "xref": "paper",
          "y": 0.025634999999999998,
          "yanchor": "bottom",
          "yref": "paper"
         },
         {
          "align": "left",
          "font": {
           "size": 12
          },
          "showarrow": false,
          "text": "https://www.kertys.com/ressources",
          "x": 0,
          "xanchor": "left",
          "xref": "paper",
          "y": 0.01559,
          "yanchor": "bottom",
          "yref": "paper"
         },
         {
          "align": "left",
          "font": {
           "size": 12
          },
          "showarrow": false,
          "text": "https://www.kertys.com/ressources/la-technologie-piql-solution-ultime-de-conservation-des-donnees-et-archives-pour-le-secteur-des-banques-des-services-financiers-et-des-assurances-au-maroc-et-afrique",
          "x": 0,
          "xanchor": "left",
          "xref": "paper",
          "y": 0.005545,
          "yanchor": "bottom",
          "yref": "paper"
         }
        ],
        "height": 4500,
        "margin": {
         "b": 1,
         "l": 0,
         "r": 20,
         "t": 20
        },
        "plot_bgcolor": "#fff",
        "showlegend": false,
        "template": {
         "data": {
          "bar": [
           {
            "error_x": {
             "color": "#2a3f5f"
            },
            "error_y": {
             "color": "#2a3f5f"
            },
            "marker": {
             "line": {
              "color": "#E5ECF6",
              "width": 0.5
             },
             "pattern": {
              "fillmode": "overlay",
              "size": 10,
              "solidity": 0.2
             }
            },
            "type": "bar"
           }
          ],
          "barpolar": [
           {
            "marker": {
             "line": {
              "color": "#E5ECF6",
              "width": 0.5
             },
             "pattern": {
              "fillmode": "overlay",
              "size": 10,
              "solidity": 0.2
             }
            },
            "type": "barpolar"
           }
          ],
          "carpet": [
           {
            "aaxis": {
             "endlinecolor": "#2a3f5f",
             "gridcolor": "white",
             "linecolor": "white",
             "minorgridcolor": "white",
             "startlinecolor": "#2a3f5f"
            },
            "baxis": {
             "endlinecolor": "#2a3f5f",
             "gridcolor": "white",
             "linecolor": "white",
             "minorgridcolor": "white",
             "startlinecolor": "#2a3f5f"
            },
            "type": "carpet"
           }
          ],
          "choropleth": [
           {
            "colorbar": {
             "outlinewidth": 0,
             "ticks": ""
            },
            "type": "choropleth"
           }
          ],
          "contour": [
           {
            "colorbar": {
             "outlinewidth": 0,
             "ticks": ""
            },
            "colorscale": [
             [
              0,
              "#0d0887"
             ],
             [
              0.1111111111111111,
              "#46039f"
             ],
             [
              0.2222222222222222,
              "#7201a8"
             ],
             [
              0.3333333333333333,
              "#9c179e"
             ],
             [
              0.4444444444444444,
              "#bd3786"
             ],
             [
              0.5555555555555556,
              "#d8576b"
             ],
             [
              0.6666666666666666,
              "#ed7953"
             ],
             [
              0.7777777777777778,
              "#fb9f3a"
             ],
             [
              0.8888888888888888,
              "#fdca26"
             ],
             [
              1,
              "#f0f921"
             ]
            ],
            "type": "contour"
           }
          ],
          "contourcarpet": [
           {
            "colorbar": {
             "outlinewidth": 0,
             "ticks": ""
            },
            "type": "contourcarpet"
           }
          ],
          "heatmap": [
           {
            "colorbar": {
             "outlinewidth": 0,
             "ticks": ""
            },
            "colorscale": [
             [
              0,
              "#0d0887"
             ],
             [
              0.1111111111111111,
              "#46039f"
             ],
             [
              0.2222222222222222,
              "#7201a8"
             ],
             [
              0.3333333333333333,
              "#9c179e"
             ],
             [
              0.4444444444444444,
              "#bd3786"
             ],
             [
              0.5555555555555556,
              "#d8576b"
             ],
             [
              0.6666666666666666,
              "#ed7953"
             ],
             [
              0.7777777777777778,
              "#fb9f3a"
             ],
             [
              0.8888888888888888,
              "#fdca26"
             ],
             [
              1,
              "#f0f921"
             ]
            ],
            "type": "heatmap"
           }
          ],
          "heatmapgl": [
           {
            "colorbar": {
             "outlinewidth": 0,
             "ticks": ""
            },
            "colorscale": [
             [
              0,
              "#0d0887"
             ],
             [
              0.1111111111111111,
              "#46039f"
             ],
             [
              0.2222222222222222,
              "#7201a8"
             ],
             [
              0.3333333333333333,
              "#9c179e"
             ],
             [
              0.4444444444444444,
              "#bd3786"
             ],
             [
              0.5555555555555556,
              "#d8576b"
             ],
             [
              0.6666666666666666,
              "#ed7953"
             ],
             [
              0.7777777777777778,
              "#fb9f3a"
             ],
             [
              0.8888888888888888,
              "#fdca26"
             ],
             [
              1,
              "#f0f921"
             ]
            ],
            "type": "heatmapgl"
           }
          ],
          "histogram": [
           {
            "marker": {
             "pattern": {
              "fillmode": "overlay",
              "size": 10,
              "solidity": 0.2
             }
            },
            "type": "histogram"
           }
          ],
          "histogram2d": [
           {
            "colorbar": {
             "outlinewidth": 0,
             "ticks": ""
            },
            "colorscale": [
             [
              0,
              "#0d0887"
             ],
             [
              0.1111111111111111,
              "#46039f"
             ],
             [
              0.2222222222222222,
              "#7201a8"
             ],
             [
              0.3333333333333333,
              "#9c179e"
             ],
             [
              0.4444444444444444,
              "#bd3786"
             ],
             [
              0.5555555555555556,
              "#d8576b"
             ],
             [
              0.6666666666666666,
              "#ed7953"
             ],
             [
              0.7777777777777778,
              "#fb9f3a"
             ],
             [
              0.8888888888888888,
              "#fdca26"
             ],
             [
              1,
              "#f0f921"
             ]
            ],
            "type": "histogram2d"
           }
          ],
          "histogram2dcontour": [
           {
            "colorbar": {
             "outlinewidth": 0,
             "ticks": ""
            },
            "colorscale": [
             [
              0,
              "#0d0887"
             ],
             [
              0.1111111111111111,
              "#46039f"
             ],
             [
              0.2222222222222222,
              "#7201a8"
             ],
             [
              0.3333333333333333,
              "#9c179e"
             ],
             [
              0.4444444444444444,
              "#bd3786"
             ],
             [
              0.5555555555555556,
              "#d8576b"
             ],
             [
              0.6666666666666666,
              "#ed7953"
             ],
             [
              0.7777777777777778,
              "#fb9f3a"
             ],
             [
              0.8888888888888888,
              "#fdca26"
             ],
             [
              1,
              "#f0f921"
             ]
            ],
            "type": "histogram2dcontour"
           }
          ],
          "mesh3d": [
           {
            "colorbar": {
             "outlinewidth": 0,
             "ticks": ""
            },
            "type": "mesh3d"
           }
          ],
          "parcoords": [
           {
            "line": {
             "colorbar": {
              "outlinewidth": 0,
              "ticks": ""
             }
            },
            "type": "parcoords"
           }
          ],
          "pie": [
           {
            "automargin": true,
            "type": "pie"
           }
          ],
          "scatter": [
           {
            "fillpattern": {
             "fillmode": "overlay",
             "size": 10,
             "solidity": 0.2
            },
            "type": "scatter"
           }
          ],
          "scatter3d": [
           {
            "line": {
             "colorbar": {
              "outlinewidth": 0,
              "ticks": ""
             }
            },
            "marker": {
             "colorbar": {
              "outlinewidth": 0,
              "ticks": ""
             }
            },
            "type": "scatter3d"
           }
          ],
          "scattercarpet": [
           {
            "marker": {
             "colorbar": {
              "outlinewidth": 0,
              "ticks": ""
             }
            },
            "type": "scattercarpet"
           }
          ],
          "scattergeo": [
           {
            "marker": {
             "colorbar": {
              "outlinewidth": 0,
              "ticks": ""
             }
            },
            "type": "scattergeo"
           }
          ],
          "scattergl": [
           {
            "marker": {
             "colorbar": {
              "outlinewidth": 0,
              "ticks": ""
             }
            },
            "type": "scattergl"
           }
          ],
          "scattermapbox": [
           {
            "marker": {
             "colorbar": {
              "outlinewidth": 0,
              "ticks": ""
             }
            },
            "type": "scattermapbox"
           }
          ],
          "scatterpolar": [
           {
            "marker": {
             "colorbar": {
              "outlinewidth": 0,
              "ticks": ""
             }
            },
            "type": "scatterpolar"
           }
          ],
          "scatterpolargl": [
           {
            "marker": {
             "colorbar": {
              "outlinewidth": 0,
              "ticks": ""
             }
            },
            "type": "scatterpolargl"
           }
          ],
          "scatterternary": [
           {
            "marker": {
             "colorbar": {
              "outlinewidth": 0,
              "ticks": ""
             }
            },
            "type": "scatterternary"
           }
          ],
          "surface": [
           {
            "colorbar": {
             "outlinewidth": 0,
             "ticks": ""
            },
            "colorscale": [
             [
              0,
              "#0d0887"
             ],
             [
              0.1111111111111111,
              "#46039f"
             ],
             [
              0.2222222222222222,
              "#7201a8"
             ],
             [
              0.3333333333333333,
              "#9c179e"
             ],
             [
              0.4444444444444444,
              "#bd3786"
             ],
             [
              0.5555555555555556,
              "#d8576b"
             ],
             [
              0.6666666666666666,
              "#ed7953"
             ],
             [
              0.7777777777777778,
              "#fb9f3a"
             ],
             [
              0.8888888888888888,
              "#fdca26"
             ],
             [
              1,
              "#f0f921"
             ]
            ],
            "type": "surface"
           }
          ],
          "table": [
           {
            "cells": {
             "fill": {
              "color": "#EBF0F8"
             },
             "line": {
              "color": "white"
             }
            },
            "header": {
             "fill": {
              "color": "#C8D4E3"
             },
             "line": {
              "color": "white"
             }
            },
            "type": "table"
           }
          ]
         },
         "layout": {
          "annotationdefaults": {
           "arrowcolor": "#2a3f5f",
           "arrowhead": 0,
           "arrowwidth": 1
          },
          "autotypenumbers": "strict",
          "coloraxis": {
           "colorbar": {
            "outlinewidth": 0,
            "ticks": ""
           }
          },
          "colorscale": {
           "diverging": [
            [
             0,
             "#8e0152"
            ],
            [
             0.1,
             "#c51b7d"
            ],
            [
             0.2,
             "#de77ae"
            ],
            [
             0.3,
             "#f1b6da"
            ],
            [
             0.4,
             "#fde0ef"
            ],
            [
             0.5,
             "#f7f7f7"
            ],
            [
             0.6,
             "#e6f5d0"
            ],
            [
             0.7,
             "#b8e186"
            ],
            [
             0.8,
             "#7fbc41"
            ],
            [
             0.9,
             "#4d9221"
            ],
            [
             1,
             "#276419"
            ]
           ],
           "sequential": [
            [
             0,
             "#0d0887"
            ],
            [
             0.1111111111111111,
             "#46039f"
            ],
            [
             0.2222222222222222,
             "#7201a8"
            ],
            [
             0.3333333333333333,
             "#9c179e"
            ],
            [
             0.4444444444444444,
             "#bd3786"
            ],
            [
             0.5555555555555556,
             "#d8576b"
            ],
            [
             0.6666666666666666,
             "#ed7953"
            ],
            [
             0.7777777777777778,
             "#fb9f3a"
            ],
            [
             0.8888888888888888,
             "#fdca26"
            ],
            [
             1,
             "#f0f921"
            ]
           ],
           "sequentialminus": [
            [
             0,
             "#0d0887"
            ],
            [
             0.1111111111111111,
             "#46039f"
            ],
            [
             0.2222222222222222,
             "#7201a8"
            ],
            [
             0.3333333333333333,
             "#9c179e"
            ],
            [
             0.4444444444444444,
             "#bd3786"
            ],
            [
             0.5555555555555556,
             "#d8576b"
            ],
            [
             0.6666666666666666,
             "#ed7953"
            ],
            [
             0.7777777777777778,
             "#fb9f3a"
            ],
            [
             0.8888888888888888,
             "#fdca26"
            ],
            [
             1,
             "#f0f921"
            ]
           ]
          },
          "colorway": [
           "#636efa",
           "#EF553B",
           "#00cc96",
           "#ab63fa",
           "#FFA15A",
           "#19d3f3",
           "#FF6692",
           "#B6E880",
           "#FF97FF",
           "#FECB52"
          ],
          "font": {
           "color": "#2a3f5f"
          },
          "geo": {
           "bgcolor": "white",
           "lakecolor": "white",
           "landcolor": "#E5ECF6",
           "showlakes": true,
           "showland": true,
           "subunitcolor": "white"
          },
          "hoverlabel": {
           "align": "left"
          },
          "hovermode": "closest",
          "mapbox": {
           "style": "light"
          },
          "paper_bgcolor": "white",
          "plot_bgcolor": "#E5ECF6",
          "polar": {
           "angularaxis": {
            "gridcolor": "white",
            "linecolor": "white",
            "ticks": ""
           },
           "bgcolor": "#E5ECF6",
           "radialaxis": {
            "gridcolor": "white",
            "linecolor": "white",
            "ticks": ""
           }
          },
          "scene": {
           "xaxis": {
            "backgroundcolor": "#E5ECF6",
            "gridcolor": "white",
            "gridwidth": 2,
            "linecolor": "white",
            "showbackground": true,
            "ticks": "",
            "zerolinecolor": "white"
           },
           "yaxis": {
            "backgroundcolor": "#E5ECF6",
            "gridcolor": "white",
            "gridwidth": 2,
            "linecolor": "white",
            "showbackground": true,
            "ticks": "",
            "zerolinecolor": "white"
           },
           "zaxis": {
            "backgroundcolor": "#E5ECF6",
            "gridcolor": "white",
            "gridwidth": 2,
            "linecolor": "white",
            "showbackground": true,
            "ticks": "",
            "zerolinecolor": "white"
           }
          },
          "shapedefaults": {
           "line": {
            "color": "#2a3f5f"
           }
          },
          "ternary": {
           "aaxis": {
            "gridcolor": "white",
            "linecolor": "white",
            "ticks": ""
           },
           "baxis": {
            "gridcolor": "white",
            "linecolor": "white",
            "ticks": ""
           },
           "bgcolor": "#E5ECF6",
           "caxis": {
            "gridcolor": "white",
            "linecolor": "white",
            "ticks": ""
           }
          },
          "title": {
           "x": 0.05
          },
          "xaxis": {
           "automargin": true,
           "gridcolor": "white",
           "linecolor": "white",
           "ticks": "",
           "title": {
            "standoff": 15
           },
           "zerolinecolor": "white",
           "zerolinewidth": 2
          },
          "yaxis": {
           "automargin": true,
           "gridcolor": "white",
           "linecolor": "white",
           "ticks": "",
           "title": {
            "standoff": 15
           },
           "zerolinecolor": "white",
           "zerolinewidth": 2
          }
         }
        },
        "width": 4500,
        "xaxis": {
         "anchor": "y",
         "domain": [
          0,
          1
         ],
         "matches": "x100",
         "showticklabels": false,
         "visible": false
        },
        "xaxis10": {
         "anchor": "y10",
         "domain": [
          0,
          1
         ],
         "matches": "x100",
         "showticklabels": false,
         "visible": false
        },
        "xaxis100": {
         "anchor": "y100",
         "domain": [
          0,
          1
         ],
         "visible": false
        },
        "xaxis11": {
         "anchor": "y11",
         "domain": [
          0,
          1
         ],
         "matches": "x100",
         "showticklabels": false,
         "visible": false
        },
        "xaxis12": {
         "anchor": "y12",
         "domain": [
          0,
          1
         ],
         "matches": "x100",
         "showticklabels": false,
         "visible": false
        },
        "xaxis13": {
         "anchor": "y13",
         "domain": [
          0,
          1
         ],
         "matches": "x100",
         "showticklabels": false,
         "visible": false
        },
        "xaxis14": {
         "anchor": "y14",
         "domain": [
          0,
          1
         ],
         "matches": "x100",
         "showticklabels": false,
         "visible": false
        },
        "xaxis15": {
         "anchor": "y15",
         "domain": [
          0,
          1
         ],
         "matches": "x100",
         "showticklabels": false,
         "visible": false
        },
        "xaxis16": {
         "anchor": "y16",
         "domain": [
          0,
          1
         ],
         "matches": "x100",
         "showticklabels": false,
         "visible": false
        },
        "xaxis17": {
         "anchor": "y17",
         "domain": [
          0,
          1
         ],
         "matches": "x100",
         "showticklabels": false,
         "visible": false
        },
        "xaxis18": {
         "anchor": "y18",
         "domain": [
          0,
          1
         ],
         "matches": "x100",
         "showticklabels": false,
         "visible": false
        },
        "xaxis19": {
         "anchor": "y19",
         "domain": [
          0,
          1
         ],
         "matches": "x100",
         "showticklabels": false,
         "visible": false
        },
        "xaxis2": {
         "anchor": "y2",
         "domain": [
          0,
          1
         ],
         "matches": "x100",
         "showticklabels": false,
         "visible": false
        },
        "xaxis20": {
         "anchor": "y20",
         "domain": [
          0,
          1
         ],
         "matches": "x100",
         "showticklabels": false,
         "visible": false
        },
        "xaxis21": {
         "anchor": "y21",
         "domain": [
          0,
          1
         ],
         "matches": "x100",
         "showticklabels": false,
         "visible": false
        },
        "xaxis22": {
         "anchor": "y22",
         "domain": [
          0,
          1
         ],
         "matches": "x100",
         "showticklabels": false,
         "visible": false
        },
        "xaxis23": {
         "anchor": "y23",
         "domain": [
          0,
          1
         ],
         "matches": "x100",
         "showticklabels": false,
         "visible": false
        },
        "xaxis24": {
         "anchor": "y24",
         "domain": [
          0,
          1
         ],
         "matches": "x100",
         "showticklabels": false,
         "visible": false
        },
        "xaxis25": {
         "anchor": "y25",
         "domain": [
          0,
          1
         ],
         "matches": "x100",
         "showticklabels": false,
         "visible": false
        },
        "xaxis26": {
         "anchor": "y26",
         "domain": [
          0,
          1
         ],
         "matches": "x100",
         "showticklabels": false,
         "visible": false
        },
        "xaxis27": {
         "anchor": "y27",
         "domain": [
          0,
          1
         ],
         "matches": "x100",
         "showticklabels": false,
         "visible": false
        },
        "xaxis28": {
         "anchor": "y28",
         "domain": [
          0,
          1
         ],
         "matches": "x100",
         "showticklabels": false,
         "visible": false
        },
        "xaxis29": {
         "anchor": "y29",
         "domain": [
          0,
          1
         ],
         "matches": "x100",
         "showticklabels": false,
         "visible": false
        },
        "xaxis3": {
         "anchor": "y3",
         "domain": [
          0,
          1
         ],
         "matches": "x100",
         "showticklabels": false,
         "visible": false
        },
        "xaxis30": {
         "anchor": "y30",
         "domain": [
          0,
          1
         ],
         "matches": "x100",
         "showticklabels": false,
         "visible": false
        },
        "xaxis31": {
         "anchor": "y31",
         "domain": [
          0,
          1
         ],
         "matches": "x100",
         "showticklabels": false,
         "visible": false
        },
        "xaxis32": {
         "anchor": "y32",
         "domain": [
          0,
          1
         ],
         "matches": "x100",
         "showticklabels": false,
         "visible": false
        },
        "xaxis33": {
         "anchor": "y33",
         "domain": [
          0,
          1
         ],
         "matches": "x100",
         "showticklabels": false,
         "visible": false
        },
        "xaxis34": {
         "anchor": "y34",
         "domain": [
          0,
          1
         ],
         "matches": "x100",
         "showticklabels": false,
         "visible": false
        },
        "xaxis35": {
         "anchor": "y35",
         "domain": [
          0,
          1
         ],
         "matches": "x100",
         "showticklabels": false,
         "visible": false
        },
        "xaxis36": {
         "anchor": "y36",
         "domain": [
          0,
          1
         ],
         "matches": "x100",
         "showticklabels": false,
         "visible": false
        },
        "xaxis37": {
         "anchor": "y37",
         "domain": [
          0,
          1
         ],
         "matches": "x100",
         "showticklabels": false,
         "visible": false
        },
        "xaxis38": {
         "anchor": "y38",
         "domain": [
          0,
          1
         ],
         "matches": "x100",
         "showticklabels": false,
         "visible": false
        },
        "xaxis39": {
         "anchor": "y39",
         "domain": [
          0,
          1
         ],
         "matches": "x100",
         "showticklabels": false,
         "visible": false
        },
        "xaxis4": {
         "anchor": "y4",
         "domain": [
          0,
          1
         ],
         "matches": "x100",
         "showticklabels": false,
         "visible": false
        },
        "xaxis40": {
         "anchor": "y40",
         "domain": [
          0,
          1
         ],
         "matches": "x100",
         "showticklabels": false,
         "visible": false
        },
        "xaxis41": {
         "anchor": "y41",
         "domain": [
          0,
          1
         ],
         "matches": "x100",
         "showticklabels": false,
         "visible": false
        },
        "xaxis42": {
         "anchor": "y42",
         "domain": [
          0,
          1
         ],
         "matches": "x100",
         "showticklabels": false,
         "visible": false
        },
        "xaxis43": {
         "anchor": "y43",
         "domain": [
          0,
          1
         ],
         "matches": "x100",
         "showticklabels": false,
         "visible": false
        },
        "xaxis44": {
         "anchor": "y44",
         "domain": [
          0,
          1
         ],
         "matches": "x100",
         "showticklabels": false,
         "visible": false
        },
        "xaxis45": {
         "anchor": "y45",
         "domain": [
          0,
          1
         ],
         "matches": "x100",
         "showticklabels": false,
         "visible": false
        },
        "xaxis46": {
         "anchor": "y46",
         "domain": [
          0,
          1
         ],
         "matches": "x100",
         "showticklabels": false,
         "visible": false
        },
        "xaxis47": {
         "anchor": "y47",
         "domain": [
          0,
          1
         ],
         "matches": "x100",
         "showticklabels": false,
         "visible": false
        },
        "xaxis48": {
         "anchor": "y48",
         "domain": [
          0,
          1
         ],
         "matches": "x100",
         "showticklabels": false,
         "visible": false
        },
        "xaxis49": {
         "anchor": "y49",
         "domain": [
          0,
          1
         ],
         "matches": "x100",
         "showticklabels": false,
         "visible": false
        },
        "xaxis5": {
         "anchor": "y5",
         "domain": [
          0,
          1
         ],
         "matches": "x100",
         "showticklabels": false,
         "visible": false
        },
        "xaxis50": {
         "anchor": "y50",
         "domain": [
          0,
          1
         ],
         "matches": "x100",
         "showticklabels": false,
         "visible": false
        },
        "xaxis51": {
         "anchor": "y51",
         "domain": [
          0,
          1
         ],
         "matches": "x100",
         "showticklabels": false,
         "visible": false
        },
        "xaxis52": {
         "anchor": "y52",
         "domain": [
          0,
          1
         ],
         "matches": "x100",
         "showticklabels": false,
         "visible": false
        },
        "xaxis53": {
         "anchor": "y53",
         "domain": [
          0,
          1
         ],
         "matches": "x100",
         "showticklabels": false,
         "visible": false
        },
        "xaxis54": {
         "anchor": "y54",
         "domain": [
          0,
          1
         ],
         "matches": "x100",
         "showticklabels": false,
         "visible": false
        },
        "xaxis55": {
         "anchor": "y55",
         "domain": [
          0,
          1
         ],
         "matches": "x100",
         "showticklabels": false,
         "visible": false
        },
        "xaxis56": {
         "anchor": "y56",
         "domain": [
          0,
          1
         ],
         "matches": "x100",
         "showticklabels": false,
         "visible": false
        },
        "xaxis57": {
         "anchor": "y57",
         "domain": [
          0,
          1
         ],
         "matches": "x100",
         "showticklabels": false,
         "visible": false
        },
        "xaxis58": {
         "anchor": "y58",
         "domain": [
          0,
          1
         ],
         "matches": "x100",
         "showticklabels": false,
         "visible": false
        },
        "xaxis59": {
         "anchor": "y59",
         "domain": [
          0,
          1
         ],
         "matches": "x100",
         "showticklabels": false,
         "visible": false
        },
        "xaxis6": {
         "anchor": "y6",
         "domain": [
          0,
          1
         ],
         "matches": "x100",
         "showticklabels": false,
         "visible": false
        },
        "xaxis60": {
         "anchor": "y60",
         "domain": [
          0,
          1
         ],
         "matches": "x100",
         "showticklabels": false,
         "visible": false
        },
        "xaxis61": {
         "anchor": "y61",
         "domain": [
          0,
          1
         ],
         "matches": "x100",
         "showticklabels": false,
         "visible": false
        },
        "xaxis62": {
         "anchor": "y62",
         "domain": [
          0,
          1
         ],
         "matches": "x100",
         "showticklabels": false,
         "visible": false
        },
        "xaxis63": {
         "anchor": "y63",
         "domain": [
          0,
          1
         ],
         "matches": "x100",
         "showticklabels": false,
         "visible": false
        },
        "xaxis64": {
         "anchor": "y64",
         "domain": [
          0,
          1
         ],
         "matches": "x100",
         "showticklabels": false,
         "visible": false
        },
        "xaxis65": {
         "anchor": "y65",
         "domain": [
          0,
          1
         ],
         "matches": "x100",
         "showticklabels": false,
         "visible": false
        },
        "xaxis66": {
         "anchor": "y66",
         "domain": [
          0,
          1
         ],
         "matches": "x100",
         "showticklabels": false,
         "visible": false
        },
        "xaxis67": {
         "anchor": "y67",
         "domain": [
          0,
          1
         ],
         "matches": "x100",
         "showticklabels": false,
         "visible": false
        },
        "xaxis68": {
         "anchor": "y68",
         "domain": [
          0,
          1
         ],
         "matches": "x100",
         "showticklabels": false,
         "visible": false
        },
        "xaxis69": {
         "anchor": "y69",
         "domain": [
          0,
          1
         ],
         "matches": "x100",
         "showticklabels": false,
         "visible": false
        },
        "xaxis7": {
         "anchor": "y7",
         "domain": [
          0,
          1
         ],
         "matches": "x100",
         "showticklabels": false,
         "visible": false
        },
        "xaxis70": {
         "anchor": "y70",
         "domain": [
          0,
          1
         ],
         "matches": "x100",
         "showticklabels": false,
         "visible": false
        },
        "xaxis71": {
         "anchor": "y71",
         "domain": [
          0,
          1
         ],
         "matches": "x100",
         "showticklabels": false,
         "visible": false
        },
        "xaxis72": {
         "anchor": "y72",
         "domain": [
          0,
          1
         ],
         "matches": "x100",
         "showticklabels": false,
         "visible": false
        },
        "xaxis73": {
         "anchor": "y73",
         "domain": [
          0,
          1
         ],
         "matches": "x100",
         "showticklabels": false,
         "visible": false
        },
        "xaxis74": {
         "anchor": "y74",
         "domain": [
          0,
          1
         ],
         "matches": "x100",
         "showticklabels": false,
         "visible": false
        },
        "xaxis75": {
         "anchor": "y75",
         "domain": [
          0,
          1
         ],
         "matches": "x100",
         "showticklabels": false,
         "visible": false
        },
        "xaxis76": {
         "anchor": "y76",
         "domain": [
          0,
          1
         ],
         "matches": "x100",
         "showticklabels": false,
         "visible": false
        },
        "xaxis77": {
         "anchor": "y77",
         "domain": [
          0,
          1
         ],
         "matches": "x100",
         "showticklabels": false,
         "visible": false
        },
        "xaxis78": {
         "anchor": "y78",
         "domain": [
          0,
          1
         ],
         "matches": "x100",
         "showticklabels": false,
         "visible": false
        },
        "xaxis79": {
         "anchor": "y79",
         "domain": [
          0,
          1
         ],
         "matches": "x100",
         "showticklabels": false,
         "visible": false
        },
        "xaxis8": {
         "anchor": "y8",
         "domain": [
          0,
          1
         ],
         "matches": "x100",
         "showticklabels": false,
         "visible": false
        },
        "xaxis80": {
         "anchor": "y80",
         "domain": [
          0,
          1
         ],
         "matches": "x100",
         "showticklabels": false,
         "visible": false
        },
        "xaxis81": {
         "anchor": "y81",
         "domain": [
          0,
          1
         ],
         "matches": "x100",
         "showticklabels": false,
         "visible": false
        },
        "xaxis82": {
         "anchor": "y82",
         "domain": [
          0,
          1
         ],
         "matches": "x100",
         "showticklabels": false,
         "visible": false
        },
        "xaxis83": {
         "anchor": "y83",
         "domain": [
          0,
          1
         ],
         "matches": "x100",
         "showticklabels": false,
         "visible": false
        },
        "xaxis84": {
         "anchor": "y84",
         "domain": [
          0,
          1
         ],
         "matches": "x100",
         "showticklabels": false,
         "visible": false
        },
        "xaxis85": {
         "anchor": "y85",
         "domain": [
          0,
          1
         ],
         "matches": "x100",
         "showticklabels": false,
         "visible": false
        },
        "xaxis86": {
         "anchor": "y86",
         "domain": [
          0,
          1
         ],
         "matches": "x100",
         "showticklabels": false,
         "visible": false
        },
        "xaxis87": {
         "anchor": "y87",
         "domain": [
          0,
          1
         ],
         "matches": "x100",
         "showticklabels": false,
         "visible": false
        },
        "xaxis88": {
         "anchor": "y88",
         "domain": [
          0,
          1
         ],
         "matches": "x100",
         "showticklabels": false,
         "visible": false
        },
        "xaxis89": {
         "anchor": "y89",
         "domain": [
          0,
          1
         ],
         "matches": "x100",
         "showticklabels": false,
         "visible": false
        },
        "xaxis9": {
         "anchor": "y9",
         "domain": [
          0,
          1
         ],
         "matches": "x100",
         "showticklabels": false,
         "visible": false
        },
        "xaxis90": {
         "anchor": "y90",
         "domain": [
          0,
          1
         ],
         "matches": "x100",
         "showticklabels": false,
         "visible": false
        },
        "xaxis91": {
         "anchor": "y91",
         "domain": [
          0,
          1
         ],
         "matches": "x100",
         "showticklabels": false,
         "visible": false
        },
        "xaxis92": {
         "anchor": "y92",
         "domain": [
          0,
          1
         ],
         "matches": "x100",
         "showticklabels": false,
         "visible": false
        },
        "xaxis93": {
         "anchor": "y93",
         "domain": [
          0,
          1
         ],
         "matches": "x100",
         "showticklabels": false,
         "visible": false
        },
        "xaxis94": {
         "anchor": "y94",
         "domain": [
          0,
          1
         ],
         "matches": "x100",
         "showticklabels": false,
         "visible": false
        },
        "xaxis95": {
         "anchor": "y95",
         "domain": [
          0,
          1
         ],
         "matches": "x100",
         "showticklabels": false,
         "visible": false
        },
        "xaxis96": {
         "anchor": "y96",
         "domain": [
          0,
          1
         ],
         "matches": "x100",
         "showticklabels": false,
         "visible": false
        },
        "xaxis97": {
         "anchor": "y97",
         "domain": [
          0,
          1
         ],
         "matches": "x100",
         "showticklabels": false,
         "visible": false
        },
        "xaxis98": {
         "anchor": "y98",
         "domain": [
          0,
          1
         ],
         "matches": "x100",
         "showticklabels": false,
         "visible": false
        },
        "xaxis99": {
         "anchor": "y99",
         "domain": [
          0,
          1
         ],
         "matches": "x100",
         "showticklabels": false,
         "visible": false
        },
        "yaxis": {
         "anchor": "x",
         "domain": [
          0.994455000000001,
          1
         ],
         "visible": false
        },
        "yaxis10": {
         "anchor": "x10",
         "domain": [
          0.9040500000000009,
          0.9095950000000009
         ],
         "visible": false
        },
        "yaxis100": {
         "anchor": "x100",
         "domain": [
          0,
          0.005545
         ],
         "visible": false
        },
        "yaxis11": {
         "anchor": "x11",
         "domain": [
          0.8940050000000008,
          0.8995500000000008
         ],
         "visible": false
        },
        "yaxis12": {
         "anchor": "x12",
         "domain": [
          0.8839600000000007,
          0.8895050000000008
         ],
         "visible": false
        },
        "yaxis13": {
         "anchor": "x13",
         "domain": [
          0.8739150000000009,
          0.8794600000000009
         ],
         "visible": false
        },
        "yaxis14": {
         "anchor": "x14",
         "domain": [
          0.8638700000000008,
          0.8694150000000008
         ],
         "visible": false
        },
        "yaxis15": {
         "anchor": "x15",
         "domain": [
          0.8538250000000007,
          0.8593700000000007
         ],
         "visible": false
        },
        "yaxis16": {
         "anchor": "x16",
         "domain": [
          0.8437800000000008,
          0.8493250000000008
         ],
         "visible": false
        },
        "yaxis17": {
         "anchor": "x17",
         "domain": [
          0.8337350000000008,
          0.8392800000000008
         ],
         "visible": false
        },
        "yaxis18": {
         "anchor": "x18",
         "domain": [
          0.8236900000000007,
          0.8292350000000007
         ],
         "visible": false
        },
        "yaxis19": {
         "anchor": "x19",
         "domain": [
          0.8136450000000006,
          0.8191900000000006
         ],
         "visible": false
        },
        "yaxis2": {
         "anchor": "x2",
         "domain": [
          0.984410000000001,
          0.989955000000001
         ],
         "visible": false
        },
        "yaxis20": {
         "anchor": "x20",
         "domain": [
          0.8036000000000006,
          0.8091450000000007
         ],
         "visible": false
        },
        "yaxis21": {
         "anchor": "x21",
         "domain": [
          0.7935550000000007,
          0.7991000000000007
         ],
         "visible": false
        },
        "yaxis22": {
         "anchor": "x22",
         "domain": [
          0.7835100000000006,
          0.7890550000000006
         ],
         "visible": false
        },
        "yaxis23": {
         "anchor": "x23",
         "domain": [
          0.7734650000000005,
          0.7790100000000005
         ],
         "visible": false
        },
        "yaxis24": {
         "anchor": "x24",
         "domain": [
          0.7634200000000005,
          0.7689650000000006
         ],
         "visible": false
        },
        "yaxis25": {
         "anchor": "x25",
         "domain": [
          0.7533750000000006,
          0.7589200000000006
         ],
         "visible": false
        },
        "yaxis26": {
         "anchor": "x26",
         "domain": [
          0.7433300000000005,
          0.7488750000000005
         ],
         "visible": false
        },
        "yaxis27": {
         "anchor": "x27",
         "domain": [
          0.7332850000000004,
          0.7388300000000004
         ],
         "visible": false
        },
        "yaxis28": {
         "anchor": "x28",
         "domain": [
          0.7232400000000005,
          0.7287850000000006
         ],
         "visible": false
        },
        "yaxis29": {
         "anchor": "x29",
         "domain": [
          0.7131950000000005,
          0.7187400000000005
         ],
         "visible": false
        },
        "yaxis3": {
         "anchor": "x3",
         "domain": [
          0.974365000000001,
          0.9799100000000011
         ],
         "visible": false
        },
        "yaxis30": {
         "anchor": "x30",
         "domain": [
          0.7031500000000004,
          0.7086950000000004
         ],
         "visible": false
        },
        "yaxis31": {
         "anchor": "x31",
         "domain": [
          0.6931050000000004,
          0.6986500000000004
         ],
         "visible": false
        },
        "yaxis32": {
         "anchor": "x32",
         "domain": [
          0.6830600000000004,
          0.6886050000000005
         ],
         "visible": false
        },
        "yaxis33": {
         "anchor": "x33",
         "domain": [
          0.6730150000000004,
          0.6785600000000004
         ],
         "visible": false
        },
        "yaxis34": {
         "anchor": "x34",
         "domain": [
          0.6629700000000003,
          0.6685150000000003
         ],
         "visible": false
        },
        "yaxis35": {
         "anchor": "x35",
         "domain": [
          0.6529250000000003,
          0.6584700000000003
         ],
         "visible": false
        },
        "yaxis36": {
         "anchor": "x36",
         "domain": [
          0.6428800000000003,
          0.6484250000000004
         ],
         "visible": false
        },
        "yaxis37": {
         "anchor": "x37",
         "domain": [
          0.6328350000000003,
          0.6383800000000003
         ],
         "visible": false
        },
        "yaxis38": {
         "anchor": "x38",
         "domain": [
          0.6227900000000002,
          0.6283350000000002
         ],
         "visible": false
        },
        "yaxis39": {
         "anchor": "x39",
         "domain": [
          0.6127450000000002,
          0.6182900000000002
         ],
         "visible": false
        },
        "yaxis4": {
         "anchor": "x4",
         "domain": [
          0.964320000000001,
          0.969865000000001
         ],
         "visible": false
        },
        "yaxis40": {
         "anchor": "x40",
         "domain": [
          0.6027000000000002,
          0.6082450000000003
         ],
         "visible": false
        },
        "yaxis41": {
         "anchor": "x41",
         "domain": [
          0.5926550000000002,
          0.5982000000000002
         ],
         "visible": false
        },
        "yaxis42": {
         "anchor": "x42",
         "domain": [
          0.5826100000000001,
          0.5881550000000001
         ],
         "visible": false
        },
        "yaxis43": {
         "anchor": "x43",
         "domain": [
          0.5725650000000001,
          0.5781100000000001
         ],
         "visible": false
        },
        "yaxis44": {
         "anchor": "x44",
         "domain": [
          0.5625200000000001,
          0.5680650000000002
         ],
         "visible": false
        },
        "yaxis45": {
         "anchor": "x45",
         "domain": [
          0.552475,
          0.5580200000000001
         ],
         "visible": false
        },
        "yaxis46": {
         "anchor": "x46",
         "domain": [
          0.5424300000000001,
          0.5479750000000001
         ],
         "visible": false
        },
        "yaxis47": {
         "anchor": "x47",
         "domain": [
          0.532385,
          0.53793
         ],
         "visible": false
        },
        "yaxis48": {
         "anchor": "x48",
         "domain": [
          0.52234,
          0.527885
         ],
         "visible": false
        },
        "yaxis49": {
         "anchor": "x49",
         "domain": [
          0.512295,
          0.51784
         ],
         "visible": false
        },
        "yaxis5": {
         "anchor": "x5",
         "domain": [
          0.9542750000000009,
          0.9598200000000009
         ],
         "visible": false
        },
        "yaxis50": {
         "anchor": "x50",
         "domain": [
          0.50225,
          0.507795
         ],
         "visible": false
        },
        "yaxis51": {
         "anchor": "x51",
         "domain": [
          0.49220499999999995,
          0.49774999999999997
         ],
         "visible": false
        },
        "yaxis52": {
         "anchor": "x52",
         "domain": [
          0.4821599999999999,
          0.48770499999999994
         ],
         "visible": false
        },
        "yaxis53": {
         "anchor": "x53",
         "domain": [
          0.4721149999999999,
          0.4776599999999999
         ],
         "visible": false
        },
        "yaxis54": {
         "anchor": "x54",
         "domain": [
          0.46206999999999987,
          0.4676149999999999
         ],
         "visible": false
        },
        "yaxis55": {
         "anchor": "x55",
         "domain": [
          0.45202499999999984,
          0.45756999999999987
         ],
         "visible": false
        },
        "yaxis56": {
         "anchor": "x56",
         "domain": [
          0.4419799999999998,
          0.44752499999999984
         ],
         "visible": false
        },
        "yaxis57": {
         "anchor": "x57",
         "domain": [
          0.43193499999999985,
          0.43747999999999987
         ],
         "visible": false
        },
        "yaxis58": {
         "anchor": "x58",
         "domain": [
          0.4218899999999999,
          0.4274349999999999
         ],
         "visible": false
        },
        "yaxis59": {
         "anchor": "x59",
         "domain": [
          0.4118449999999999,
          0.4173899999999999
         ],
         "visible": false
        },
        "yaxis6": {
         "anchor": "x6",
         "domain": [
          0.9442300000000009,
          0.9497750000000009
         ],
         "visible": false
        },
        "yaxis60": {
         "anchor": "x60",
         "domain": [
          0.4017999999999999,
          0.4073449999999999
         ],
         "visible": false
        },
        "yaxis61": {
         "anchor": "x61",
         "domain": [
          0.39175499999999985,
          0.3972999999999999
         ],
         "visible": false
        },
        "yaxis62": {
         "anchor": "x62",
         "domain": [
          0.3817099999999999,
          0.3872549999999999
         ],
         "visible": false
        },
        "yaxis63": {
         "anchor": "x63",
         "domain": [
          0.3716649999999999,
          0.37720999999999993
         ],
         "visible": false
        },
        "yaxis64": {
         "anchor": "x64",
         "domain": [
          0.36161999999999994,
          0.36716499999999996
         ],
         "visible": false
        },
        "yaxis65": {
         "anchor": "x65",
         "domain": [
          0.3515749999999999,
          0.35711999999999994
         ],
         "visible": false
        },
        "yaxis66": {
         "anchor": "x66",
         "domain": [
          0.3415299999999999,
          0.3470749999999999
         ],
         "visible": false
        },
        "yaxis67": {
         "anchor": "x67",
         "domain": [
          0.3314849999999999,
          0.33702999999999994
         ],
         "visible": false
        },
        "yaxis68": {
         "anchor": "x68",
         "domain": [
          0.32143999999999995,
          0.32698499999999997
         ],
         "visible": false
        },
        "yaxis69": {
         "anchor": "x69",
         "domain": [
          0.3113949999999999,
          0.31693999999999994
         ],
         "visible": false
        },
        "yaxis7": {
         "anchor": "x7",
         "domain": [
          0.9341850000000009,
          0.939730000000001
         ],
         "visible": false
        },
        "yaxis70": {
         "anchor": "x70",
         "domain": [
          0.3013499999999999,
          0.3068949999999999
         ],
         "visible": false
        },
        "yaxis71": {
         "anchor": "x71",
         "domain": [
          0.2913049999999999,
          0.29684999999999995
         ],
         "visible": false
        },
        "yaxis72": {
         "anchor": "x72",
         "domain": [
          0.28125999999999995,
          0.286805
         ],
         "visible": false
        },
        "yaxis73": {
         "anchor": "x73",
         "domain": [
          0.27121499999999993,
          0.27675999999999995
         ],
         "visible": false
        },
        "yaxis74": {
         "anchor": "x74",
         "domain": [
          0.26116999999999996,
          0.266715
         ],
         "visible": false
        },
        "yaxis75": {
         "anchor": "x75",
         "domain": [
          0.25112499999999993,
          0.25666999999999995
         ],
         "visible": false
        },
        "yaxis76": {
         "anchor": "x76",
         "domain": [
          0.24107999999999996,
          0.24662499999999996
         ],
         "visible": false
        },
        "yaxis77": {
         "anchor": "x77",
         "domain": [
          0.23103499999999996,
          0.23657999999999996
         ],
         "visible": false
        },
        "yaxis78": {
         "anchor": "x78",
         "domain": [
          0.22098999999999996,
          0.22653499999999996
         ],
         "visible": false
        },
        "yaxis79": {
         "anchor": "x79",
         "domain": [
          0.21094499999999997,
          0.21648999999999996
         ],
         "visible": false
        },
        "yaxis8": {
         "anchor": "x8",
         "domain": [
          0.9241400000000008,
          0.9296850000000009
         ],
         "visible": false
        },
        "yaxis80": {
         "anchor": "x80",
         "domain": [
          0.20089999999999997,
          0.20644499999999996
         ],
         "visible": false
        },
        "yaxis81": {
         "anchor": "x81",
         "domain": [
          0.19085499999999997,
          0.19639999999999996
         ],
         "visible": false
        },
        "yaxis82": {
         "anchor": "x82",
         "domain": [
          0.18080999999999997,
          0.18635499999999997
         ],
         "visible": false
        },
        "yaxis83": {
         "anchor": "x83",
         "domain": [
          0.170765,
          0.17631
         ],
         "visible": false
        },
        "yaxis84": {
         "anchor": "x84",
         "domain": [
          0.16071999999999997,
          0.16626499999999997
         ],
         "visible": false
        },
        "yaxis85": {
         "anchor": "x85",
         "domain": [
          0.150675,
          0.15622
         ],
         "visible": false
        },
        "yaxis86": {
         "anchor": "x86",
         "domain": [
          0.14062999999999998,
          0.14617499999999997
         ],
         "visible": false
        },
        "yaxis87": {
         "anchor": "x87",
         "domain": [
          0.130585,
          0.13613
         ],
         "visible": false
        },
        "yaxis88": {
         "anchor": "x88",
         "domain": [
          0.12054000000000001,
          0.126085
         ],
         "visible": false
        },
        "yaxis89": {
         "anchor": "x89",
         "domain": [
          0.11049500000000001,
          0.11604
         ],
         "visible": false
        },
        "yaxis9": {
         "anchor": "x9",
         "domain": [
          0.9140950000000008,
          0.9196400000000008
         ],
         "visible": false
        },
        "yaxis90": {
         "anchor": "x90",
         "domain": [
          0.10045000000000001,
          0.105995
         ],
         "visible": false
        },
        "yaxis91": {
         "anchor": "x91",
         "domain": [
          0.09040500000000001,
          0.09595000000000001
         ],
         "visible": false
        },
        "yaxis92": {
         "anchor": "x92",
         "domain": [
          0.08036000000000001,
          0.08590500000000001
         ],
         "visible": false
        },
        "yaxis93": {
         "anchor": "x93",
         "domain": [
          0.070315,
          0.07586
         ],
         "visible": false
        },
        "yaxis94": {
         "anchor": "x94",
         "domain": [
          0.060270000000000004,
          0.065815
         ],
         "visible": false
        },
        "yaxis95": {
         "anchor": "x95",
         "domain": [
          0.050225000000000006,
          0.05577000000000001
         ],
         "visible": false
        },
        "yaxis96": {
         "anchor": "x96",
         "domain": [
          0.04018,
          0.045725
         ],
         "visible": false
        },
        "yaxis97": {
         "anchor": "x97",
         "domain": [
          0.030135,
          0.035679999999999996
         ],
         "visible": false
        },
        "yaxis98": {
         "anchor": "x98",
         "domain": [
          0.02009,
          0.025634999999999998
         ],
         "visible": false
        },
        "yaxis99": {
         "anchor": "x99",
         "domain": [
          0.010045,
          0.01559
         ],
         "visible": false
        }
       }
      }
     },
     "metadata": {},
     "output_type": "display_data"
    }
   ],
   "source": [
    "from plotly.subplots import make_subplots\n",
    "\n",
    "\n",
    "subplots = make_subplots(\n",
    "    rows=len(categories),\n",
    "    cols=1,\n",
    "    subplot_titles=[x[\"name\"] for x in categories],\n",
    "    shared_xaxes=True,\n",
    "    print_grid=False,\n",
    "    vertical_spacing=(0.45 / len(categories)),\n",
    ")\n",
    "_ = subplots['layout'].update(\n",
    "    width=550,\n",
    "    plot_bgcolor='#fff',\n",
    ")\n",
    "#2030a0\n",
    "for k, x in enumerate(categories):\n",
    "    subplots.add_trace(dict(\n",
    "        type='bar',\n",
    "        orientation='h',\n",
    "        y=[x[\"name\"]],\n",
    "        x=[x[\"value1\"]],\n",
    "        text=[\"{:,.0f}\".format(x[\"value1\"])],\n",
    "        hoverinfo='text',\n",
    "        textposition='auto',\n",
    "        marker=dict(\n",
    "            color=\"#2030a0\",\n",
    "        ),\n",
    "    ), k+1, 1)\n",
    "    subplots.add_trace(dict(\n",
    "        type='bar',\n",
    "        orientation='h',\n",
    "        y=[x[\"name\"]],\n",
    "        x=[x[\"value\"]],\n",
    "        text=[\"{:,.0f}\".format(x[\"value\"])],\n",
    "        hoverinfo='text',\n",
    "        textposition='auto',\n",
    "        marker=dict(\n",
    "            color=\"#7030a0\",\n",
    "        ),\n",
    "    ), k+1, 1)\n",
    "subplots['layout'].update(\n",
    "    showlegend=False,\n",
    ")\n",
    "for x in subplots[\"layout\"]['annotations']:\n",
    "    x['x'] = 0\n",
    "    x['xanchor'] = 'left'\n",
    "    x['align'] = 'left'\n",
    "    x['font'] = dict(\n",
    "        size=12,\n",
    "    )\n",
    "for axis in subplots['layout']:\n",
    "    if axis.startswith('yaxis') or axis.startswith('xaxis'):\n",
    "        subplots['layout'][axis]['visible'] = False\n",
    "\n",
    "subplots['layout']['margin'] = {\n",
    "    'l': 0,\n",
    "    'r': 20,\n",
    "    't': 20,\n",
    "    'b': 1,\n",
    "}\n",
    "height_calc = 45 * len(categories)\n",
    "height_calc = max([height_calc, 350])\n",
    "subplots['layout']['height'] = height_calc\n",
    "subplots['layout']['width'] = height_calc\n",
    "subplots"
   ]
  },
  {
   "cell_type": "code",
   "execution_count": 81,
   "metadata": {},
   "outputs": [
    {
     "ename": "SyntaxError",
     "evalue": "invalid syntax (903144906.py, line 6)",
     "output_type": "error",
     "traceback": [
      "\u001b[1;36m  Input \u001b[1;32mIn [81]\u001b[1;36m\u001b[0m\n\u001b[1;33m    x = [ for i  in range(5)]\u001b[0m\n\u001b[1;37m          ^\u001b[0m\n\u001b[1;31mSyntaxError\u001b[0m\u001b[1;31m:\u001b[0m invalid syntax\n"
     ]
    }
   ],
   "source": [
    "import matplotlib\n",
    "from matplotlib import pyplot as plt\n",
    "import pandas as pd\n",
    "import numpy as np\n",
    "\n",
    "x = [ for i  in range(5)]\n",
    "\n",
    "y = [4,3,3,3,2,3,3,3,3]\n",
    "\n",
    "Disease = ['Acute Treatment of Migraine','Preventive Treatment of Migraine','Acute and Preventive Migraine','Lung Inflammation COVID-19',\"Alzheimer's Disease\", \"OCD\", \"Spinocerebellar Ataxia\", \"Multiple System Atrophy\", \"Amyotrophic Lateral Sclerosis\"]\n",
    "Disease.reverse()\n",
    "fig, ax = plt.subplots()\n",
    "width = 0.75 # the width of the bars\n",
    "ind = np.arange(len(y))  # the x locations for the groups\n",
    "bar_plot = ax.barh(ind, y, width, color=\"green\", align='edge')\n",
    "ax.set_yticks(ind+width/2)\n",
    "ax.set_yticklabels(x, minor=False)\n",
    "plt.xticks(np.arange(5),('Pre-clinical','Phase I','Phase II','Phase III', 'Approved'))\n",
    "\n",
    "def autolabel(bar_plot):\n",
    "    for idx,rect in enumerate(bar_plot):\n",
    "        ax.text(0.25, idx+.25, Disease[idx], color = 'white')\n",
    "autolabel(bar_plot)\n",
    "\n",
    "plt.margins(0,0.05)\n",
    "plt.title('BHVN')\n",
    "plt.ylabel('Drug')\n",
    "\n",
    "plt.show()"
   ]
  },
  {
   "cell_type": "code",
   "execution_count": 77,
   "metadata": {},
   "outputs": [
    {
     "data": {
      "image/png": "[encoded data removed]",
      "text/plain": [
       "<Figure size 432x288 with 1 Axes>"
      ]
     },
     "metadata": {
      "needs_background": "light"
     },
     "output_type": "display_data"
    }
   ],
   "source": [
    "import matplotlib\n",
    "from matplotlib import pyplot as plt\n",
    "import pandas as pd\n",
    "import numpy as np\n",
    "\n",
    "x =[u'Rimegepant',u'Rimegepant',u'Zavegepant',u'Zavegepant',u'Troriluzole',u'Troriluzole',u'Troriluzole',u'Verdiperstat',u'Verdiperstat']\n",
    "\n",
    "y = [41,32,3,33,2,3,33,3,3]\n",
    "\n",
    "Disease = ['Acute Treatment of Migraine','Preventive Treatment of Migraine','Acute and Preventive Migraine','Lung Inflammation COVID-19',\"Alzheimer's Disease\", \"OCD\", \"Spinocerebellar Ataxia\", \"Multiple System Atrophy\", \"Amyotrophic Lateral Sclerosis\"]\n",
    "\n",
    "fig, ax = plt.subplots()\n",
    "width = 0.75 # the width of the bars\n",
    "ind = np.arange(len(y))  # the x locations for the groups\n",
    "\n",
    "# I changed this line\n",
    "p1 = ax.barh(ind,y, width, color=\"green\", align='edge')\n",
    "ax.set_yticks(ind+width/2)\n",
    "ax.set_yticklabels(x, minor=False)\n",
    "\n",
    "# I added this line\n",
    "ax.bar_label(p1, Disease, label_type='center')\n",
    "plt.xticks(np.arange(5),('Pre-clinical','Phase I','Phase II','Phase III', 'Approved'))\n",
    "plt.margins(0,0.05)\n",
    "plt.title('BHVN')\n",
    "plt.ylabel('Drug')\n",
    "\n",
    "plt.show()"
   ]
  },
  {
   "cell_type": "code",
   "execution_count": 32,
   "metadata": {},
   "outputs": [
    {
     "name": "stderr",
     "output_type": "stream",
     "text": [
      "C:\\Users\\M Ksar\\AppData\\Local\\Temp\\ipykernel_3196\\3995411542.py:14: SettingWithCopyWarning: \n",
      "A value is trying to be set on a copy of a slice from a DataFrame\n",
      "\n",
      "See the caveats in the documentation: https://pandas.pydata.org/pandas-docs/stable/user_guide/indexing.html#returning-a-view-versus-a-copy\n",
      "  df['lat'][i] = df1['lat'][j]\n",
      "C:\\Users\\M Ksar\\AppData\\Local\\Temp\\ipykernel_3196\\3995411542.py:15: SettingWithCopyWarning: \n",
      "A value is trying to be set on a copy of a slice from a DataFrame\n",
      "\n",
      "See the caveats in the documentation: https://pandas.pydata.org/pandas-docs/stable/user_guide/indexing.html#returning-a-view-versus-a-copy\n",
      "  df['lng'][i] = df1['lon'][j]\n"
     ]
    },
    {
     "data": {
      "text/html": [
       "<div>\n",
       "<style scoped>\n",
       "    .dataframe tbody tr th:only-of-type {\n",
       "        vertical-align: middle;\n",
       "    }\n",
       "\n",
       "    .dataframe tbody tr th {\n",
       "        vertical-align: top;\n",
       "    }\n",
       "\n",
       "    .dataframe thead th {\n",
       "        text-align: right;\n",
       "    }\n",
       "</style>\n",
       "<table border=\"1\" class=\"dataframe\">\n",
       "  <thead>\n",
       "    <tr style=\"text-align: right;\">\n",
       "      <th></th>\n",
       "      <th>country</th>\n",
       "      <th>impressions</th>\n",
       "      <th>clicks</th>\n",
       "      <th>lat</th>\n",
       "      <th>lng</th>\n",
       "    </tr>\n",
       "  </thead>\n",
       "  <tbody>\n",
       "    <tr>\n",
       "      <th>0</th>\n",
       "      <td>mar</td>\n",
       "      <td>72545.0</td>\n",
       "      <td>1128.0</td>\n",
       "      <td>32.0000</td>\n",
       "      <td>-5.0000</td>\n",
       "    </tr>\n",
       "    <tr>\n",
       "      <th>1</th>\n",
       "      <td>fra</td>\n",
       "      <td>81153.0</td>\n",
       "      <td>327.0</td>\n",
       "      <td>46.0000</td>\n",
       "      <td>2.0000</td>\n",
       "    </tr>\n",
       "    <tr>\n",
       "      <th>2</th>\n",
       "      <td>tun</td>\n",
       "      <td>2718.0</td>\n",
       "      <td>35.0</td>\n",
       "      <td>34.0000</td>\n",
       "      <td>9.0000</td>\n",
       "    </tr>\n",
       "    <tr>\n",
       "      <th>3</th>\n",
       "      <td>dza</td>\n",
       "      <td>2313.0</td>\n",
       "      <td>22.0</td>\n",
       "      <td>28.0000</td>\n",
       "      <td>3.0000</td>\n",
       "    </tr>\n",
       "    <tr>\n",
       "      <th>4</th>\n",
       "      <td>sen</td>\n",
       "      <td>1029.0</td>\n",
       "      <td>20.0</td>\n",
       "      <td>14.0000</td>\n",
       "      <td>-14.0000</td>\n",
       "    </tr>\n",
       "    <tr>\n",
       "      <th>...</th>\n",
       "      <td>...</td>\n",
       "      <td>...</td>\n",
       "      <td>...</td>\n",
       "      <td>...</td>\n",
       "      <td>...</td>\n",
       "    </tr>\n",
       "    <tr>\n",
       "      <th>217</th>\n",
       "      <td>kgz</td>\n",
       "      <td>77.0</td>\n",
       "      <td>0.0</td>\n",
       "      <td>41.0000</td>\n",
       "      <td>75.0000</td>\n",
       "    </tr>\n",
       "    <tr>\n",
       "      <th>218</th>\n",
       "      <td>khm</td>\n",
       "      <td>442.0</td>\n",
       "      <td>0.0</td>\n",
       "      <td>13.0000</td>\n",
       "      <td>105.0000</td>\n",
       "    </tr>\n",
       "    <tr>\n",
       "      <th>219</th>\n",
       "      <td>kir</td>\n",
       "      <td>1.0</td>\n",
       "      <td>0.0</td>\n",
       "      <td>1.4167</td>\n",
       "      <td>173.0000</td>\n",
       "    </tr>\n",
       "    <tr>\n",
       "      <th>220</th>\n",
       "      <td>kna</td>\n",
       "      <td>11.0</td>\n",
       "      <td>0.0</td>\n",
       "      <td>17.3333</td>\n",
       "      <td>-62.7500</td>\n",
       "    </tr>\n",
       "    <tr>\n",
       "      <th>221</th>\n",
       "      <td>abw</td>\n",
       "      <td>5.0</td>\n",
       "      <td>0.0</td>\n",
       "      <td>12.5000</td>\n",
       "      <td>-69.9667</td>\n",
       "    </tr>\n",
       "  </tbody>\n",
       "</table>\n",
       "<p>222 rows × 5 columns</p>\n",
       "</div>"
      ],
      "text/plain": [
       "    country  impressions  clicks      lat       lng\n",
       "0       mar      72545.0  1128.0  32.0000   -5.0000\n",
       "1       fra      81153.0   327.0  46.0000    2.0000\n",
       "2       tun       2718.0    35.0  34.0000    9.0000\n",
       "3       dza       2313.0    22.0  28.0000    3.0000\n",
       "4       sen       1029.0    20.0  14.0000  -14.0000\n",
       "..      ...          ...     ...      ...       ...\n",
       "217     kgz         77.0     0.0  41.0000   75.0000\n",
       "218     khm        442.0     0.0  13.0000  105.0000\n",
       "219     kir          1.0     0.0   1.4167  173.0000\n",
       "220     kna         11.0     0.0  17.3333  -62.7500\n",
       "221     abw          5.0     0.0  12.5000  -69.9667\n",
       "\n",
       "[222 rows x 5 columns]"
      ]
     },
     "execution_count": 32,
     "metadata": {},
     "output_type": "execute_result"
    }
   ],
   "source": [
    "import pandas as pd\n",
    "df = pd.read_csv('KEYWORD_PAGE_REPORT.csv')\n",
    "df = df.groupby(by='country', as_index=False).agg({'impressions': 'sum' , 'clicks':'sum' })\n",
    "df = df.sort_values(by = 'clicks' , ascending=False  )\n",
    "df = df.reset_index(drop=True)\n",
    "df['lat'] = 0\n",
    "df['lng'] = 0\n",
    "df1 = pd.read_csv('countries.csv')\n",
    "\n",
    "for j in range(len(df1)):\n",
    "    for i in range(len(df)):\n",
    "       if (df['country'][i].lower() == df1['iso3'][j].lower() and df['lat'][i]==0 and df['lng'][i]==0 ):\n",
    "            df['lat'][i] = df1['lat'][j]\n",
    "            df['lng'][i] = df1['lon'][j]\n",
    "df"
   ]
  },
  {
   "cell_type": "code",
   "execution_count": 39,
   "metadata": {},
   "outputs": [
    {
     "data": {
      "text/html": [
       "<div>\n",
       "<style scoped>\n",
       "    .dataframe tbody tr th:only-of-type {\n",
       "        vertical-align: middle;\n",
       "    }\n",
       "\n",
       "    .dataframe tbody tr th {\n",
       "        vertical-align: top;\n",
       "    }\n",
       "\n",
       "    .dataframe thead th {\n",
       "        text-align: right;\n",
       "    }\n",
       "</style>\n",
       "<table border=\"1\" class=\"dataframe\">\n",
       "  <thead>\n",
       "    <tr style=\"text-align: right;\">\n",
       "      <th></th>\n",
       "      <th>Country</th>\n",
       "      <th>Alpha-2 code</th>\n",
       "      <th>iso3</th>\n",
       "      <th>Numeric code</th>\n",
       "      <th>lat</th>\n",
       "      <th>lon</th>\n",
       "    </tr>\n",
       "  </thead>\n",
       "  <tbody>\n",
       "    <tr>\n",
       "      <th>0</th>\n",
       "      <td>Afghanistan</td>\n",
       "      <td>AF</td>\n",
       "      <td>AFG</td>\n",
       "      <td>\"4\"</td>\n",
       "      <td>33</td>\n",
       "      <td>65</td>\n",
       "    </tr>\n",
       "    <tr>\n",
       "      <th>1</th>\n",
       "      <td>Albania</td>\n",
       "      <td>AL</td>\n",
       "      <td>ALB</td>\n",
       "      <td>\"8\"</td>\n",
       "      <td>41</td>\n",
       "      <td>20</td>\n",
       "    </tr>\n",
       "    <tr>\n",
       "      <th>2</th>\n",
       "      <td>Algeria</td>\n",
       "      <td>DZ</td>\n",
       "      <td>DZA</td>\n",
       "      <td>\"12\"</td>\n",
       "      <td>28</td>\n",
       "      <td>3</td>\n",
       "    </tr>\n",
       "    <tr>\n",
       "      <th>3</th>\n",
       "      <td>American Samoa</td>\n",
       "      <td>AS</td>\n",
       "      <td>ASM</td>\n",
       "      <td>\"16\"</td>\n",
       "      <td>-14.3333</td>\n",
       "      <td>-170</td>\n",
       "    </tr>\n",
       "    <tr>\n",
       "      <th>4</th>\n",
       "      <td>Andorra</td>\n",
       "      <td>AD</td>\n",
       "      <td>AND</td>\n",
       "      <td>\"20\"</td>\n",
       "      <td>42.5</td>\n",
       "      <td>1.6</td>\n",
       "    </tr>\n",
       "    <tr>\n",
       "      <th>...</th>\n",
       "      <td>...</td>\n",
       "      <td>...</td>\n",
       "      <td>...</td>\n",
       "      <td>...</td>\n",
       "      <td>...</td>\n",
       "      <td>...</td>\n",
       "    </tr>\n",
       "    <tr>\n",
       "      <th>250</th>\n",
       "      <td>Virgin Islands, U.S.</td>\n",
       "      <td>VI</td>\n",
       "      <td>VIR</td>\n",
       "      <td>\"850\"</td>\n",
       "      <td>18.3333</td>\n",
       "      <td>-64.8333</td>\n",
       "    </tr>\n",
       "    <tr>\n",
       "      <th>251</th>\n",
       "      <td>Wallis and Futuna</td>\n",
       "      <td>WF</td>\n",
       "      <td>WLF</td>\n",
       "      <td>\"876\"</td>\n",
       "      <td>-13.3</td>\n",
       "      <td>-176.2</td>\n",
       "    </tr>\n",
       "    <tr>\n",
       "      <th>253</th>\n",
       "      <td>Yemen</td>\n",
       "      <td>YE</td>\n",
       "      <td>YEM</td>\n",
       "      <td>\"887\"</td>\n",
       "      <td>15</td>\n",
       "      <td>48</td>\n",
       "    </tr>\n",
       "    <tr>\n",
       "      <th>254</th>\n",
       "      <td>Zambia</td>\n",
       "      <td>ZM</td>\n",
       "      <td>ZMB</td>\n",
       "      <td>\"894\"</td>\n",
       "      <td>-15</td>\n",
       "      <td>30</td>\n",
       "    </tr>\n",
       "    <tr>\n",
       "      <th>255</th>\n",
       "      <td>Zimbabwe</td>\n",
       "      <td>ZW</td>\n",
       "      <td>ZWE</td>\n",
       "      <td>\"716\"</td>\n",
       "      <td>-20</td>\n",
       "      <td>30</td>\n",
       "    </tr>\n",
       "  </tbody>\n",
       "</table>\n",
       "<p>254 rows × 6 columns</p>\n",
       "</div>"
      ],
      "text/plain": [
       "                  Country Alpha-2 code iso3 Numeric code       lat       lon\n",
       "0             Afghanistan           AF  AFG          \"4\"        33        65\n",
       "1                 Albania           AL  ALB          \"8\"        41        20\n",
       "2                 Algeria           DZ  DZA         \"12\"        28         3\n",
       "3          American Samoa           AS  ASM         \"16\"  -14.3333      -170\n",
       "4                 Andorra           AD  AND         \"20\"      42.5       1.6\n",
       "..                    ...          ...  ...          ...       ...       ...\n",
       "250  Virgin Islands, U.S.           VI  VIR        \"850\"   18.3333  -64.8333\n",
       "251     Wallis and Futuna           WF  WLF        \"876\"     -13.3    -176.2\n",
       "253                 Yemen           YE  YEM        \"887\"        15        48\n",
       "254                Zambia           ZM  ZMB        \"894\"       -15        30\n",
       "255              Zimbabwe           ZW  ZWE        \"716\"       -20        30\n",
       "\n",
       "[254 rows x 6 columns]"
      ]
     },
     "execution_count": 39,
     "metadata": {},
     "output_type": "execute_result"
    }
   ],
   "source": [
    "import pandas as pd\n",
    "df = pd.read_csv('KEYWORD_PAGE_REPORT.csv')\n",
    "df = df.groupby(by='country', as_index=False).agg({'impressions': 'sum' , 'clicks':'sum' })\n",
    "df = df.sort_values(by = 'clicks' , ascending=False  )\n",
    "df = df.reset_index(drop=True)\n",
    "df['lat'] = 0\n",
    "df['lng'] = 0\n",
    "df1 = pd.read_csv('worldcountries.csv')\n",
    "'''\n",
    "for j in range(len(df1)):\n",
    "    for i in range(len(df)):\n",
    "       print('i : {0}  , j : {1}',i , j)\n",
    "\n",
    "       if (df['country'][i] == df1['iso3'][j] and df['lat'][i]==0 and df['lng'][i]==0 ):\n",
    "            df['lat'][i] = df1['lat'][j]\n",
    "            df['lng'][i] = df1['lng'][j]\n",
    "'''\n",
    "def remove_quotes(string):\n",
    "    return string.replace('\"', \"\")\n",
    "def remove_spaces(string): \n",
    "    return string.replace(' ', \"\")\n",
    "def remove_(string): \n",
    "    string = string.replace('\"', \"\")\n",
    "    string = string.replace(' ', \"\")\n",
    "    return string\n",
    "def remove_1 (df):\n",
    "    for i in range(len(df)):\n",
    "        df['Longitude (average)'][i] = remove_(df['Longitude (average)'][i])\n",
    "        df['Alpha-3 code'][i] = remove_(df['Alpha-3 code'][i])\n",
    "        df['Alpha-2 code'][i] = remove_(df['Alpha-2 code'][i])\n",
    "        df['Latitude (average)'][i] = remove_(df['Latitude (average)'][i])\n",
    "    return df\n",
    "        \n",
    "df1 = remove_1(df1)\n",
    "df1 = df1.rename(columns={\"Alpha-3 code\":\"iso3\",\"Latitude (average)\":\"lat\",\"Longitude (average)\":\"lon\"})\n",
    "df1 = df1[df1.iso3 != 'ESH']\n",
    "df1 = df1[df1.iso3 != 'ISR']\n",
    "df1.to_csv('countries.csv')\n",
    "df1"
   ]
  },
  {
   "cell_type": "code",
   "execution_count": 66,
   "metadata": {},
   "outputs": [
    {
     "data": {
      "text/plain": [
       "'kertys,kertys maroc,ignimission,m-files,\"m-files\",rpa maroc,piql,ali lahrichi,talentsoft,m files,ged maroc,hubshare m-files,plateforme dataops,mfiles,maroc document,ged,dataops streamsets,sirh maroc,automation anywhere,ged image,automation anywhere rpa,pipelines de données,talentsoft logo png,cegid maroc,transformation digitale maroc,avantages de la rpa,automation maroc,rpa assurance,bureau d\\'ordre,gestion de documents,streamsets,rpa automation anywhere,matu assurance,streamset,kerty,rpa finance,edm maroc,des courriers,gestion courriers,dematerialisation document,ged maroz,bpm maroc,rh maroc,archivage maroc,gestion du courrier entrant et sortant,société d\\'archivage au maroc,ressources humaines maroc,bpm informatique,ged fournisseurs maroc,rpa webinar,gestion courrier entrant,bpm no code,bpm solution,rpa anywhere automation,gestion des processus,intégration de données,gestion du courrier entrant,workflow collecte données excel,intégration des données,rpa automation,gartner ged,logo automatisation,workplace,rpa,pipeline de données,dataops pipeline,lms talentsoft,courriers,rpa en finance,piql as,gestion documentaire,gestion de courriers,gestion document,m-files integration,m-files hubshare,solution ged,e flow,gestion des processus métiers,m files document management,automation anywhere logo,icone digitalisation,qu est ce que le dataops,dématérialisation processus,dématérialisation png,processus métiers,talentsoft acquisition,gestion des documents,dématérialisation ged,dématérialisation documentaire,talentsoft cegid,dématérialisation des processus métiers,talentsoft logo,dématérialisation courrier entrant,automation,apache streamsets,solution rpa,gestion electronique,digital workplace,application workflow checklist maroc'"
      ]
     },
     "execution_count": 66,
     "metadata": {},
     "output_type": "execute_result"
    }
   ],
   "source": [
    "import pandas as pd\n",
    "df = pd.read_csv('KEYWORD_PAGE_REPORT.csv')\n",
    "df = df[['date','keyword' ,'page', 'clicks' , 'impressions','position']]\n",
    "\n",
    "resultat = df.groupby(by='keyword', as_index=False).agg({'page': pd.Series.nunique})\n",
    "resultat = resultat.sort_values(by = 'page' , ascending=False , )\n",
    "#resultat.to_csv('resultat.csv')\n",
    "words = \"\"\n",
    "resultat = resultat.reset_index(drop=True)\n",
    "for i in range (1,100-1):\n",
    "    words = words +','+ resultat['keyword'][i]\n",
    "\n",
    "words = resultat['keyword'][0]  + words\n",
    "words"
   ]
  },
  {
   "cell_type": "code",
   "execution_count": null,
   "metadata": {},
   "outputs": [],
   "source": [
    "\n",
    "import streamlit as st\n",
    "from wordcloud import WordCloud\n",
    "import matplotlib.pyplot as plt\n",
    "\n",
    "# Create and generate a word cloud image:\n",
    "def create_wordcloud(topic):\n",
    "\n",
    "    # Create text\n",
    "    topic1 = 'law,contract,fees'\n",
    "    topic2 = 'students,school,exams'\n",
    "    topic3 = 'pastor,church,money,money1,money2,money3,money4,money5,money6,money7,money8,money9,money10,money11,money12,money13,money14,money15,money16,money17,money18,money19,money20'\n",
    "\n",
    "    if topic == 'topic1':\n",
    "        topic = topic1\n",
    "    elif topic == 'topic2':\n",
    "        topic = topic2\n",
    "    else:\n",
    "        topic = topic3\n",
    "\n",
    "    wordcloud = WordCloud().generate(topic)\n",
    "    return wordcloud\n",
    "\n",
    "st.write(\"###WORLD CLOUD \")\n",
    "\n",
    "            \n",
    "topic = st.selectbox('select topic',['topic1','topic2','topic3'])\n",
    "wordcloud = create_wordcloud(topic)\n",
    "# Display the generated image:\n",
    "fig, ax = plt.subplots(figsize = (12, 8))\n",
    "ax.imshow(wordcloud)\n",
    "plt.axis(\"off\")\n",
    "st.pyplot(fig)\n",
    "st.write(\"###END WORLD CLOUD \")\n",
    "           \n",
    "st.write(\"###choose features per table\")\n"
   ]
  },
  {
   "cell_type": "code",
   "execution_count": null,
   "metadata": {},
   "outputs": [],
   "source": []
  },
  {
   "cell_type": "code",
   "execution_count": null,
   "metadata": {},
   "outputs": [],
   "source": [
    "#########################################################################################\n",
    "            # Load data\n",
    "            st.title('covid_19_clean_complete')\n",
    "\n",
    "\n",
    "            DATA_URL = ('covid.csv')\n",
    "            @st.cache(allow_output_mutation=True)\n",
    "\n",
    "            def load_data():\n",
    "                data = pd.read_csv(DATA_URL)\n",
    "                data['date'] = pd.to_datetime(data['date'],format='%d/%m/%Y' ).dt.strftime('%Y-%m-%d')\n",
    "                return data\n",
    "\n",
    "            # Load rows of data into the dataframe.\n",
    "            df = load_data()\n",
    "            st.write(df)\n",
    "            ############################################################################################\n",
    "\n",
    "           \n",
    "            \n",
    "            ########################################################################################\n",
    "\n",
    "            \n",
    "\n",
    "            ########################################################################################\n",
    "            ### SELECTBOX widgets\n",
    "            metrics =['total_cases','new_cases','total_deaths','new_deaths','total_cases_per_million','new_cases_per_million','total_deaths_per_million','new_deaths_per_million','total_tests','new_tests','total_tests_per_thousand','new_tests_per_thousand']\n",
    "\n",
    "            cols = st.selectbox('Covid metric to view', metrics)\n",
    "\n",
    "            # let's ask the user which column should be used as Index\n",
    "            if cols in metrics:   \n",
    "                metric_to_show_in_covid_Layer = cols  \n",
    "\n",
    "            ########################################################################################\n",
    "            ## MAP\n",
    "\n",
    "            # Variable for date picker, default to Jan 1st 2020\n",
    "            date = datetime.date(2020,1,1)\n",
    "\n",
    "            # Set viewport for the deckgl map\n",
    "            view = pdk.ViewState(latitude=0, longitude=0, zoom=0.2,)\n",
    "\n",
    "            # Create the scatter plot layer\n",
    "            covidLayer = pdk.Layer(\n",
    "                    \"ScatterplotLayer\",\n",
    "                    data=df,\n",
    "                    pickable=False,\n",
    "                    opacity=0.3,\n",
    "                    stroked=True,\n",
    "                    filled=True,\n",
    "                    radius_scale=10,\n",
    "                    radius_min_pixels=5,\n",
    "                    radius_max_pixels=60,\n",
    "                    line_width_min_pixels=1,\n",
    "                    get_position=[\"Longitude\", \"Latitude\"],\n",
    "                    get_radius=metric_to_show_in_covid_Layer,\n",
    "                    get_fill_color=[252, 136, 3],\n",
    "                    get_line_color=[255,0,0],\n",
    "                    tooltip=\"test test\",\n",
    "                )\n",
    "\n",
    "\n",
    "\n",
    "            # Create the deck.gl map\n",
    "            r = pdk.Deck(\n",
    "                layers=[covidLayer],\n",
    "                initial_view_state=view,\n",
    "                map_style=\"mapbox://styles/mapbox/light-v10\",\n",
    "            )\n",
    "\n",
    "\n",
    "            # Create a subheading to display current date\n",
    "            subheading = st.subheader(\"\")\n",
    "\n",
    "            # Render the deck.gl map in the Streamlit app as a Pydeck chart \n",
    "            map = st.pydeck_chart(r)\n",
    "\n",
    "            # Update the maps and the subheading each day for 90 days\n",
    "            for i in range(0, 120, 1):\n",
    "                # Increment day by 1\n",
    "                date += datetime.timedelta(days=1)\n",
    "\n",
    "                # Update data in map layers\n",
    "                covidLayer.data = df[df['date'] == date.isoformat()]\n",
    "\n",
    "                # Update the deck.gl map\n",
    "                r.update()\n",
    "\n",
    "                # Render the map\n",
    "                map.pydeck_chart(r)\n",
    "\n",
    "                # Update the heading with current date\n",
    "                subheading.subheader(\"%s on : %s\" % (metric_to_show_in_covid_Layer, date.strftime(\"%B %d, %Y\")))\n",
    "                \n",
    "                # wait 0.1 second before go onto next day\n",
    "                time.sleep(0.05)\n"
   ]
  }
 ],
 "metadata": {
  "kernelspec": {
   "display_name": "Python 3.10.5 64-bit",
   "language": "python",
   "name": "python3"
  },
  "language_info": {
   "codemirror_mode": {
    "name": "ipython",
    "version": 3
   },
   "file_extension": ".py",
   "mimetype": "text/x-python",
   "name": "python",
   "nbconvert_exporter": "python",
   "pygments_lexer": "ipython3",
   "version": "3.10.5"
  },
  "orig_nbformat": 4,
  "vscode": {
   "interpreter": {
    "hash": "84772ebcf805e4086f7a8df73e1853252ba0e821ca594b3806848fee98d6510b"
   }
  }
 },
 "nbformat": 4,
 "nbformat_minor": 2
}
